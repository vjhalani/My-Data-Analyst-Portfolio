{
 "cells": [
  {
   "cell_type": "markdown",
   "metadata": {},
   "source": [
    "# Telecom Customer Churn"
   ]
  },
  {
   "cell_type": "markdown",
   "metadata": {},
   "source": [
    "### Attributes information\n",
    "**customerID:** customer ID\n",
    "\n",
    "**gender:**    Whether the customer is a male or a female\n",
    "\n",
    "**SeniorCitizen:**    Whether the customer is a senior citizen or not \n",
    "\n",
    "**Partner Whether:**    the customer has a partner or not \n",
    "\n",
    "**Dependents Whether** the customer has dependents or not\n",
    "\n",
    "**tenure:** Number of months the customer has stayed with the company \n",
    "\n",
    "**PhoneService:** Whether the customer has a phone service or not \n",
    "\n",
    "**MultipleLines:** Whether the customer has multiple lines or not \n",
    "\n",
    "**InternetService:** Customer’s internet service provider \n",
    "\n",
    "**OnlineSecurity:** Whether the customer has online security or not \n",
    "\n",
    "**OnlineBackup:** Whether the customer has online backup or not \n",
    "\n",
    "**DeviceProtection:** Whether the customer has device protection or not \n",
    "\n",
    "**TechSupport:** Whether the customer has tech support or not \n",
    "\n",
    "**StreamingTV:** Whether the customer has streaming TV or not \n",
    "\n",
    "**StreamingMovies:**    Whether the customer has streaming movies or not \n",
    "\n",
    "**PaymentMethod:** The customer’s payment method \n",
    "\n",
    "**Contract:** The contract term of the customer \n",
    "\n",
    "**PaperlessBilling:** Whether the customer has paperless billing or not \n",
    "\n",
    "**MonthlyCharges:** The amount charged to the customer monthly \n",
    "\n",
    "**TotalCharges:** The total amount charged to the customer \n",
    "\n",
    "**Churn Whether:** the customer churned or not"
   ]
  },
  {
   "cell_type": "markdown",
   "metadata": {},
   "source": [
    "# Importing necessary libraries"
   ]
  },
  {
   "cell_type": "code",
   "execution_count": 132,
   "metadata": {
    "executionInfo": {
     "elapsed": 3075,
     "status": "ok",
     "timestamp": 1685468213062,
     "user": {
      "displayName": "Aman Singh",
      "userId": "12858320181691589185"
     },
     "user_tz": -330
    },
    "id": "qzu0cFofbmxK"
   },
   "outputs": [],
   "source": [
    "import pandas as pd\n",
    "import numpy as np\n",
    "import matplotlib.pyplot as plt\n",
    "import seaborn as sns\n",
    "import warnings\n",
    "\n",
    "from sklearn.linear_model import LogisticRegression\n",
    "from sklearn.tree import DecisionTreeClassifier\n",
    "from sklearn.model_selection import GridSearchCV as gscv\n",
    "from sklearn.ensemble import RandomForestClassifier\n",
    "from xgboost import XGBClassifier\n",
    "from sklearn.naive_bayes import BernoulliNB\n",
    "from sklearn.svm import SVC\n",
    "from sklearn.ensemble import GradientBoostingClassifier\n",
    "from sklearn.ensemble import AdaBoostClassifier\n",
    "from sklearn.neighbors import KNeighborsClassifier\n",
    "from sklearn.ensemble import BaggingClassifier\n",
    "\n",
    "\n",
    "from imblearn.over_sampling import SMOTE\n",
    "from sklearn.preprocessing import StandardScaler\n",
    "from sklearn.model_selection import train_test_split\n",
    "from sklearn.metrics import accuracy_score, precision_score, recall_score, f1_score\n",
    "from sklearn.metrics import confusion_matrix, ConfusionMatrixDisplay,classification_report as cr\n",
    "\n",
    "import pickle"
   ]
  },
  {
   "cell_type": "code",
   "execution_count": 2,
   "metadata": {
    "executionInfo": {
     "elapsed": 33,
     "status": "ok",
     "timestamp": 1685468213066,
     "user": {
      "displayName": "Aman Singh",
      "userId": "12858320181691589185"
     },
     "user_tz": -330
    },
    "id": "5IHR4CEwb7bg"
   },
   "outputs": [],
   "source": [
    "warnings.filterwarnings('ignore')"
   ]
  },
  {
   "cell_type": "markdown",
   "metadata": {},
   "source": [
    "# Getting Data"
   ]
  },
  {
   "cell_type": "code",
   "execution_count": 3,
   "metadata": {
    "executionInfo": {
     "elapsed": 32,
     "status": "ok",
     "timestamp": 1685468213069,
     "user": {
      "displayName": "Aman Singh",
      "userId": "12858320181691589185"
     },
     "user_tz": -330
    },
    "id": "mGx0KsZIcCoE"
   },
   "outputs": [],
   "source": [
    "df = pd.read_csv(r\"C:\\Users\\jhala\\Desktop\\telco_custchurn\\Churn.csv\")"
   ]
  },
  {
   "cell_type": "code",
   "execution_count": 4,
   "metadata": {
    "colab": {
     "base_uri": "https://localhost:8080/",
     "height": 386
    },
    "executionInfo": {
     "elapsed": 32,
     "status": "ok",
     "timestamp": 1685468213071,
     "user": {
      "displayName": "Aman Singh",
      "userId": "12858320181691589185"
     },
     "user_tz": -330
    },
    "id": "RYhh_3JwcHIx",
    "outputId": "681f7e6f-e8d8-40b6-8b25-cca881d8ec1f"
   },
   "outputs": [
    {
     "data": {
      "text/html": [
       "<div>\n",
       "<style scoped>\n",
       "    .dataframe tbody tr th:only-of-type {\n",
       "        vertical-align: middle;\n",
       "    }\n",
       "\n",
       "    .dataframe tbody tr th {\n",
       "        vertical-align: top;\n",
       "    }\n",
       "\n",
       "    .dataframe thead th {\n",
       "        text-align: right;\n",
       "    }\n",
       "</style>\n",
       "<table border=\"1\" class=\"dataframe\">\n",
       "  <thead>\n",
       "    <tr style=\"text-align: right;\">\n",
       "      <th></th>\n",
       "      <th>customerID</th>\n",
       "      <th>gender</th>\n",
       "      <th>SeniorCitizen</th>\n",
       "      <th>Partner</th>\n",
       "      <th>Dependents</th>\n",
       "      <th>tenure</th>\n",
       "      <th>PhoneService</th>\n",
       "      <th>MultipleLines</th>\n",
       "      <th>InternetService</th>\n",
       "      <th>OnlineSecurity</th>\n",
       "      <th>...</th>\n",
       "      <th>DeviceProtection</th>\n",
       "      <th>TechSupport</th>\n",
       "      <th>StreamingTV</th>\n",
       "      <th>StreamingMovies</th>\n",
       "      <th>Contract</th>\n",
       "      <th>PaperlessBilling</th>\n",
       "      <th>PaymentMethod</th>\n",
       "      <th>MonthlyCharges</th>\n",
       "      <th>TotalCharges</th>\n",
       "      <th>Churn</th>\n",
       "    </tr>\n",
       "  </thead>\n",
       "  <tbody>\n",
       "    <tr>\n",
       "      <th>0</th>\n",
       "      <td>7590-VHVEG</td>\n",
       "      <td>Female</td>\n",
       "      <td>0</td>\n",
       "      <td>Yes</td>\n",
       "      <td>No</td>\n",
       "      <td>1</td>\n",
       "      <td>No</td>\n",
       "      <td>No phone service</td>\n",
       "      <td>DSL</td>\n",
       "      <td>No</td>\n",
       "      <td>...</td>\n",
       "      <td>No</td>\n",
       "      <td>No</td>\n",
       "      <td>No</td>\n",
       "      <td>No</td>\n",
       "      <td>Month-to-month</td>\n",
       "      <td>Yes</td>\n",
       "      <td>Electronic check</td>\n",
       "      <td>29.85</td>\n",
       "      <td>29.85</td>\n",
       "      <td>No</td>\n",
       "    </tr>\n",
       "    <tr>\n",
       "      <th>1</th>\n",
       "      <td>5575-GNVDE</td>\n",
       "      <td>Male</td>\n",
       "      <td>0</td>\n",
       "      <td>No</td>\n",
       "      <td>No</td>\n",
       "      <td>34</td>\n",
       "      <td>Yes</td>\n",
       "      <td>No</td>\n",
       "      <td>DSL</td>\n",
       "      <td>Yes</td>\n",
       "      <td>...</td>\n",
       "      <td>Yes</td>\n",
       "      <td>No</td>\n",
       "      <td>No</td>\n",
       "      <td>No</td>\n",
       "      <td>One year</td>\n",
       "      <td>No</td>\n",
       "      <td>Mailed check</td>\n",
       "      <td>56.95</td>\n",
       "      <td>1889.5</td>\n",
       "      <td>No</td>\n",
       "    </tr>\n",
       "    <tr>\n",
       "      <th>2</th>\n",
       "      <td>3668-QPYBK</td>\n",
       "      <td>Male</td>\n",
       "      <td>0</td>\n",
       "      <td>No</td>\n",
       "      <td>No</td>\n",
       "      <td>2</td>\n",
       "      <td>Yes</td>\n",
       "      <td>No</td>\n",
       "      <td>DSL</td>\n",
       "      <td>Yes</td>\n",
       "      <td>...</td>\n",
       "      <td>No</td>\n",
       "      <td>No</td>\n",
       "      <td>No</td>\n",
       "      <td>No</td>\n",
       "      <td>Month-to-month</td>\n",
       "      <td>Yes</td>\n",
       "      <td>Mailed check</td>\n",
       "      <td>53.85</td>\n",
       "      <td>108.15</td>\n",
       "      <td>Yes</td>\n",
       "    </tr>\n",
       "    <tr>\n",
       "      <th>3</th>\n",
       "      <td>7795-CFOCW</td>\n",
       "      <td>Male</td>\n",
       "      <td>0</td>\n",
       "      <td>No</td>\n",
       "      <td>No</td>\n",
       "      <td>45</td>\n",
       "      <td>No</td>\n",
       "      <td>No phone service</td>\n",
       "      <td>DSL</td>\n",
       "      <td>Yes</td>\n",
       "      <td>...</td>\n",
       "      <td>Yes</td>\n",
       "      <td>Yes</td>\n",
       "      <td>No</td>\n",
       "      <td>No</td>\n",
       "      <td>One year</td>\n",
       "      <td>No</td>\n",
       "      <td>Bank transfer (automatic)</td>\n",
       "      <td>42.30</td>\n",
       "      <td>1840.75</td>\n",
       "      <td>No</td>\n",
       "    </tr>\n",
       "    <tr>\n",
       "      <th>4</th>\n",
       "      <td>9237-HQITU</td>\n",
       "      <td>Female</td>\n",
       "      <td>0</td>\n",
       "      <td>No</td>\n",
       "      <td>No</td>\n",
       "      <td>2</td>\n",
       "      <td>Yes</td>\n",
       "      <td>No</td>\n",
       "      <td>Fiber optic</td>\n",
       "      <td>No</td>\n",
       "      <td>...</td>\n",
       "      <td>No</td>\n",
       "      <td>No</td>\n",
       "      <td>No</td>\n",
       "      <td>No</td>\n",
       "      <td>Month-to-month</td>\n",
       "      <td>Yes</td>\n",
       "      <td>Electronic check</td>\n",
       "      <td>70.70</td>\n",
       "      <td>151.65</td>\n",
       "      <td>Yes</td>\n",
       "    </tr>\n",
       "  </tbody>\n",
       "</table>\n",
       "<p>5 rows × 21 columns</p>\n",
       "</div>"
      ],
      "text/plain": [
       "   customerID  gender  SeniorCitizen Partner Dependents  tenure PhoneService  \\\n",
       "0  7590-VHVEG  Female              0     Yes         No       1           No   \n",
       "1  5575-GNVDE    Male              0      No         No      34          Yes   \n",
       "2  3668-QPYBK    Male              0      No         No       2          Yes   \n",
       "3  7795-CFOCW    Male              0      No         No      45           No   \n",
       "4  9237-HQITU  Female              0      No         No       2          Yes   \n",
       "\n",
       "      MultipleLines InternetService OnlineSecurity  ... DeviceProtection  \\\n",
       "0  No phone service             DSL             No  ...               No   \n",
       "1                No             DSL            Yes  ...              Yes   \n",
       "2                No             DSL            Yes  ...               No   \n",
       "3  No phone service             DSL            Yes  ...              Yes   \n",
       "4                No     Fiber optic             No  ...               No   \n",
       "\n",
       "  TechSupport StreamingTV StreamingMovies        Contract PaperlessBilling  \\\n",
       "0          No          No              No  Month-to-month              Yes   \n",
       "1          No          No              No        One year               No   \n",
       "2          No          No              No  Month-to-month              Yes   \n",
       "3         Yes          No              No        One year               No   \n",
       "4          No          No              No  Month-to-month              Yes   \n",
       "\n",
       "               PaymentMethod MonthlyCharges  TotalCharges Churn  \n",
       "0           Electronic check          29.85         29.85    No  \n",
       "1               Mailed check          56.95        1889.5    No  \n",
       "2               Mailed check          53.85        108.15   Yes  \n",
       "3  Bank transfer (automatic)          42.30       1840.75    No  \n",
       "4           Electronic check          70.70        151.65   Yes  \n",
       "\n",
       "[5 rows x 21 columns]"
      ]
     },
     "execution_count": 4,
     "metadata": {},
     "output_type": "execute_result"
    }
   ],
   "source": [
    "df.head()"
   ]
  },
  {
   "cell_type": "markdown",
   "metadata": {
    "id": "-6eF47q9eJWT"
   },
   "source": [
    "# 1. Data Cleaning"
   ]
  },
  {
   "cell_type": "markdown",
   "metadata": {
    "id": "9jdLXs4TcTg7"
   },
   "source": [
    "# * Shape"
   ]
  },
  {
   "cell_type": "code",
   "execution_count": 5,
   "metadata": {
    "colab": {
     "base_uri": "https://localhost:8080/"
    },
    "executionInfo": {
     "elapsed": 14,
     "status": "ok",
     "timestamp": 1685468218344,
     "user": {
      "displayName": "Aman Singh",
      "userId": "12858320181691589185"
     },
     "user_tz": -330
    },
    "id": "YhfC1kK2cH75",
    "outputId": "98c580e5-2d60-4088-807b-c868b1be48a6"
   },
   "outputs": [
    {
     "data": {
      "text/plain": [
       "(7043, 21)"
      ]
     },
     "execution_count": 5,
     "metadata": {},
     "output_type": "execute_result"
    }
   ],
   "source": [
    "df.shape"
   ]
  },
  {
   "cell_type": "markdown",
   "metadata": {
    "id": "8qBVyoRscaAr"
   },
   "source": [
    "* Number of Rows = 7043\n",
    "* Number of columns = 21"
   ]
  },
  {
   "cell_type": "markdown",
   "metadata": {
    "id": "6069c8cdeU7B"
   },
   "source": [
    "# * Renaming columns"
   ]
  },
  {
   "cell_type": "code",
   "execution_count": 6,
   "metadata": {
    "colab": {
     "base_uri": "https://localhost:8080/"
    },
    "executionInfo": {
     "elapsed": 9,
     "status": "ok",
     "timestamp": 1685468218344,
     "user": {
      "displayName": "Aman Singh",
      "userId": "12858320181691589185"
     },
     "user_tz": -330
    },
    "id": "p_5GaXU0eeqK",
    "outputId": "495849ec-6b71-4a95-f5fd-14bed67aa66a"
   },
   "outputs": [
    {
     "data": {
      "text/plain": [
       "Index(['customerID', 'gender', 'SeniorCitizen', 'Partner', 'Dependents',\n",
       "       'tenure', 'PhoneService', 'MultipleLines', 'InternetService',\n",
       "       'OnlineSecurity', 'OnlineBackup', 'DeviceProtection', 'TechSupport',\n",
       "       'StreamingTV', 'StreamingMovies', 'Contract', 'PaperlessBilling',\n",
       "       'PaymentMethod', 'MonthlyCharges', 'TotalCharges', 'Churn'],\n",
       "      dtype='object')"
      ]
     },
     "execution_count": 6,
     "metadata": {},
     "output_type": "execute_result"
    }
   ],
   "source": [
    "df.columns"
   ]
  },
  {
   "cell_type": "code",
   "execution_count": 7,
   "metadata": {
    "executionInfo": {
     "elapsed": 12,
     "status": "ok",
     "timestamp": 1685468220013,
     "user": {
      "displayName": "Aman Singh",
      "userId": "12858320181691589185"
     },
     "user_tz": -330
    },
    "id": "zdc7D8RjeVWF"
   },
   "outputs": [],
   "source": [
    "df.rename(columns = {'customerID': 'ID', 'SeniorCitizen': 'senior_citizen', 'Partner': 'married', 'Dependents': 'dependents',\n",
    "                     'PhoneService': 'phone_service', 'MultipleLines': 'multiple_lines', 'InternetService': 'internet',\n",
    "                     'OnlineSecurity': 'online_security', 'OnlineBackup': 'online_backup', 'DeviceProtection': 'device_protection',\n",
    "                     'TechSupport': 'tech_support', 'StreamingTV': 'stream_TV', 'StreamingMovies': 'stream_movies', 'Contract': 'contract',\n",
    "                     'PaperlessBilling': 'paperless_billing', 'PaymentMethod': 'payment_mode','MonthlyCharges': 'monthly_charges',\n",
    "                     'TotalCharges': 'total_charges', 'Churn': 'churn'}, inplace = True)"
   ]
  },
  {
   "cell_type": "code",
   "execution_count": 8,
   "metadata": {
    "colab": {
     "base_uri": "https://localhost:8080/"
    },
    "executionInfo": {
     "elapsed": 10,
     "status": "ok",
     "timestamp": 1685468222454,
     "user": {
      "displayName": "Aman Singh",
      "userId": "12858320181691589185"
     },
     "user_tz": -330
    },
    "id": "h9LOkKQAgpal",
    "outputId": "633b0393-feff-451f-8c26-bd8762bce7fe"
   },
   "outputs": [
    {
     "data": {
      "text/plain": [
       "Index(['ID', 'gender', 'senior_citizen', 'married', 'dependents', 'tenure',\n",
       "       'phone_service', 'multiple_lines', 'internet', 'online_security',\n",
       "       'online_backup', 'device_protection', 'tech_support', 'stream_TV',\n",
       "       'stream_movies', 'contract', 'paperless_billing', 'payment_mode',\n",
       "       'monthly_charges', 'total_charges', 'churn'],\n",
       "      dtype='object')"
      ]
     },
     "execution_count": 8,
     "metadata": {},
     "output_type": "execute_result"
    }
   ],
   "source": [
    "df.columns"
   ]
  },
  {
   "cell_type": "markdown",
   "metadata": {
    "id": "H4KPJ3dvclAi"
   },
   "source": [
    "# Datatypes"
   ]
  },
  {
   "cell_type": "code",
   "execution_count": 9,
   "metadata": {
    "colab": {
     "base_uri": "https://localhost:8080/"
    },
    "executionInfo": {
     "elapsed": 595,
     "status": "ok",
     "timestamp": 1685468387546,
     "user": {
      "displayName": "Aman Singh",
      "userId": "12858320181691589185"
     },
     "user_tz": -330
    },
    "id": "V9FKDWcvcYWP",
    "outputId": "c4c47101-2e65-4aeb-b385-0710e09a8f7f"
   },
   "outputs": [
    {
     "data": {
      "text/plain": [
       "ID                    object\n",
       "gender                object\n",
       "senior_citizen         int64\n",
       "married               object\n",
       "dependents            object\n",
       "tenure                 int64\n",
       "phone_service         object\n",
       "multiple_lines        object\n",
       "internet              object\n",
       "online_security       object\n",
       "online_backup         object\n",
       "device_protection     object\n",
       "tech_support          object\n",
       "stream_TV             object\n",
       "stream_movies         object\n",
       "contract              object\n",
       "paperless_billing     object\n",
       "payment_mode          object\n",
       "monthly_charges      float64\n",
       "total_charges         object\n",
       "churn                 object\n",
       "dtype: object"
      ]
     },
     "execution_count": 9,
     "metadata": {},
     "output_type": "execute_result"
    }
   ],
   "source": [
    "df.dtypes"
   ]
  },
  {
   "cell_type": "markdown",
   "metadata": {
    "id": "sRL9nuxGeGKC"
   },
   "source": [
    "* Total Charges should be numeric amount. Let's convert it to numerical data type.\n",
    "\n",
    "* Senior Citizen is a categorical columns."
   ]
  },
  {
   "cell_type": "code",
   "execution_count": 10,
   "metadata": {
    "executionInfo": {
     "elapsed": 6,
     "status": "ok",
     "timestamp": 1685468393006,
     "user": {
      "displayName": "Aman Singh",
      "userId": "12858320181691589185"
     },
     "user_tz": -330
    },
    "id": "gh2pLHr8hBeW"
   },
   "outputs": [],
   "source": [
    "df['total_charges'] = pd.to_numeric(df['total_charges'], errors = 'coerce')\n",
    "df['senior_citizen'] = df['senior_citizen'].astype('object')"
   ]
  },
  {
   "cell_type": "code",
   "execution_count": 11,
   "metadata": {
    "colab": {
     "base_uri": "https://localhost:8080/"
    },
    "executionInfo": {
     "elapsed": 8,
     "status": "ok",
     "timestamp": 1685468393820,
     "user": {
      "displayName": "Aman Singh",
      "userId": "12858320181691589185"
     },
     "user_tz": -330
    },
    "id": "chp7faQsimRp",
    "outputId": "17d700ac-6abf-4657-8956-930732abce66"
   },
   "outputs": [
    {
     "name": "stdout",
     "output_type": "stream",
     "text": [
      "float64\n",
      "object\n"
     ]
    }
   ],
   "source": [
    "print(df['total_charges'].dtypes)\n",
    "print(df['senior_citizen'].dtypes)"
   ]
  },
  {
   "cell_type": "code",
   "execution_count": 12,
   "metadata": {
    "colab": {
     "base_uri": "https://localhost:8080/",
     "height": 300
    },
    "executionInfo": {
     "elapsed": 14,
     "status": "ok",
     "timestamp": 1685468396236,
     "user": {
      "displayName": "Aman Singh",
      "userId": "12858320181691589185"
     },
     "user_tz": -330
    },
    "id": "ewFa6ha0vlWD",
    "outputId": "02df0b15-bd45-4345-bf4d-64c70ab3e23f"
   },
   "outputs": [
    {
     "data": {
      "text/html": [
       "<div>\n",
       "<style scoped>\n",
       "    .dataframe tbody tr th:only-of-type {\n",
       "        vertical-align: middle;\n",
       "    }\n",
       "\n",
       "    .dataframe tbody tr th {\n",
       "        vertical-align: top;\n",
       "    }\n",
       "\n",
       "    .dataframe thead th {\n",
       "        text-align: right;\n",
       "    }\n",
       "</style>\n",
       "<table border=\"1\" class=\"dataframe\">\n",
       "  <thead>\n",
       "    <tr style=\"text-align: right;\">\n",
       "      <th></th>\n",
       "      <th>tenure</th>\n",
       "      <th>monthly_charges</th>\n",
       "      <th>total_charges</th>\n",
       "    </tr>\n",
       "  </thead>\n",
       "  <tbody>\n",
       "    <tr>\n",
       "      <th>count</th>\n",
       "      <td>7043.000000</td>\n",
       "      <td>7043.000000</td>\n",
       "      <td>7032.000000</td>\n",
       "    </tr>\n",
       "    <tr>\n",
       "      <th>mean</th>\n",
       "      <td>32.371149</td>\n",
       "      <td>64.761692</td>\n",
       "      <td>2283.300441</td>\n",
       "    </tr>\n",
       "    <tr>\n",
       "      <th>std</th>\n",
       "      <td>24.559481</td>\n",
       "      <td>30.090047</td>\n",
       "      <td>2266.771362</td>\n",
       "    </tr>\n",
       "    <tr>\n",
       "      <th>min</th>\n",
       "      <td>0.000000</td>\n",
       "      <td>18.250000</td>\n",
       "      <td>18.800000</td>\n",
       "    </tr>\n",
       "    <tr>\n",
       "      <th>25%</th>\n",
       "      <td>9.000000</td>\n",
       "      <td>35.500000</td>\n",
       "      <td>401.450000</td>\n",
       "    </tr>\n",
       "    <tr>\n",
       "      <th>50%</th>\n",
       "      <td>29.000000</td>\n",
       "      <td>70.350000</td>\n",
       "      <td>1397.475000</td>\n",
       "    </tr>\n",
       "    <tr>\n",
       "      <th>75%</th>\n",
       "      <td>55.000000</td>\n",
       "      <td>89.850000</td>\n",
       "      <td>3794.737500</td>\n",
       "    </tr>\n",
       "    <tr>\n",
       "      <th>max</th>\n",
       "      <td>72.000000</td>\n",
       "      <td>118.750000</td>\n",
       "      <td>8684.800000</td>\n",
       "    </tr>\n",
       "  </tbody>\n",
       "</table>\n",
       "</div>"
      ],
      "text/plain": [
       "            tenure  monthly_charges  total_charges\n",
       "count  7043.000000      7043.000000    7032.000000\n",
       "mean     32.371149        64.761692    2283.300441\n",
       "std      24.559481        30.090047    2266.771362\n",
       "min       0.000000        18.250000      18.800000\n",
       "25%       9.000000        35.500000     401.450000\n",
       "50%      29.000000        70.350000    1397.475000\n",
       "75%      55.000000        89.850000    3794.737500\n",
       "max      72.000000       118.750000    8684.800000"
      ]
     },
     "execution_count": 12,
     "metadata": {},
     "output_type": "execute_result"
    }
   ],
   "source": [
    "df.describe()"
   ]
  },
  {
   "cell_type": "markdown",
   "metadata": {
    "id": "WMbwBb0ovu87"
   },
   "source": [
    "Tenure: \n",
    "\n",
    "* Maximum tenure: 72 months\n",
    "\n",
    "* Average tenure: 32 months\n",
    "\n",
    "Monthly_charges:\n",
    "\n",
    "* Maximum monthly charge = 118.75\n",
    "\n",
    "* Minimum monthly charge = 18.25\n",
    "\n",
    "Total Charges:\n",
    "\n",
    "* Maximum total charges = 8684.80\n",
    "\n",
    "* Minimum total charges = 18.80"
   ]
  },
  {
   "cell_type": "markdown",
   "metadata": {
    "id": "Y9yHKitzjkBO"
   },
   "source": [
    "# Check Missing Values"
   ]
  },
  {
   "cell_type": "code",
   "execution_count": 13,
   "metadata": {
    "colab": {
     "base_uri": "https://localhost:8080/"
    },
    "executionInfo": {
     "elapsed": 55,
     "status": "ok",
     "timestamp": 1685291925641,
     "user": {
      "displayName": "Aman Singh",
      "userId": "12858320181691589185"
     },
     "user_tz": -330
    },
    "id": "DX4SMkeZjjkL",
    "outputId": "8aa746a3-b7fe-4bf1-b42e-0e9ac741dce1"
   },
   "outputs": [
    {
     "data": {
      "text/plain": [
       "ID                    0\n",
       "gender                0\n",
       "senior_citizen        0\n",
       "married               0\n",
       "dependents            0\n",
       "tenure                0\n",
       "phone_service         0\n",
       "multiple_lines        0\n",
       "internet              0\n",
       "online_security       0\n",
       "online_backup         0\n",
       "device_protection     0\n",
       "tech_support          0\n",
       "stream_TV             0\n",
       "stream_movies         0\n",
       "contract              0\n",
       "paperless_billing     0\n",
       "payment_mode          0\n",
       "monthly_charges       0\n",
       "total_charges        11\n",
       "churn                 0\n",
       "dtype: int64"
      ]
     },
     "execution_count": 13,
     "metadata": {},
     "output_type": "execute_result"
    }
   ],
   "source": [
    "df.isnull().sum()"
   ]
  },
  {
   "cell_type": "markdown",
   "metadata": {
    "id": "WoSHDbnfjtpO"
   },
   "source": [
    "* There are 11 missing values in total_charges."
   ]
  },
  {
   "cell_type": "code",
   "execution_count": 14,
   "metadata": {
    "colab": {
     "base_uri": "https://localhost:8080/"
    },
    "executionInfo": {
     "elapsed": 51,
     "status": "ok",
     "timestamp": 1685291925641,
     "user": {
      "displayName": "Aman Singh",
      "userId": "12858320181691589185"
     },
     "user_tz": -330
    },
    "id": "a6Sc1kQriySV",
    "outputId": "5408153a-09af-4d02-b399-766d5376645c"
   },
   "outputs": [
    {
     "data": {
      "text/plain": [
       "0.1561834445548772"
      ]
     },
     "execution_count": 14,
     "metadata": {},
     "output_type": "execute_result"
    }
   ],
   "source": [
    "null_percent = (df['total_charges'].isnull().sum()/df['total_charges'].shape[0]) * 100\n",
    "null_percent"
   ]
  },
  {
   "cell_type": "markdown",
   "metadata": {
    "id": "YntWU0idkQur"
   },
   "source": [
    "* Since only 0.15% data have null values. We can remove these data from the dataset."
   ]
  },
  {
   "cell_type": "code",
   "execution_count": 15,
   "metadata": {
    "colab": {
     "base_uri": "https://localhost:8080/",
     "height": 678
    },
    "executionInfo": {
     "elapsed": 48,
     "status": "ok",
     "timestamp": 1685291925642,
     "user": {
      "displayName": "Aman Singh",
      "userId": "12858320181691589185"
     },
     "user_tz": -330
    },
    "id": "BlzbHcCUkOZZ",
    "outputId": "ee0f6e9d-f3d3-49ae-bffe-74b79344ee80"
   },
   "outputs": [
    {
     "data": {
      "text/html": [
       "<div>\n",
       "<style scoped>\n",
       "    .dataframe tbody tr th:only-of-type {\n",
       "        vertical-align: middle;\n",
       "    }\n",
       "\n",
       "    .dataframe tbody tr th {\n",
       "        vertical-align: top;\n",
       "    }\n",
       "\n",
       "    .dataframe thead th {\n",
       "        text-align: right;\n",
       "    }\n",
       "</style>\n",
       "<table border=\"1\" class=\"dataframe\">\n",
       "  <thead>\n",
       "    <tr style=\"text-align: right;\">\n",
       "      <th></th>\n",
       "      <th>ID</th>\n",
       "      <th>gender</th>\n",
       "      <th>senior_citizen</th>\n",
       "      <th>married</th>\n",
       "      <th>dependents</th>\n",
       "      <th>tenure</th>\n",
       "      <th>phone_service</th>\n",
       "      <th>multiple_lines</th>\n",
       "      <th>internet</th>\n",
       "      <th>online_security</th>\n",
       "      <th>...</th>\n",
       "      <th>device_protection</th>\n",
       "      <th>tech_support</th>\n",
       "      <th>stream_TV</th>\n",
       "      <th>stream_movies</th>\n",
       "      <th>contract</th>\n",
       "      <th>paperless_billing</th>\n",
       "      <th>payment_mode</th>\n",
       "      <th>monthly_charges</th>\n",
       "      <th>total_charges</th>\n",
       "      <th>churn</th>\n",
       "    </tr>\n",
       "  </thead>\n",
       "  <tbody>\n",
       "    <tr>\n",
       "      <th>488</th>\n",
       "      <td>4472-LVYGI</td>\n",
       "      <td>Female</td>\n",
       "      <td>0</td>\n",
       "      <td>Yes</td>\n",
       "      <td>Yes</td>\n",
       "      <td>0</td>\n",
       "      <td>No</td>\n",
       "      <td>No phone service</td>\n",
       "      <td>DSL</td>\n",
       "      <td>Yes</td>\n",
       "      <td>...</td>\n",
       "      <td>Yes</td>\n",
       "      <td>Yes</td>\n",
       "      <td>Yes</td>\n",
       "      <td>No</td>\n",
       "      <td>Two year</td>\n",
       "      <td>Yes</td>\n",
       "      <td>Bank transfer (automatic)</td>\n",
       "      <td>52.55</td>\n",
       "      <td>NaN</td>\n",
       "      <td>No</td>\n",
       "    </tr>\n",
       "    <tr>\n",
       "      <th>753</th>\n",
       "      <td>3115-CZMZD</td>\n",
       "      <td>Male</td>\n",
       "      <td>0</td>\n",
       "      <td>No</td>\n",
       "      <td>Yes</td>\n",
       "      <td>0</td>\n",
       "      <td>Yes</td>\n",
       "      <td>No</td>\n",
       "      <td>No</td>\n",
       "      <td>No internet service</td>\n",
       "      <td>...</td>\n",
       "      <td>No internet service</td>\n",
       "      <td>No internet service</td>\n",
       "      <td>No internet service</td>\n",
       "      <td>No internet service</td>\n",
       "      <td>Two year</td>\n",
       "      <td>No</td>\n",
       "      <td>Mailed check</td>\n",
       "      <td>20.25</td>\n",
       "      <td>NaN</td>\n",
       "      <td>No</td>\n",
       "    </tr>\n",
       "    <tr>\n",
       "      <th>936</th>\n",
       "      <td>5709-LVOEQ</td>\n",
       "      <td>Female</td>\n",
       "      <td>0</td>\n",
       "      <td>Yes</td>\n",
       "      <td>Yes</td>\n",
       "      <td>0</td>\n",
       "      <td>Yes</td>\n",
       "      <td>No</td>\n",
       "      <td>DSL</td>\n",
       "      <td>Yes</td>\n",
       "      <td>...</td>\n",
       "      <td>Yes</td>\n",
       "      <td>No</td>\n",
       "      <td>Yes</td>\n",
       "      <td>Yes</td>\n",
       "      <td>Two year</td>\n",
       "      <td>No</td>\n",
       "      <td>Mailed check</td>\n",
       "      <td>80.85</td>\n",
       "      <td>NaN</td>\n",
       "      <td>No</td>\n",
       "    </tr>\n",
       "    <tr>\n",
       "      <th>1082</th>\n",
       "      <td>4367-NUYAO</td>\n",
       "      <td>Male</td>\n",
       "      <td>0</td>\n",
       "      <td>Yes</td>\n",
       "      <td>Yes</td>\n",
       "      <td>0</td>\n",
       "      <td>Yes</td>\n",
       "      <td>Yes</td>\n",
       "      <td>No</td>\n",
       "      <td>No internet service</td>\n",
       "      <td>...</td>\n",
       "      <td>No internet service</td>\n",
       "      <td>No internet service</td>\n",
       "      <td>No internet service</td>\n",
       "      <td>No internet service</td>\n",
       "      <td>Two year</td>\n",
       "      <td>No</td>\n",
       "      <td>Mailed check</td>\n",
       "      <td>25.75</td>\n",
       "      <td>NaN</td>\n",
       "      <td>No</td>\n",
       "    </tr>\n",
       "    <tr>\n",
       "      <th>1340</th>\n",
       "      <td>1371-DWPAZ</td>\n",
       "      <td>Female</td>\n",
       "      <td>0</td>\n",
       "      <td>Yes</td>\n",
       "      <td>Yes</td>\n",
       "      <td>0</td>\n",
       "      <td>No</td>\n",
       "      <td>No phone service</td>\n",
       "      <td>DSL</td>\n",
       "      <td>Yes</td>\n",
       "      <td>...</td>\n",
       "      <td>Yes</td>\n",
       "      <td>Yes</td>\n",
       "      <td>Yes</td>\n",
       "      <td>No</td>\n",
       "      <td>Two year</td>\n",
       "      <td>No</td>\n",
       "      <td>Credit card (automatic)</td>\n",
       "      <td>56.05</td>\n",
       "      <td>NaN</td>\n",
       "      <td>No</td>\n",
       "    </tr>\n",
       "    <tr>\n",
       "      <th>3331</th>\n",
       "      <td>7644-OMVMY</td>\n",
       "      <td>Male</td>\n",
       "      <td>0</td>\n",
       "      <td>Yes</td>\n",
       "      <td>Yes</td>\n",
       "      <td>0</td>\n",
       "      <td>Yes</td>\n",
       "      <td>No</td>\n",
       "      <td>No</td>\n",
       "      <td>No internet service</td>\n",
       "      <td>...</td>\n",
       "      <td>No internet service</td>\n",
       "      <td>No internet service</td>\n",
       "      <td>No internet service</td>\n",
       "      <td>No internet service</td>\n",
       "      <td>Two year</td>\n",
       "      <td>No</td>\n",
       "      <td>Mailed check</td>\n",
       "      <td>19.85</td>\n",
       "      <td>NaN</td>\n",
       "      <td>No</td>\n",
       "    </tr>\n",
       "    <tr>\n",
       "      <th>3826</th>\n",
       "      <td>3213-VVOLG</td>\n",
       "      <td>Male</td>\n",
       "      <td>0</td>\n",
       "      <td>Yes</td>\n",
       "      <td>Yes</td>\n",
       "      <td>0</td>\n",
       "      <td>Yes</td>\n",
       "      <td>Yes</td>\n",
       "      <td>No</td>\n",
       "      <td>No internet service</td>\n",
       "      <td>...</td>\n",
       "      <td>No internet service</td>\n",
       "      <td>No internet service</td>\n",
       "      <td>No internet service</td>\n",
       "      <td>No internet service</td>\n",
       "      <td>Two year</td>\n",
       "      <td>No</td>\n",
       "      <td>Mailed check</td>\n",
       "      <td>25.35</td>\n",
       "      <td>NaN</td>\n",
       "      <td>No</td>\n",
       "    </tr>\n",
       "    <tr>\n",
       "      <th>4380</th>\n",
       "      <td>2520-SGTTA</td>\n",
       "      <td>Female</td>\n",
       "      <td>0</td>\n",
       "      <td>Yes</td>\n",
       "      <td>Yes</td>\n",
       "      <td>0</td>\n",
       "      <td>Yes</td>\n",
       "      <td>No</td>\n",
       "      <td>No</td>\n",
       "      <td>No internet service</td>\n",
       "      <td>...</td>\n",
       "      <td>No internet service</td>\n",
       "      <td>No internet service</td>\n",
       "      <td>No internet service</td>\n",
       "      <td>No internet service</td>\n",
       "      <td>Two year</td>\n",
       "      <td>No</td>\n",
       "      <td>Mailed check</td>\n",
       "      <td>20.00</td>\n",
       "      <td>NaN</td>\n",
       "      <td>No</td>\n",
       "    </tr>\n",
       "    <tr>\n",
       "      <th>5218</th>\n",
       "      <td>2923-ARZLG</td>\n",
       "      <td>Male</td>\n",
       "      <td>0</td>\n",
       "      <td>Yes</td>\n",
       "      <td>Yes</td>\n",
       "      <td>0</td>\n",
       "      <td>Yes</td>\n",
       "      <td>No</td>\n",
       "      <td>No</td>\n",
       "      <td>No internet service</td>\n",
       "      <td>...</td>\n",
       "      <td>No internet service</td>\n",
       "      <td>No internet service</td>\n",
       "      <td>No internet service</td>\n",
       "      <td>No internet service</td>\n",
       "      <td>One year</td>\n",
       "      <td>Yes</td>\n",
       "      <td>Mailed check</td>\n",
       "      <td>19.70</td>\n",
       "      <td>NaN</td>\n",
       "      <td>No</td>\n",
       "    </tr>\n",
       "    <tr>\n",
       "      <th>6670</th>\n",
       "      <td>4075-WKNIU</td>\n",
       "      <td>Female</td>\n",
       "      <td>0</td>\n",
       "      <td>Yes</td>\n",
       "      <td>Yes</td>\n",
       "      <td>0</td>\n",
       "      <td>Yes</td>\n",
       "      <td>Yes</td>\n",
       "      <td>DSL</td>\n",
       "      <td>No</td>\n",
       "      <td>...</td>\n",
       "      <td>Yes</td>\n",
       "      <td>Yes</td>\n",
       "      <td>Yes</td>\n",
       "      <td>No</td>\n",
       "      <td>Two year</td>\n",
       "      <td>No</td>\n",
       "      <td>Mailed check</td>\n",
       "      <td>73.35</td>\n",
       "      <td>NaN</td>\n",
       "      <td>No</td>\n",
       "    </tr>\n",
       "    <tr>\n",
       "      <th>6754</th>\n",
       "      <td>2775-SEFEE</td>\n",
       "      <td>Male</td>\n",
       "      <td>0</td>\n",
       "      <td>No</td>\n",
       "      <td>Yes</td>\n",
       "      <td>0</td>\n",
       "      <td>Yes</td>\n",
       "      <td>Yes</td>\n",
       "      <td>DSL</td>\n",
       "      <td>Yes</td>\n",
       "      <td>...</td>\n",
       "      <td>No</td>\n",
       "      <td>Yes</td>\n",
       "      <td>No</td>\n",
       "      <td>No</td>\n",
       "      <td>Two year</td>\n",
       "      <td>Yes</td>\n",
       "      <td>Bank transfer (automatic)</td>\n",
       "      <td>61.90</td>\n",
       "      <td>NaN</td>\n",
       "      <td>No</td>\n",
       "    </tr>\n",
       "  </tbody>\n",
       "</table>\n",
       "<p>11 rows × 21 columns</p>\n",
       "</div>"
      ],
      "text/plain": [
       "              ID  gender senior_citizen married dependents  tenure  \\\n",
       "488   4472-LVYGI  Female              0     Yes        Yes       0   \n",
       "753   3115-CZMZD    Male              0      No        Yes       0   \n",
       "936   5709-LVOEQ  Female              0     Yes        Yes       0   \n",
       "1082  4367-NUYAO    Male              0     Yes        Yes       0   \n",
       "1340  1371-DWPAZ  Female              0     Yes        Yes       0   \n",
       "3331  7644-OMVMY    Male              0     Yes        Yes       0   \n",
       "3826  3213-VVOLG    Male              0     Yes        Yes       0   \n",
       "4380  2520-SGTTA  Female              0     Yes        Yes       0   \n",
       "5218  2923-ARZLG    Male              0     Yes        Yes       0   \n",
       "6670  4075-WKNIU  Female              0     Yes        Yes       0   \n",
       "6754  2775-SEFEE    Male              0      No        Yes       0   \n",
       "\n",
       "     phone_service    multiple_lines internet      online_security  ...  \\\n",
       "488             No  No phone service      DSL                  Yes  ...   \n",
       "753            Yes                No       No  No internet service  ...   \n",
       "936            Yes                No      DSL                  Yes  ...   \n",
       "1082           Yes               Yes       No  No internet service  ...   \n",
       "1340            No  No phone service      DSL                  Yes  ...   \n",
       "3331           Yes                No       No  No internet service  ...   \n",
       "3826           Yes               Yes       No  No internet service  ...   \n",
       "4380           Yes                No       No  No internet service  ...   \n",
       "5218           Yes                No       No  No internet service  ...   \n",
       "6670           Yes               Yes      DSL                   No  ...   \n",
       "6754           Yes               Yes      DSL                  Yes  ...   \n",
       "\n",
       "        device_protection         tech_support            stream_TV  \\\n",
       "488                   Yes                  Yes                  Yes   \n",
       "753   No internet service  No internet service  No internet service   \n",
       "936                   Yes                   No                  Yes   \n",
       "1082  No internet service  No internet service  No internet service   \n",
       "1340                  Yes                  Yes                  Yes   \n",
       "3331  No internet service  No internet service  No internet service   \n",
       "3826  No internet service  No internet service  No internet service   \n",
       "4380  No internet service  No internet service  No internet service   \n",
       "5218  No internet service  No internet service  No internet service   \n",
       "6670                  Yes                  Yes                  Yes   \n",
       "6754                   No                  Yes                   No   \n",
       "\n",
       "            stream_movies  contract paperless_billing  \\\n",
       "488                    No  Two year               Yes   \n",
       "753   No internet service  Two year                No   \n",
       "936                   Yes  Two year                No   \n",
       "1082  No internet service  Two year                No   \n",
       "1340                   No  Two year                No   \n",
       "3331  No internet service  Two year                No   \n",
       "3826  No internet service  Two year                No   \n",
       "4380  No internet service  Two year                No   \n",
       "5218  No internet service  One year               Yes   \n",
       "6670                   No  Two year                No   \n",
       "6754                   No  Two year               Yes   \n",
       "\n",
       "                   payment_mode monthly_charges  total_charges  churn  \n",
       "488   Bank transfer (automatic)           52.55            NaN     No  \n",
       "753                Mailed check           20.25            NaN     No  \n",
       "936                Mailed check           80.85            NaN     No  \n",
       "1082               Mailed check           25.75            NaN     No  \n",
       "1340    Credit card (automatic)           56.05            NaN     No  \n",
       "3331               Mailed check           19.85            NaN     No  \n",
       "3826               Mailed check           25.35            NaN     No  \n",
       "4380               Mailed check           20.00            NaN     No  \n",
       "5218               Mailed check           19.70            NaN     No  \n",
       "6670               Mailed check           73.35            NaN     No  \n",
       "6754  Bank transfer (automatic)           61.90            NaN     No  \n",
       "\n",
       "[11 rows x 21 columns]"
      ]
     },
     "execution_count": 15,
     "metadata": {},
     "output_type": "execute_result"
    }
   ],
   "source": [
    "df[df['total_charges'].isnull() == True]"
   ]
  },
  {
   "cell_type": "code",
   "execution_count": 16,
   "metadata": {
    "id": "s_q2un6XkxGh"
   },
   "outputs": [],
   "source": [
    "df.dropna(inplace = True)\n",
    "df.reset_index(inplace = True)"
   ]
  },
  {
   "cell_type": "code",
   "execution_count": 17,
   "metadata": {
    "id": "r2hR4oTQl-tH"
   },
   "outputs": [],
   "source": [
    "df.drop('index', axis = 1, inplace = True)"
   ]
  },
  {
   "cell_type": "code",
   "execution_count": 18,
   "metadata": {
    "colab": {
     "base_uri": "https://localhost:8080/"
    },
    "executionInfo": {
     "elapsed": 46,
     "status": "ok",
     "timestamp": 1685291925642,
     "user": {
      "displayName": "Aman Singh",
      "userId": "12858320181691589185"
     },
     "user_tz": -330
    },
    "id": "bNjue0NPle4j",
    "outputId": "ee310e1e-4b2d-459c-b28d-b76a073e0a14"
   },
   "outputs": [
    {
     "data": {
      "text/plain": [
       "(7032, 21)"
      ]
     },
     "execution_count": 18,
     "metadata": {},
     "output_type": "execute_result"
    }
   ],
   "source": [
    "df.shape"
   ]
  },
  {
   "cell_type": "markdown",
   "metadata": {
    "id": "4P9zBCi2llWa"
   },
   "source": [
    "* After removing null values, we have 7032 rows."
   ]
  },
  {
   "cell_type": "code",
   "execution_count": 19,
   "metadata": {
    "colab": {
     "base_uri": "https://localhost:8080/"
    },
    "executionInfo": {
     "elapsed": 42,
     "status": "ok",
     "timestamp": 1685291925642,
     "user": {
      "displayName": "Aman Singh",
      "userId": "12858320181691589185"
     },
     "user_tz": -330
    },
    "id": "HEd_iW25lwrN",
    "outputId": "747b9b9c-dfb5-4c04-95c2-f2a6443ffbf8"
   },
   "outputs": [
    {
     "data": {
      "text/plain": [
       "ID                   0\n",
       "gender               0\n",
       "senior_citizen       0\n",
       "married              0\n",
       "dependents           0\n",
       "tenure               0\n",
       "phone_service        0\n",
       "multiple_lines       0\n",
       "internet             0\n",
       "online_security      0\n",
       "online_backup        0\n",
       "device_protection    0\n",
       "tech_support         0\n",
       "stream_TV            0\n",
       "stream_movies        0\n",
       "contract             0\n",
       "paperless_billing    0\n",
       "payment_mode         0\n",
       "monthly_charges      0\n",
       "total_charges        0\n",
       "churn                0\n",
       "dtype: int64"
      ]
     },
     "execution_count": 19,
     "metadata": {},
     "output_type": "execute_result"
    }
   ],
   "source": [
    "df.isnull().sum()"
   ]
  },
  {
   "cell_type": "markdown",
   "metadata": {
    "id": "iiX9EjZyv5bS"
   },
   "source": [
    "# * Create range of tenure "
   ]
  },
  {
   "cell_type": "code",
   "execution_count": 20,
   "metadata": {
    "colab": {
     "base_uri": "https://localhost:8080/"
    },
    "executionInfo": {
     "elapsed": 39,
     "status": "ok",
     "timestamp": 1685291925643,
     "user": {
      "displayName": "Aman Singh",
      "userId": "12858320181691589185"
     },
     "user_tz": -330
    },
    "id": "JDIqnErJqsL2",
    "outputId": "ba3c43ac-a047-40c6-b68b-f0b9822cc307"
   },
   "outputs": [
    {
     "name": "stdout",
     "output_type": "stream",
     "text": [
      "72\n",
      "118.75\n",
      "8684.8\n"
     ]
    }
   ],
   "source": [
    "print(df['tenure'].max())\n",
    "print(df['monthly_charges'].max())\n",
    "print(df['total_charges'].max())"
   ]
  },
  {
   "cell_type": "markdown",
   "metadata": {
    "id": "Uor1JceawFeU"
   },
   "source": [
    "* Maximum tenure is of 72 months\n",
    "\n",
    "* Maximum monthly charge is 118.75\n",
    "\n",
    "* Maximum total charge is 8684.8"
   ]
  },
  {
   "cell_type": "code",
   "execution_count": 21,
   "metadata": {
    "id": "IrDqLmZ0nHm0"
   },
   "outputs": [],
   "source": [
    "bins = [0, 5, 10, 15, 20, 25, 30, 35, 40, 45, 50, 55, 60, 65, 70, 75]\n",
    "labels = ['5', '10', '15', '20', '25', '30', '35', '40', '45', '50', '55', '60', '65', '70', '75']\n",
    "df['tenure_bins'] = pd.cut(df['tenure'], bins=bins, labels=labels)"
   ]
  },
  {
   "cell_type": "code",
   "execution_count": 22,
   "metadata": {
    "id": "W6xs5aqePJHd"
   },
   "outputs": [],
   "source": [
    "df['tenure_bins'] = pd.to_numeric(df['tenure_bins'])"
   ]
  },
  {
   "cell_type": "markdown",
   "metadata": {
    "id": "cTTu0CUQmtB3"
   },
   "source": [
    "# * Delete irrelevant columns"
   ]
  },
  {
   "cell_type": "code",
   "execution_count": 23,
   "metadata": {
    "id": "l0L0J_yemjO8"
   },
   "outputs": [],
   "source": [
    "df.drop(['ID', 'tenure'], axis = 1, inplace = True)"
   ]
  },
  {
   "cell_type": "code",
   "execution_count": 24,
   "metadata": {
    "colab": {
     "base_uri": "https://localhost:8080/"
    },
    "executionInfo": {
     "elapsed": 33,
     "status": "ok",
     "timestamp": 1685291925643,
     "user": {
      "displayName": "Aman Singh",
      "userId": "12858320181691589185"
     },
     "user_tz": -330
    },
    "id": "P2W-EAp6wxEI",
    "outputId": "b954044f-8241-4dce-ab5f-c06d2c801656"
   },
   "outputs": [
    {
     "data": {
      "text/plain": [
       "Index(['gender', 'senior_citizen', 'married', 'dependents', 'phone_service',\n",
       "       'multiple_lines', 'internet', 'online_security', 'online_backup',\n",
       "       'device_protection', 'tech_support', 'stream_TV', 'stream_movies',\n",
       "       'contract', 'paperless_billing', 'payment_mode', 'monthly_charges',\n",
       "       'total_charges', 'churn', 'tenure_bins'],\n",
       "      dtype='object')"
      ]
     },
     "execution_count": 24,
     "metadata": {},
     "output_type": "execute_result"
    }
   ],
   "source": [
    "df.columns"
   ]
  },
  {
   "cell_type": "markdown",
   "metadata": {
    "id": "Om4xpqrkcXrd"
   },
   "source": [
    "# * Check unique values "
   ]
  },
  {
   "cell_type": "code",
   "execution_count": 25,
   "metadata": {
    "colab": {
     "base_uri": "https://localhost:8080/"
    },
    "executionInfo": {
     "elapsed": 30,
     "status": "ok",
     "timestamp": 1685291925644,
     "user": {
      "displayName": "Aman Singh",
      "userId": "12858320181691589185"
     },
     "user_tz": -330
    },
    "id": "IhGDTi4DX5XF",
    "outputId": "8e7da8a5-8be4-4ab3-a71b-7b80c1672e9c"
   },
   "outputs": [
    {
     "name": "stdout",
     "output_type": "stream",
     "text": [
      "The number of values for gender: 2 -- ['Female' 'Male']\n",
      "The number of values for senior_citizen: 2 -- [0 1]\n",
      "The number of values for married: 2 -- ['Yes' 'No']\n",
      "The number of values for dependents: 2 -- ['No' 'Yes']\n",
      "The number of values for phone_service: 2 -- ['No' 'Yes']\n",
      "The number of values for multiple_lines: 3 -- ['No phone service' 'No' 'Yes']\n",
      "The number of values for internet: 3 -- ['DSL' 'Fiber optic' 'No']\n",
      "The number of values for online_security: 3 -- ['No' 'Yes' 'No internet service']\n",
      "The number of values for online_backup: 3 -- ['Yes' 'No' 'No internet service']\n",
      "The number of values for device_protection: 3 -- ['No' 'Yes' 'No internet service']\n",
      "The number of values for tech_support: 3 -- ['No' 'Yes' 'No internet service']\n",
      "The number of values for stream_TV: 3 -- ['No' 'Yes' 'No internet service']\n",
      "The number of values for stream_movies: 3 -- ['No' 'Yes' 'No internet service']\n",
      "The number of values for contract: 3 -- ['Month-to-month' 'One year' 'Two year']\n",
      "The number of values for paperless_billing: 2 -- ['Yes' 'No']\n",
      "The number of values for payment_mode: 4 -- ['Electronic check' 'Mailed check' 'Bank transfer (automatic)'\n",
      " 'Credit card (automatic)']\n",
      "The number of values for monthly_charges: 1584 -- [29.85 56.95 53.85 ... 63.1  44.2  78.7 ]\n",
      "The number of values for total_charges: 6530 -- [  29.85 1889.5   108.15 ...  346.45  306.6  6844.5 ]\n",
      "The number of values for churn: 2 -- ['No' 'Yes']\n",
      "The number of values for tenure_bins: 15 -- [ 5 35 45 10 25 30 65 15 20 60 50 70 55 75 40]\n"
     ]
    }
   ],
   "source": [
    "for i in df:\n",
    "    \n",
    "    unique_vals = df[i].unique()\n",
    "        \n",
    "    len_values = len(unique_vals)\n",
    " \n",
    "    print('The number of values for {}: {} -- {}'.format(i, len_values,unique_vals))\n",
    "\n"
   ]
  },
  {
   "cell_type": "markdown",
   "metadata": {
    "id": "5G7AJpHLcoUq"
   },
   "source": [
    "* For most of the categorical columns, there are same different words with same meaning --> \"no\" and \"No internet service\""
   ]
  },
  {
   "cell_type": "code",
   "execution_count": 26,
   "metadata": {
    "id": "OT_kzklPZwj7"
   },
   "outputs": [],
   "source": [
    "df['multiple_lines'] = df['multiple_lines'].replace('No phone service', 'No')\n",
    "df['online_security'] = df['online_security'].replace('No internet service', 'No')\n",
    "df['online_backup'] = df['online_backup'].replace('No internet service', 'No')\n",
    "df['device_protection'] = df['device_protection'].replace('No internet service', 'No')\n",
    "df['tech_support'] = df['tech_support'].replace('No internet service', 'No')\n",
    "df['stream_TV'] = df['stream_TV'].replace('No internet service', 'No')\n",
    "df['stream_movies'] = df['stream_movies'].replace('No internet service', 'No')\n",
    "df['contract'] = df['contract'].replace('Month-to-month', 'Monthly')\n"
   ]
  },
  {
   "cell_type": "code",
   "execution_count": 27,
   "metadata": {
    "colab": {
     "base_uri": "https://localhost:8080/"
    },
    "executionInfo": {
     "elapsed": 25,
     "status": "ok",
     "timestamp": 1685291927539,
     "user": {
      "displayName": "Aman Singh",
      "userId": "12858320181691589185"
     },
     "user_tz": -330
    },
    "id": "SMfXjVRtd6_A",
    "outputId": "6e7846e1-7081-4089-e7db-c09a2a659a0c"
   },
   "outputs": [
    {
     "name": "stdout",
     "output_type": "stream",
     "text": [
      "The number of values for gender: 2 -- ['Female' 'Male']\n",
      "The number of values for senior_citizen: 2 -- [0 1]\n",
      "The number of values for married: 2 -- ['Yes' 'No']\n",
      "The number of values for dependents: 2 -- ['No' 'Yes']\n",
      "The number of values for phone_service: 2 -- ['No' 'Yes']\n",
      "The number of values for multiple_lines: 2 -- ['No' 'Yes']\n",
      "The number of values for internet: 3 -- ['DSL' 'Fiber optic' 'No']\n",
      "The number of values for online_security: 2 -- ['No' 'Yes']\n",
      "The number of values for online_backup: 2 -- ['Yes' 'No']\n",
      "The number of values for device_protection: 2 -- ['No' 'Yes']\n",
      "The number of values for tech_support: 2 -- ['No' 'Yes']\n",
      "The number of values for stream_TV: 2 -- ['No' 'Yes']\n",
      "The number of values for stream_movies: 2 -- ['No' 'Yes']\n",
      "The number of values for contract: 3 -- ['Monthly' 'One year' 'Two year']\n",
      "The number of values for paperless_billing: 2 -- ['Yes' 'No']\n",
      "The number of values for payment_mode: 4 -- ['Electronic check' 'Mailed check' 'Bank transfer (automatic)'\n",
      " 'Credit card (automatic)']\n",
      "The number of values for monthly_charges: 1584 -- [29.85 56.95 53.85 ... 63.1  44.2  78.7 ]\n",
      "The number of values for total_charges: 6530 -- [  29.85 1889.5   108.15 ...  346.45  306.6  6844.5 ]\n",
      "The number of values for churn: 2 -- ['No' 'Yes']\n",
      "The number of values for tenure_bins: 15 -- [ 5 35 45 10 25 30 65 15 20 60 50 70 55 75 40]\n"
     ]
    }
   ],
   "source": [
    "for i in df:\n",
    "    \n",
    "    unique_vals = df[i].unique()\n",
    "        \n",
    "    len_values = len(unique_vals)\n",
    " \n",
    "    print('The number of values for {}: {} -- {}'.format(i, len_values,unique_vals))"
   ]
  },
  {
   "cell_type": "code",
   "execution_count": 28,
   "metadata": {},
   "outputs": [],
   "source": [
    "df.to_csv(r'C:\\Users\\jhala\\Desktop\\churn2.csv')"
   ]
  },
  {
   "cell_type": "markdown",
   "metadata": {
    "id": "uasI5X0kg2rR"
   },
   "source": [
    "# 2. EDA"
   ]
  },
  {
   "cell_type": "markdown",
   "metadata": {
    "id": "HbHtexo2tO-L"
   },
   "source": [
    "# * Univariate Analysis"
   ]
  },
  {
   "cell_type": "code",
   "execution_count": 29,
   "metadata": {
    "colab": {
     "base_uri": "https://localhost:8080/",
     "height": 328
    },
    "executionInfo": {
     "elapsed": 21,
     "status": "ok",
     "timestamp": 1685291927539,
     "user": {
      "displayName": "Aman Singh",
      "userId": "12858320181691589185"
     },
     "user_tz": -330
    },
    "id": "NoTNCUwIiQ8G",
    "outputId": "3834b016-0fb8-45dc-b20f-cb1bcd52493c"
   },
   "outputs": [
    {
     "data": {
      "text/plain": [
       "<AxesSubplot:xlabel='gender', ylabel='count'>"
      ]
     },
     "execution_count": 29,
     "metadata": {},
     "output_type": "execute_result"
    },
    {
     "data": {
      "image/png": "[encoded data removed]",
      "text/plain": [
       "<Figure size 360x216 with 1 Axes>"
      ]
     },
     "metadata": {
      "needs_background": "light"
     },
     "output_type": "display_data"
    }
   ],
   "source": [
    "plt.figure(figsize = (5,3))\n",
    "sns.countplot(x = 'gender', data = df, hue = 'churn')"
   ]
  },
  {
   "cell_type": "code",
   "execution_count": 30,
   "metadata": {
    "colab": {
     "base_uri": "https://localhost:8080/",
     "height": 328
    },
    "executionInfo": {
     "elapsed": 15,
     "status": "ok",
     "timestamp": 1685291927539,
     "user": {
      "displayName": "Aman Singh",
      "userId": "12858320181691589185"
     },
     "user_tz": -330
    },
    "id": "aItp-AOBuxZU",
    "outputId": "d2ec15f8-80b3-4860-950d-0ede526c5858"
   },
   "outputs": [
    {
     "data": {
      "text/plain": [
       "<AxesSubplot:xlabel='senior_citizen', ylabel='count'>"
      ]
     },
     "execution_count": 30,
     "metadata": {},
     "output_type": "execute_result"
    },
    {
     "data": {
      "image/png": "[encoded data removed]",
      "text/plain": [
       "<Figure size 360x216 with 1 Axes>"
      ]
     },
     "metadata": {
      "needs_background": "light"
     },
     "output_type": "display_data"
    }
   ],
   "source": [
    "plt.figure(figsize = (5,3))\n",
    "sns.countplot(x = 'senior_citizen', data = df, hue = 'churn')"
   ]
  },
  {
   "cell_type": "code",
   "execution_count": 31,
   "metadata": {
    "colab": {
     "base_uri": "https://localhost:8080/",
     "height": 328
    },
    "executionInfo": {
     "elapsed": 635,
     "status": "ok",
     "timestamp": 1685291928164,
     "user": {
      "displayName": "Aman Singh",
      "userId": "12858320181691589185"
     },
     "user_tz": -330
    },
    "id": "f_Z6Rl1nvagR",
    "outputId": "52d7351f-4a36-4f07-ab87-f90d04e05728"
   },
   "outputs": [
    {
     "data": {
      "text/plain": [
       "<AxesSubplot:xlabel='married', ylabel='count'>"
      ]
     },
     "execution_count": 31,
     "metadata": {},
     "output_type": "execute_result"
    },
    {
     "data": {
      "image/png": "[encoded data removed]",
      "text/plain": [
       "<Figure size 360x216 with 1 Axes>"
      ]
     },
     "metadata": {
      "needs_background": "light"
     },
     "output_type": "display_data"
    }
   ],
   "source": [
    "plt.figure(figsize = (5,3))\n",
    "sns.countplot(x = 'married', data = df, hue = 'churn')"
   ]
  },
  {
   "cell_type": "code",
   "execution_count": 32,
   "metadata": {
    "colab": {
     "base_uri": "https://localhost:8080/",
     "height": 329
    },
    "executionInfo": {
     "elapsed": 1449,
     "status": "ok",
     "timestamp": 1685291929584,
     "user": {
      "displayName": "Aman Singh",
      "userId": "12858320181691589185"
     },
     "user_tz": -330
    },
    "id": "HVdVKO7TwHkX",
    "outputId": "1c3b0613-6b8e-426d-d854-c39b44590ab3"
   },
   "outputs": [
    {
     "data": {
      "text/plain": [
       "<AxesSubplot:xlabel='dependents', ylabel='count'>"
      ]
     },
     "execution_count": 32,
     "metadata": {},
     "output_type": "execute_result"
    },
    {
     "data": {
      "image/png": "[encoded data removed]",
      "text/plain": [
       "<Figure size 360x216 with 1 Axes>"
      ]
     },
     "metadata": {
      "needs_background": "light"
     },
     "output_type": "display_data"
    }
   ],
   "source": [
    "plt.figure(figsize = (5,3))\n",
    "sns.countplot(x = 'dependents', data = df, hue = 'churn')"
   ]
  },
  {
   "cell_type": "code",
   "execution_count": 33,
   "metadata": {
    "colab": {
     "base_uri": "https://localhost:8080/",
     "height": 328
    },
    "executionInfo": {
     "elapsed": 2015,
     "status": "ok",
     "timestamp": 1685291931590,
     "user": {
      "displayName": "Aman Singh",
      "userId": "12858320181691589185"
     },
     "user_tz": -330
    },
    "id": "V-KqFjkcxHq3",
    "outputId": "10df98b1-f29a-4753-84c3-9475f9b38f57"
   },
   "outputs": [
    {
     "data": {
      "text/plain": [
       "<AxesSubplot:xlabel='phone_service', ylabel='count'>"
      ]
     },
     "execution_count": 33,
     "metadata": {},
     "output_type": "execute_result"
    },
    {
     "data": {
      "image/png": "[encoded data removed]",
      "text/plain": [
       "<Figure size 360x216 with 1 Axes>"
      ]
     },
     "metadata": {
      "needs_background": "light"
     },
     "output_type": "display_data"
    }
   ],
   "source": [
    "plt.figure(figsize = (5,3))\n",
    "sns.countplot(x = 'phone_service', data = df, hue = 'churn')"
   ]
  },
  {
   "cell_type": "code",
   "execution_count": 34,
   "metadata": {
    "colab": {
     "base_uri": "https://localhost:8080/",
     "height": 328
    },
    "executionInfo": {
     "elapsed": 19,
     "status": "ok",
     "timestamp": 1685291931591,
     "user": {
      "displayName": "Aman Singh",
      "userId": "12858320181691589185"
     },
     "user_tz": -330
    },
    "id": "VjR9_DR3ysbd",
    "outputId": "b5beb754-303a-4d13-e787-66ad9282956f"
   },
   "outputs": [
    {
     "data": {
      "text/plain": [
       "<AxesSubplot:xlabel='multiple_lines', ylabel='count'>"
      ]
     },
     "execution_count": 34,
     "metadata": {},
     "output_type": "execute_result"
    },
    {
     "data": {
      "image/png": "[encoded data removed]",
      "text/plain": [
       "<Figure size 360x216 with 1 Axes>"
      ]
     },
     "metadata": {
      "needs_background": "light"
     },
     "output_type": "display_data"
    }
   ],
   "source": [
    "plt.figure(figsize = (5,3))\n",
    "sns.countplot(x = 'multiple_lines', data = df, hue = 'churn')"
   ]
  },
  {
   "cell_type": "code",
   "execution_count": 35,
   "metadata": {
    "colab": {
     "base_uri": "https://localhost:8080/",
     "height": 328
    },
    "executionInfo": {
     "elapsed": 2320,
     "status": "ok",
     "timestamp": 1685291933901,
     "user": {
      "displayName": "Aman Singh",
      "userId": "12858320181691589185"
     },
     "user_tz": -330
    },
    "id": "EEKC9BXb0uNe",
    "outputId": "7bed0d72-64a2-4364-d62d-93241a853653"
   },
   "outputs": [
    {
     "data": {
      "text/plain": [
       "<AxesSubplot:xlabel='internet', ylabel='count'>"
      ]
     },
     "execution_count": 35,
     "metadata": {},
     "output_type": "execute_result"
    },
    {
     "data": {
      "image/png": "[encoded data removed]",
      "text/plain": [
       "<Figure size 360x216 with 1 Axes>"
      ]
     },
     "metadata": {
      "needs_background": "light"
     },
     "output_type": "display_data"
    }
   ],
   "source": [
    "plt.figure(figsize = (5,3))\n",
    "sns.countplot(x = 'internet', data = df, hue = 'churn')"
   ]
  },
  {
   "cell_type": "code",
   "execution_count": 36,
   "metadata": {
    "colab": {
     "base_uri": "https://localhost:8080/",
     "height": 328
    },
    "executionInfo": {
     "elapsed": 31,
     "status": "ok",
     "timestamp": 1685291933903,
     "user": {
      "displayName": "Aman Singh",
      "userId": "12858320181691589185"
     },
     "user_tz": -330
    },
    "id": "UfmwXC3F1SmK",
    "outputId": "13db7896-6285-4743-9650-54ea4e3d0a09"
   },
   "outputs": [
    {
     "data": {
      "text/plain": [
       "<AxesSubplot:xlabel='online_security', ylabel='count'>"
      ]
     },
     "execution_count": 36,
     "metadata": {},
     "output_type": "execute_result"
    },
    {
     "data": {
      "image/png": "[encoded data removed]",
      "text/plain": [
       "<Figure size 360x216 with 1 Axes>"
      ]
     },
     "metadata": {
      "needs_background": "light"
     },
     "output_type": "display_data"
    }
   ],
   "source": [
    "plt.figure(figsize = (5,3))\n",
    "sns.countplot(x = 'online_security', data = df, hue = 'churn')"
   ]
  },
  {
   "cell_type": "code",
   "execution_count": 37,
   "metadata": {
    "colab": {
     "base_uri": "https://localhost:8080/",
     "height": 328
    },
    "executionInfo": {
     "elapsed": 23,
     "status": "ok",
     "timestamp": 1685291933903,
     "user": {
      "displayName": "Aman Singh",
      "userId": "12858320181691589185"
     },
     "user_tz": -330
    },
    "id": "NtdwELgS2Qli",
    "outputId": "d318fe03-ad66-47f1-d1eb-d3e4596c2771"
   },
   "outputs": [
    {
     "data": {
      "text/plain": [
       "<AxesSubplot:xlabel='online_backup', ylabel='count'>"
      ]
     },
     "execution_count": 37,
     "metadata": {},
     "output_type": "execute_result"
    },
    {
     "data": {
      "image/png": "[encoded data removed]",
      "text/plain": [
       "<Figure size 360x216 with 1 Axes>"
      ]
     },
     "metadata": {
      "needs_background": "light"
     },
     "output_type": "display_data"
    }
   ],
   "source": [
    "plt.figure(figsize = (5,3))\n",
    "sns.countplot(x = 'online_backup', data = df, hue = 'churn')"
   ]
  },
  {
   "cell_type": "code",
   "execution_count": 38,
   "metadata": {
    "colab": {
     "base_uri": "https://localhost:8080/",
     "height": 328
    },
    "executionInfo": {
     "elapsed": 20,
     "status": "ok",
     "timestamp": 1685291933904,
     "user": {
      "displayName": "Aman Singh",
      "userId": "12858320181691589185"
     },
     "user_tz": -330
    },
    "id": "5K-Kwph12pAf",
    "outputId": "dcd159b4-8aca-4522-ed8e-f87c4d7ac64d"
   },
   "outputs": [
    {
     "data": {
      "text/plain": [
       "<AxesSubplot:xlabel='device_protection', ylabel='count'>"
      ]
     },
     "execution_count": 38,
     "metadata": {},
     "output_type": "execute_result"
    },
    {
     "data": {
      "image/png": "[encoded data removed]",
      "text/plain": [
       "<Figure size 360x216 with 1 Axes>"
      ]
     },
     "metadata": {
      "needs_background": "light"
     },
     "output_type": "display_data"
    }
   ],
   "source": [
    "plt.figure(figsize = (5,3))\n",
    "sns.countplot(x = 'device_protection', data = df, hue = 'churn')"
   ]
  },
  {
   "cell_type": "code",
   "execution_count": 39,
   "metadata": {
    "colab": {
     "base_uri": "https://localhost:8080/",
     "height": 328
    },
    "executionInfo": {
     "elapsed": 2383,
     "status": "ok",
     "timestamp": 1685291936272,
     "user": {
      "displayName": "Aman Singh",
      "userId": "12858320181691589185"
     },
     "user_tz": -330
    },
    "id": "PXILFajb3OBg",
    "outputId": "fa71a161-147e-4663-d254-6e577b7eda15"
   },
   "outputs": [
    {
     "data": {
      "text/plain": [
       "<AxesSubplot:xlabel='tech_support', ylabel='count'>"
      ]
     },
     "execution_count": 39,
     "metadata": {},
     "output_type": "execute_result"
    },
    {
     "data": {
      "image/png": "[encoded data removed]",
      "text/plain": [
       "<Figure size 360x216 with 1 Axes>"
      ]
     },
     "metadata": {
      "needs_background": "light"
     },
     "output_type": "display_data"
    }
   ],
   "source": [
    "plt.figure(figsize = (5,3))\n",
    "sns.countplot(x = 'tech_support', data = df, hue = 'churn')"
   ]
  },
  {
   "cell_type": "code",
   "execution_count": 40,
   "metadata": {
    "colab": {
     "base_uri": "https://localhost:8080/",
     "height": 328
    },
    "executionInfo": {
     "elapsed": 36,
     "status": "ok",
     "timestamp": 1685291936273,
     "user": {
      "displayName": "Aman Singh",
      "userId": "12858320181691589185"
     },
     "user_tz": -330
    },
    "id": "30AflfYC3lKs",
    "outputId": "9c75916f-9797-4717-8d6e-f0102ca9cb41"
   },
   "outputs": [
    {
     "data": {
      "text/plain": [
       "<AxesSubplot:xlabel='stream_TV', ylabel='count'>"
      ]
     },
     "execution_count": 40,
     "metadata": {},
     "output_type": "execute_result"
    },
    {
     "data": {
      "image/png": "[encoded data removed]",
      "text/plain": [
       "<Figure size 360x216 with 1 Axes>"
      ]
     },
     "metadata": {
      "needs_background": "light"
     },
     "output_type": "display_data"
    }
   ],
   "source": [
    "plt.figure(figsize = (5,3))\n",
    "sns.countplot(x = 'stream_TV', data = df, hue = 'churn')"
   ]
  },
  {
   "cell_type": "code",
   "execution_count": 41,
   "metadata": {
    "colab": {
     "base_uri": "https://localhost:8080/",
     "height": 328
    },
    "executionInfo": {
     "elapsed": 26,
     "status": "ok",
     "timestamp": 1685291936273,
     "user": {
      "displayName": "Aman Singh",
      "userId": "12858320181691589185"
     },
     "user_tz": -330
    },
    "id": "Ln2750hU4CNu",
    "outputId": "80eb780b-52a0-4b0b-cf41-263ec872596b"
   },
   "outputs": [
    {
     "data": {
      "text/plain": [
       "<AxesSubplot:xlabel='stream_movies', ylabel='count'>"
      ]
     },
     "execution_count": 41,
     "metadata": {},
     "output_type": "execute_result"
    },
    {
     "data": {
      "image/png": "[encoded data removed]",
      "text/plain": [
       "<Figure size 360x216 with 1 Axes>"
      ]
     },
     "metadata": {
      "needs_background": "light"
     },
     "output_type": "display_data"
    }
   ],
   "source": [
    "plt.figure(figsize = (5,3))\n",
    "sns.countplot(x = 'stream_movies', data = df, hue = 'churn')"
   ]
  },
  {
   "cell_type": "code",
   "execution_count": 42,
   "metadata": {
    "colab": {
     "base_uri": "https://localhost:8080/",
     "height": 328
    },
    "executionInfo": {
     "elapsed": 20,
     "status": "ok",
     "timestamp": 1685291936273,
     "user": {
      "displayName": "Aman Singh",
      "userId": "12858320181691589185"
     },
     "user_tz": -330
    },
    "id": "TANbQ33P4cqo",
    "outputId": "c73e9264-31f0-4df4-dd29-e350ff058921"
   },
   "outputs": [
    {
     "data": {
      "text/plain": [
       "<AxesSubplot:xlabel='contract', ylabel='count'>"
      ]
     },
     "execution_count": 42,
     "metadata": {},
     "output_type": "execute_result"
    },
    {
     "data": {
      "image/png": "[encoded data removed]",
      "text/plain": [
       "<Figure size 360x216 with 1 Axes>"
      ]
     },
     "metadata": {
      "needs_background": "light"
     },
     "output_type": "display_data"
    }
   ],
   "source": [
    "plt.figure(figsize = (5,3))\n",
    "sns.countplot(x = 'contract', data = df, hue = 'churn')"
   ]
  },
  {
   "cell_type": "code",
   "execution_count": 43,
   "metadata": {
    "colab": {
     "base_uri": "https://localhost:8080/",
     "height": 328
    },
    "executionInfo": {
     "elapsed": 16,
     "status": "ok",
     "timestamp": 1685291936274,
     "user": {
      "displayName": "Aman Singh",
      "userId": "12858320181691589185"
     },
     "user_tz": -330
    },
    "id": "6k6sHYFj47H3",
    "outputId": "8820f5d4-518e-46f0-dc29-36ccc73592ad"
   },
   "outputs": [
    {
     "data": {
      "text/plain": [
       "<AxesSubplot:xlabel='paperless_billing', ylabel='count'>"
      ]
     },
     "execution_count": 43,
     "metadata": {},
     "output_type": "execute_result"
    },
    {
     "data": {
      "image/png": "[encoded data removed]",
      "text/plain": [
       "<Figure size 360x216 with 1 Axes>"
      ]
     },
     "metadata": {
      "needs_background": "light"
     },
     "output_type": "display_data"
    }
   ],
   "source": [
    "plt.figure(figsize = (5,3))\n",
    "sns.countplot(x = 'paperless_billing', data = df, hue = 'churn')"
   ]
  },
  {
   "cell_type": "code",
   "execution_count": 44,
   "metadata": {
    "colab": {
     "base_uri": "https://localhost:8080/",
     "height": 328
    },
    "executionInfo": {
     "elapsed": 2382,
     "status": "ok",
     "timestamp": 1685291938645,
     "user": {
      "displayName": "Aman Singh",
      "userId": "12858320181691589185"
     },
     "user_tz": -330
    },
    "id": "5Ssx_d6E5YhD",
    "outputId": "bf878188-02cd-49d0-cb54-fc042e1f6950"
   },
   "outputs": [
    {
     "data": {
      "text/plain": [
       "<AxesSubplot:xlabel='payment_mode', ylabel='count'>"
      ]
     },
     "execution_count": 44,
     "metadata": {},
     "output_type": "execute_result"
    },
    {
     "data": {
      "image/png": "[encoded data removed]",
      "text/plain": [
       "<Figure size 720x216 with 1 Axes>"
      ]
     },
     "metadata": {
      "needs_background": "light"
     },
     "output_type": "display_data"
    }
   ],
   "source": [
    "plt.figure(figsize = (10,3))\n",
    "sns.countplot(x = 'payment_mode', data = df, hue = 'churn')"
   ]
  },
  {
   "cell_type": "code",
   "execution_count": 45,
   "metadata": {
    "colab": {
     "base_uri": "https://localhost:8080/",
     "height": 328
    },
    "executionInfo": {
     "elapsed": 49,
     "status": "ok",
     "timestamp": 1685291938647,
     "user": {
      "displayName": "Aman Singh",
      "userId": "12858320181691589185"
     },
     "user_tz": -330
    },
    "id": "3SGiLfS751A2",
    "outputId": "0b4e9b6e-59c9-4bbd-e54a-eb3371832e6a"
   },
   "outputs": [
    {
     "data": {
      "text/plain": [
       "<AxesSubplot:xlabel='tenure_bins', ylabel='count'>"
      ]
     },
     "execution_count": 45,
     "metadata": {},
     "output_type": "execute_result"
    },
    {
     "data": {
      "image/png": "[encoded data removed]",
      "text/plain": [
       "<Figure size 720x216 with 1 Axes>"
      ]
     },
     "metadata": {
      "needs_background": "light"
     },
     "output_type": "display_data"
    }
   ],
   "source": [
    "plt.figure(figsize = (10,3))\n",
    "sns.countplot(x = 'tenure_bins', data = df, hue = 'churn')"
   ]
  },
  {
   "cell_type": "code",
   "execution_count": 46,
   "metadata": {
    "colab": {
     "base_uri": "https://localhost:8080/",
     "height": 482
    },
    "executionInfo": {
     "elapsed": 40,
     "status": "ok",
     "timestamp": 1685291938648,
     "user": {
      "displayName": "Aman Singh",
      "userId": "12858320181691589185"
     },
     "user_tz": -330
    },
    "id": "LFIY37auIEWb",
    "outputId": "123ac7a2-9c75-46d4-e11e-503dffe4cab8"
   },
   "outputs": [
    {
     "data": {
      "text/plain": [
       "<AxesSubplot:xlabel='churn', ylabel='count'>"
      ]
     },
     "execution_count": 46,
     "metadata": {},
     "output_type": "execute_result"
    },
    {
     "data": {
      "image/png": "[encoded data removed]",
      "text/plain": [
       "<Figure size 216x360 with 1 Axes>"
      ]
     },
     "metadata": {
      "needs_background": "light"
     },
     "output_type": "display_data"
    }
   ],
   "source": [
    "plt.figure(figsize = (3,5))\n",
    "sns.countplot(x = 'churn', data = df, hue = 'churn')"
   ]
  },
  {
   "cell_type": "code",
   "execution_count": 47,
   "metadata": {
    "colab": {
     "base_uri": "https://localhost:8080/"
    },
    "executionInfo": {
     "elapsed": 33,
     "status": "ok",
     "timestamp": 1685291938649,
     "user": {
      "displayName": "Aman Singh",
      "userId": "12858320181691589185"
     },
     "user_tz": -330
    },
    "id": "b6eHQ_EJKuS8",
    "outputId": "c902b8d8-7dba-4f11-c502-515a850ed1ee"
   },
   "outputs": [
    {
     "data": {
      "text/plain": [
       "No     5163\n",
       "Yes    1869\n",
       "Name: churn, dtype: int64"
      ]
     },
     "execution_count": 47,
     "metadata": {},
     "output_type": "execute_result"
    }
   ],
   "source": [
    "df['churn'].value_counts()"
   ]
  },
  {
   "cell_type": "code",
   "execution_count": 48,
   "metadata": {
    "colab": {
     "base_uri": "https://localhost:8080/"
    },
    "executionInfo": {
     "elapsed": 27,
     "status": "ok",
     "timestamp": 1685291938650,
     "user": {
      "displayName": "Aman Singh",
      "userId": "12858320181691589185"
     },
     "user_tz": -330
    },
    "id": "lyEaC6Y9KuVy",
    "outputId": "1a5fdbca-53be-438b-b3af-89a967ee1947"
   },
   "outputs": [
    {
     "data": {
      "text/plain": [
       "No     73.421502\n",
       "Yes    26.578498\n",
       "Name: churn, dtype: float64"
      ]
     },
     "execution_count": 48,
     "metadata": {},
     "output_type": "execute_result"
    }
   ],
   "source": [
    "df['churn'].value_counts() / len(df['churn']) * 100"
   ]
  },
  {
   "cell_type": "markdown",
   "metadata": {
    "id": "QwAq3u3cuXi9"
   },
   "source": [
    "* Univariate Analysis:\n",
    "\n",
    "   1. Gender: \n",
    "             Approximately same rate of churn in male and female.\n",
    "\n",
    "   2. Senior Citizen: \n",
    "                     A. Most of the customers are not Senior Citizens. \n",
    "                     B. Churn rate is low in senior citizens.\n",
    "   \n",
    "   3. Married: \n",
    "              Churn rate is high in non-married customers.\n",
    "   \n",
    "   4. Dependents: \n",
    "                  A. Most of the customer are not dependents.\n",
    "                  B. Churn rate is high in non-dependent customers.\n",
    "\n",
    "   5. Phone Service: \n",
    "                     A. Most of the customers are using phone service.\n",
    "                     B. Churn rate is also high in those customers who are  \n",
    "                        using phone service.\n",
    "\n",
    "   6. Multiple Lines: \n",
    "                      A. Most of the customers are not using multiple lines.\n",
    "                      B. Approximately same churn rate in both categories. \n",
    "\n",
    "   7. Internet Service: \n",
    "                        A. Higher churn rate for customers using Fiber Optic.\n",
    "                        B. Very less churn rate for customers who are not using \n",
    "                           internet.\n",
    "\n",
    "   8. Online Security:\n",
    "                      A. Most of the customers are not using online security    service.\n",
    "                      B. Higher churn rate in those customers who are not using this service.\n",
    "\n",
    "   9. Online Backup:\n",
    "                    A. Most of the customers are not using online backup facility.\n",
    "                    B. Churn rate is also high in this category.\n",
    "\n",
    "   10. Device Protection:\n",
    "                         A. Most of the customers are not using device protection facility.\n",
    "                         B. Churn rate is also high in this category.\n",
    "\n",
    "   11. Tech Support:\n",
    "                    A. Most of the customers are not using tech support facility.\n",
    "                    B. Churn rate is too high in this category.\n",
    "\n",
    "   12. Stream TV:\n",
    "                 A. Most of the customers are not using TV facility.\n",
    "                 B. Approximately same churn rate in both the categories.\n",
    "\n",
    "   13. Stream Movies:\n",
    "                     A. Most of the customers are not using Movies facility.\n",
    "                     B. Approximately same churn rate in both the categories.\n",
    "   14. Contract: \n",
    "                A. Most of the people are on monthly contract.\n",
    "                B. Very high churn rate in monthly contract.\n",
    "                C. Very low churn rate in two year contract.\n",
    "\n",
    "   15. Paperless Billing: \n",
    "                         High churn rate in those customers who are using \n",
    "                         paperless billing facility.  \n",
    "\n",
    "   16. Payment Mode: \n",
    "                    Very high churn rate in those customers who are using \"Electronic Check\" method as payment mode. \n",
    "\n",
    "   17. Tenure: \n",
    "              A. The shorter the tenure, the more likely the user will churn.\n",
    "              B. Many churned users only have 5 or lower months of tenure.\n",
    "\n",
    "   18. Churn: \n",
    "             A. Data is highly imbalanced as there are only 26.5% of churned users in this dataset.\n",
    "             B. Ratio: 73:27\n",
    "             C. We need to perform resampling."
   ]
  },
  {
   "cell_type": "markdown",
   "metadata": {
    "id": "nkNKbNGeLhQi"
   },
   "source": [
    "# * Bivariate Analysis"
   ]
  },
  {
   "cell_type": "code",
   "execution_count": 49,
   "metadata": {
    "colab": {
     "base_uri": "https://localhost:8080/",
     "height": 467
    },
    "executionInfo": {
     "elapsed": 2080,
     "status": "ok",
     "timestamp": 1685291940710,
     "user": {
      "displayName": "Aman Singh",
      "userId": "12858320181691589185"
     },
     "user_tz": -330
    },
    "id": "YmyJdMY9lI1o",
    "outputId": "b0c650f5-2622-4e4a-bf01-91195a323b08"
   },
   "outputs": [
    {
     "data": {
      "text/plain": [
       "<AxesSubplot:xlabel='monthly_charges', ylabel='total_charges'>"
      ]
     },
     "execution_count": 49,
     "metadata": {},
     "output_type": "execute_result"
    },
    {
     "data": {
      "image/png": "[encoded data removed]",
      "text/plain": [
       "<Figure size 432x288 with 1 Axes>"
      ]
     },
     "metadata": {
      "needs_background": "light"
     },
     "output_type": "display_data"
    }
   ],
   "source": [
    "sns.scatterplot(data = df, x ='monthly_charges', y = 'total_charges', hue = 'churn')"
   ]
  },
  {
   "cell_type": "code",
   "execution_count": 50,
   "metadata": {
    "colab": {
     "base_uri": "https://localhost:8080/",
     "height": 624
    },
    "executionInfo": {
     "elapsed": 2094,
     "status": "ok",
     "timestamp": 1685291942800,
     "user": {
      "displayName": "Aman Singh",
      "userId": "12858320181691589185"
     },
     "user_tz": -330
    },
    "id": "R6NGDkB3lY6t",
    "outputId": "4b1ecc18-7d86-44ec-ecee-8a9e30c3c69c"
   },
   "outputs": [
    {
     "data": {
      "text/plain": [
       "<seaborn.axisgrid.JointGrid at 0x2a1d605da90>"
      ]
     },
     "execution_count": 50,
     "metadata": {},
     "output_type": "execute_result"
    },
    {
     "data": {
      "image/png": "[encoded data removed]",
      "text/plain": [
       "<Figure size 432x432 with 3 Axes>"
      ]
     },
     "metadata": {
      "needs_background": "light"
     },
     "output_type": "display_data"
    }
   ],
   "source": [
    "sns.jointplot(data = df, x ='monthly_charges', y = 'tenure_bins', hue = 'churn')"
   ]
  },
  {
   "cell_type": "code",
   "execution_count": 51,
   "metadata": {
    "colab": {
     "base_uri": "https://localhost:8080/",
     "height": 466
    },
    "executionInfo": {
     "elapsed": 26,
     "status": "ok",
     "timestamp": 1685291942801,
     "user": {
      "displayName": "Aman Singh",
      "userId": "12858320181691589185"
     },
     "user_tz": -330
    },
    "id": "rwddiUQ8P_N7",
    "outputId": "b8379178-eb35-47ef-e63d-4d941890ffa6"
   },
   "outputs": [
    {
     "data": {
      "text/plain": [
       "<AxesSubplot:xlabel='contract', ylabel='tenure_bins'>"
      ]
     },
     "execution_count": 51,
     "metadata": {},
     "output_type": "execute_result"
    },
    {
     "data": {
      "image/png": "[encoded data removed]",
      "text/plain": [
       "<Figure size 432x288 with 1 Axes>"
      ]
     },
     "metadata": {
      "needs_background": "light"
     },
     "output_type": "display_data"
    }
   ],
   "source": [
    "sns.barplot(data = df, x ='contract', y = 'tenure_bins', hue = 'churn')"
   ]
  },
  {
   "cell_type": "markdown",
   "metadata": {
    "id": "jk7mmmxcLnKG"
   },
   "source": [
    "* Bivariate Analysis:\n",
    "\n",
    "    1. Total Charges increases as Monthly Charges increases.\n",
    "    2. Higher Churn rate at lower total charges.\n",
    "    3. Higher churn rate when tenure is less and monthly charges are high.\n",
    "    4. Higher churn rate when tenure is high and contract is of two years.\n",
    "\n"
   ]
  },
  {
   "cell_type": "markdown",
   "metadata": {
    "id": "yxz1UwKkTgud"
   },
   "source": [
    "# 3. Data Preprocessing"
   ]
  },
  {
   "cell_type": "markdown",
   "metadata": {
    "id": "Eg-ElO0ITxbn"
   },
   "source": [
    "In data pre-processing we will perform:\n",
    "\n",
    "1. Check outliers\n",
    "2. Check correlation\n",
    "3. Create Dummies \n",
    "4. Apply SMOTE \n",
    "5. Apply Standard Scaling"
   ]
  },
  {
   "cell_type": "markdown",
   "metadata": {
    "id": "CjRN8sNvZ9e4"
   },
   "source": [
    "# * Convert churn column to 0 and 1"
   ]
  },
  {
   "cell_type": "code",
   "execution_count": 52,
   "metadata": {
    "id": "5gQDpiZpYpa_"
   },
   "outputs": [],
   "source": [
    "df['churn'] = df['churn'].map({'Yes': 1, 'No': 0})"
   ]
  },
  {
   "cell_type": "code",
   "execution_count": 53,
   "metadata": {
    "colab": {
     "base_uri": "https://localhost:8080/",
     "height": 322
    },
    "executionInfo": {
     "elapsed": 17,
     "status": "ok",
     "timestamp": 1685291942802,
     "user": {
      "displayName": "Aman Singh",
      "userId": "12858320181691589185"
     },
     "user_tz": -330
    },
    "id": "Ikcf0OZMZFjW",
    "outputId": "1791c4ab-f0fc-48e5-d62b-3316c33b7aa4"
   },
   "outputs": [
    {
     "data": {
      "text/html": [
       "<div>\n",
       "<style scoped>\n",
       "    .dataframe tbody tr th:only-of-type {\n",
       "        vertical-align: middle;\n",
       "    }\n",
       "\n",
       "    .dataframe tbody tr th {\n",
       "        vertical-align: top;\n",
       "    }\n",
       "\n",
       "    .dataframe thead th {\n",
       "        text-align: right;\n",
       "    }\n",
       "</style>\n",
       "<table border=\"1\" class=\"dataframe\">\n",
       "  <thead>\n",
       "    <tr style=\"text-align: right;\">\n",
       "      <th></th>\n",
       "      <th>gender</th>\n",
       "      <th>senior_citizen</th>\n",
       "      <th>married</th>\n",
       "      <th>dependents</th>\n",
       "      <th>phone_service</th>\n",
       "      <th>multiple_lines</th>\n",
       "      <th>internet</th>\n",
       "      <th>online_security</th>\n",
       "      <th>online_backup</th>\n",
       "      <th>device_protection</th>\n",
       "      <th>tech_support</th>\n",
       "      <th>stream_TV</th>\n",
       "      <th>stream_movies</th>\n",
       "      <th>contract</th>\n",
       "      <th>paperless_billing</th>\n",
       "      <th>payment_mode</th>\n",
       "      <th>monthly_charges</th>\n",
       "      <th>total_charges</th>\n",
       "      <th>churn</th>\n",
       "      <th>tenure_bins</th>\n",
       "    </tr>\n",
       "  </thead>\n",
       "  <tbody>\n",
       "    <tr>\n",
       "      <th>0</th>\n",
       "      <td>Female</td>\n",
       "      <td>0</td>\n",
       "      <td>Yes</td>\n",
       "      <td>No</td>\n",
       "      <td>No</td>\n",
       "      <td>No</td>\n",
       "      <td>DSL</td>\n",
       "      <td>No</td>\n",
       "      <td>Yes</td>\n",
       "      <td>No</td>\n",
       "      <td>No</td>\n",
       "      <td>No</td>\n",
       "      <td>No</td>\n",
       "      <td>Monthly</td>\n",
       "      <td>Yes</td>\n",
       "      <td>Electronic check</td>\n",
       "      <td>29.85</td>\n",
       "      <td>29.85</td>\n",
       "      <td>0</td>\n",
       "      <td>5</td>\n",
       "    </tr>\n",
       "    <tr>\n",
       "      <th>1</th>\n",
       "      <td>Male</td>\n",
       "      <td>0</td>\n",
       "      <td>No</td>\n",
       "      <td>No</td>\n",
       "      <td>Yes</td>\n",
       "      <td>No</td>\n",
       "      <td>DSL</td>\n",
       "      <td>Yes</td>\n",
       "      <td>No</td>\n",
       "      <td>Yes</td>\n",
       "      <td>No</td>\n",
       "      <td>No</td>\n",
       "      <td>No</td>\n",
       "      <td>One year</td>\n",
       "      <td>No</td>\n",
       "      <td>Mailed check</td>\n",
       "      <td>56.95</td>\n",
       "      <td>1889.50</td>\n",
       "      <td>0</td>\n",
       "      <td>35</td>\n",
       "    </tr>\n",
       "    <tr>\n",
       "      <th>2</th>\n",
       "      <td>Male</td>\n",
       "      <td>0</td>\n",
       "      <td>No</td>\n",
       "      <td>No</td>\n",
       "      <td>Yes</td>\n",
       "      <td>No</td>\n",
       "      <td>DSL</td>\n",
       "      <td>Yes</td>\n",
       "      <td>Yes</td>\n",
       "      <td>No</td>\n",
       "      <td>No</td>\n",
       "      <td>No</td>\n",
       "      <td>No</td>\n",
       "      <td>Monthly</td>\n",
       "      <td>Yes</td>\n",
       "      <td>Mailed check</td>\n",
       "      <td>53.85</td>\n",
       "      <td>108.15</td>\n",
       "      <td>1</td>\n",
       "      <td>5</td>\n",
       "    </tr>\n",
       "    <tr>\n",
       "      <th>3</th>\n",
       "      <td>Male</td>\n",
       "      <td>0</td>\n",
       "      <td>No</td>\n",
       "      <td>No</td>\n",
       "      <td>No</td>\n",
       "      <td>No</td>\n",
       "      <td>DSL</td>\n",
       "      <td>Yes</td>\n",
       "      <td>No</td>\n",
       "      <td>Yes</td>\n",
       "      <td>Yes</td>\n",
       "      <td>No</td>\n",
       "      <td>No</td>\n",
       "      <td>One year</td>\n",
       "      <td>No</td>\n",
       "      <td>Bank transfer (automatic)</td>\n",
       "      <td>42.30</td>\n",
       "      <td>1840.75</td>\n",
       "      <td>0</td>\n",
       "      <td>45</td>\n",
       "    </tr>\n",
       "    <tr>\n",
       "      <th>4</th>\n",
       "      <td>Female</td>\n",
       "      <td>0</td>\n",
       "      <td>No</td>\n",
       "      <td>No</td>\n",
       "      <td>Yes</td>\n",
       "      <td>No</td>\n",
       "      <td>Fiber optic</td>\n",
       "      <td>No</td>\n",
       "      <td>No</td>\n",
       "      <td>No</td>\n",
       "      <td>No</td>\n",
       "      <td>No</td>\n",
       "      <td>No</td>\n",
       "      <td>Monthly</td>\n",
       "      <td>Yes</td>\n",
       "      <td>Electronic check</td>\n",
       "      <td>70.70</td>\n",
       "      <td>151.65</td>\n",
       "      <td>1</td>\n",
       "      <td>5</td>\n",
       "    </tr>\n",
       "  </tbody>\n",
       "</table>\n",
       "</div>"
      ],
      "text/plain": [
       "   gender senior_citizen married dependents phone_service multiple_lines  \\\n",
       "0  Female              0     Yes         No            No             No   \n",
       "1    Male              0      No         No           Yes             No   \n",
       "2    Male              0      No         No           Yes             No   \n",
       "3    Male              0      No         No            No             No   \n",
       "4  Female              0      No         No           Yes             No   \n",
       "\n",
       "      internet online_security online_backup device_protection tech_support  \\\n",
       "0          DSL              No           Yes                No           No   \n",
       "1          DSL             Yes            No               Yes           No   \n",
       "2          DSL             Yes           Yes                No           No   \n",
       "3          DSL             Yes            No               Yes          Yes   \n",
       "4  Fiber optic              No            No                No           No   \n",
       "\n",
       "  stream_TV stream_movies  contract paperless_billing  \\\n",
       "0        No            No   Monthly               Yes   \n",
       "1        No            No  One year                No   \n",
       "2        No            No   Monthly               Yes   \n",
       "3        No            No  One year                No   \n",
       "4        No            No   Monthly               Yes   \n",
       "\n",
       "                payment_mode  monthly_charges  total_charges  churn  \\\n",
       "0           Electronic check            29.85          29.85      0   \n",
       "1               Mailed check            56.95        1889.50      0   \n",
       "2               Mailed check            53.85         108.15      1   \n",
       "3  Bank transfer (automatic)            42.30        1840.75      0   \n",
       "4           Electronic check            70.70         151.65      1   \n",
       "\n",
       "   tenure_bins  \n",
       "0            5  \n",
       "1           35  \n",
       "2            5  \n",
       "3           45  \n",
       "4            5  "
      ]
     },
     "execution_count": 53,
     "metadata": {},
     "output_type": "execute_result"
    }
   ],
   "source": [
    "df.head()"
   ]
  },
  {
   "cell_type": "markdown",
   "metadata": {
    "id": "cfd2mSDjVJu3"
   },
   "source": [
    "# Check outliers"
   ]
  },
  {
   "cell_type": "code",
   "execution_count": 54,
   "metadata": {
    "id": "SqKNSKAaTgST"
   },
   "outputs": [],
   "source": [
    "def outliers_box(d_f,col_):\n",
    "    q1 = np.quantile(d_f[col_],.25)\n",
    "    q2 = np.quantile(d_f[col_],.75)\n",
    "    iqr = q2-q1\n",
    "    maxima_ = q2 + 1.5*iqr\n",
    "    minima_ = q1 - 1.5*iqr\n",
    "    \n",
    "    if((d_f[col_].max() > maxima_) or (d_f[col_].min() < minima_)):\n",
    "        print(col_,'------- Outliers present')\n",
    "    else:\n",
    "        print(col_,'------- Outliers not present')\n",
    "        \n",
    "    return(minima_,maxima_)"
   ]
  },
  {
   "cell_type": "code",
   "execution_count": 55,
   "metadata": {
    "id": "MjkblwKHVYsh"
   },
   "outputs": [],
   "source": [
    "def out_remove(d_f,col_):\n",
    "    x1,y1 = outliers_box(d_f,col_)\n",
    "    df.drop(index= d_f[(d_f[col_]<x1) | (d_f[col_]>y1)].index, axis = 0, inplace =True)"
   ]
  },
  {
   "cell_type": "code",
   "execution_count": 56,
   "metadata": {
    "colab": {
     "base_uri": "https://localhost:8080/"
    },
    "executionInfo": {
     "elapsed": 1418,
     "status": "ok",
     "timestamp": 1685291944206,
     "user": {
      "displayName": "Aman Singh",
      "userId": "12858320181691589185"
     },
     "user_tz": -330
    },
    "id": "zFTO3EjxViAg",
    "outputId": "ed8b7e8f-9580-4834-ba95-217b70ed8475"
   },
   "outputs": [
    {
     "name": "stdout",
     "output_type": "stream",
     "text": [
      "monthly_charges ------- Outliers not present\n",
      "total_charges ------- Outliers not present\n",
      "churn ------- Outliers not present\n",
      "tenure_bins ------- Outliers not present\n"
     ]
    }
   ],
   "source": [
    "df_num = df.select_dtypes(exclude = 'object')\n",
    "for i in df_num.columns:\n",
    "    out_remove(df,i)\n",
    "    df.reset_index(drop=True,inplace = True)"
   ]
  },
  {
   "cell_type": "code",
   "execution_count": 57,
   "metadata": {},
   "outputs": [
    {
     "data": {
      "text/plain": [
       "<AxesSubplot:xlabel='total_charges'>"
      ]
     },
     "execution_count": 57,
     "metadata": {},
     "output_type": "execute_result"
    },
    {
     "data": {
      "image/png": "[encoded data removed]",
      "text/plain": [
       "<Figure size 432x288 with 1 Axes>"
      ]
     },
     "metadata": {
      "needs_background": "light"
     },
     "output_type": "display_data"
    }
   ],
   "source": [
    "sns.boxplot(df['total_charges'])"
   ]
  },
  {
   "cell_type": "markdown",
   "metadata": {
    "id": "Ge6NgDogWTWo"
   },
   "source": [
    "* No outliers are present in the data."
   ]
  },
  {
   "cell_type": "markdown",
   "metadata": {
    "id": "i3aj_JpAW3qt"
   },
   "source": [
    "# * Check correlation"
   ]
  },
  {
   "cell_type": "code",
   "execution_count": 58,
   "metadata": {
    "colab": {
     "base_uri": "https://localhost:8080/",
     "height": 175
    },
    "executionInfo": {
     "elapsed": 31,
     "status": "ok",
     "timestamp": 1685291944207,
     "user": {
      "displayName": "Aman Singh",
      "userId": "12858320181691589185"
     },
     "user_tz": -330
    },
    "id": "P_jcIqoDVo-R",
    "outputId": "0c86de20-87b4-4c9f-f5fd-4dfb3867ccd3"
   },
   "outputs": [
    {
     "data": {
      "text/html": [
       "<div>\n",
       "<style scoped>\n",
       "    .dataframe tbody tr th:only-of-type {\n",
       "        vertical-align: middle;\n",
       "    }\n",
       "\n",
       "    .dataframe tbody tr th {\n",
       "        vertical-align: top;\n",
       "    }\n",
       "\n",
       "    .dataframe thead th {\n",
       "        text-align: right;\n",
       "    }\n",
       "</style>\n",
       "<table border=\"1\" class=\"dataframe\">\n",
       "  <thead>\n",
       "    <tr style=\"text-align: right;\">\n",
       "      <th></th>\n",
       "      <th>monthly_charges</th>\n",
       "      <th>total_charges</th>\n",
       "      <th>churn</th>\n",
       "      <th>tenure_bins</th>\n",
       "    </tr>\n",
       "  </thead>\n",
       "  <tbody>\n",
       "    <tr>\n",
       "      <th>monthly_charges</th>\n",
       "      <td>1.000000</td>\n",
       "      <td>0.651065</td>\n",
       "      <td>0.192858</td>\n",
       "      <td>0.245210</td>\n",
       "    </tr>\n",
       "    <tr>\n",
       "      <th>total_charges</th>\n",
       "      <td>0.651065</td>\n",
       "      <td>1.000000</td>\n",
       "      <td>-0.199484</td>\n",
       "      <td>0.825270</td>\n",
       "    </tr>\n",
       "    <tr>\n",
       "      <th>churn</th>\n",
       "      <td>0.192858</td>\n",
       "      <td>-0.199484</td>\n",
       "      <td>1.000000</td>\n",
       "      <td>-0.351312</td>\n",
       "    </tr>\n",
       "    <tr>\n",
       "      <th>tenure_bins</th>\n",
       "      <td>0.245210</td>\n",
       "      <td>0.825270</td>\n",
       "      <td>-0.351312</td>\n",
       "      <td>1.000000</td>\n",
       "    </tr>\n",
       "  </tbody>\n",
       "</table>\n",
       "</div>"
      ],
      "text/plain": [
       "                 monthly_charges  total_charges     churn  tenure_bins\n",
       "monthly_charges         1.000000       0.651065  0.192858     0.245210\n",
       "total_charges           0.651065       1.000000 -0.199484     0.825270\n",
       "churn                   0.192858      -0.199484  1.000000    -0.351312\n",
       "tenure_bins             0.245210       0.825270 -0.351312     1.000000"
      ]
     },
     "execution_count": 58,
     "metadata": {},
     "output_type": "execute_result"
    }
   ],
   "source": [
    "df.corr()"
   ]
  },
  {
   "cell_type": "code",
   "execution_count": 59,
   "metadata": {
    "colab": {
     "base_uri": "https://localhost:8080/",
     "height": 557
    },
    "executionInfo": {
     "elapsed": 29,
     "status": "ok",
     "timestamp": 1685291944207,
     "user": {
      "displayName": "Aman Singh",
      "userId": "12858320181691589185"
     },
     "user_tz": -330
    },
    "id": "FJm_i7ZuW-4t",
    "outputId": "20f885f7-5172-48a6-b66b-24681ccd5b3b"
   },
   "outputs": [
    {
     "data": {
      "text/plain": [
       "<AxesSubplot:>"
      ]
     },
     "execution_count": 59,
     "metadata": {},
     "output_type": "execute_result"
    },
    {
     "data": {
      "image/png": "[encoded data removed]",
      "text/plain": [
       "<Figure size 432x288 with 2 Axes>"
      ]
     },
     "metadata": {
      "needs_background": "light"
     },
     "output_type": "display_data"
    }
   ],
   "source": [
    "sns.heatmap(df.corr(), annot = True)"
   ]
  },
  {
   "cell_type": "markdown",
   "metadata": {
    "id": "aTL5IRatYeLm"
   },
   "source": [
    "* Tenure has 80% correlation with Total Charges.\n",
    "\n",
    "* We will keep both the columns, as both are important for churn prediction"
   ]
  },
  {
   "cell_type": "markdown",
   "metadata": {
    "id": "nzBvLW6pammc"
   },
   "source": [
    "# * Create Dummies"
   ]
  },
  {
   "cell_type": "code",
   "execution_count": 60,
   "metadata": {
    "id": "w8BbGOV7XEP0"
   },
   "outputs": [],
   "source": [
    "def dummy_create(d_f):\n",
    "    d_f_cat = d_f.select_dtypes(include = 'object')\n",
    "    d_f_num = d_f.select_dtypes(exclude = 'object')\n",
    "    d_f_dummy = pd.get_dummies(d_f_cat, drop_first = True)\n",
    "    new_df = pd.concat([d_f_dummy, d_f_num], axis = 1)\n",
    "    return new_df"
   ]
  },
  {
   "cell_type": "code",
   "execution_count": 61,
   "metadata": {
    "id": "yoHyyEoBbVah"
   },
   "outputs": [],
   "source": [
    "new_df = dummy_create(df)"
   ]
  },
  {
   "cell_type": "code",
   "execution_count": 62,
   "metadata": {
    "colab": {
     "base_uri": "https://localhost:8080/",
     "height": 317
    },
    "executionInfo": {
     "elapsed": 25,
     "status": "ok",
     "timestamp": 1685291944209,
     "user": {
      "displayName": "Aman Singh",
      "userId": "12858320181691589185"
     },
     "user_tz": -330
    },
    "id": "G2xNKSYVbdmI",
    "outputId": "dda7c08f-9420-4f9f-edb5-d9aa77e4deb9"
   },
   "outputs": [
    {
     "data": {
      "text/html": [
       "<div>\n",
       "<style scoped>\n",
       "    .dataframe tbody tr th:only-of-type {\n",
       "        vertical-align: middle;\n",
       "    }\n",
       "\n",
       "    .dataframe tbody tr th {\n",
       "        vertical-align: top;\n",
       "    }\n",
       "\n",
       "    .dataframe thead th {\n",
       "        text-align: right;\n",
       "    }\n",
       "</style>\n",
       "<table border=\"1\" class=\"dataframe\">\n",
       "  <thead>\n",
       "    <tr style=\"text-align: right;\">\n",
       "      <th></th>\n",
       "      <th>gender_Male</th>\n",
       "      <th>senior_citizen_1</th>\n",
       "      <th>married_Yes</th>\n",
       "      <th>dependents_Yes</th>\n",
       "      <th>phone_service_Yes</th>\n",
       "      <th>multiple_lines_Yes</th>\n",
       "      <th>internet_Fiber optic</th>\n",
       "      <th>internet_No</th>\n",
       "      <th>online_security_Yes</th>\n",
       "      <th>online_backup_Yes</th>\n",
       "      <th>...</th>\n",
       "      <th>contract_One year</th>\n",
       "      <th>contract_Two year</th>\n",
       "      <th>paperless_billing_Yes</th>\n",
       "      <th>payment_mode_Credit card (automatic)</th>\n",
       "      <th>payment_mode_Electronic check</th>\n",
       "      <th>payment_mode_Mailed check</th>\n",
       "      <th>monthly_charges</th>\n",
       "      <th>total_charges</th>\n",
       "      <th>churn</th>\n",
       "      <th>tenure_bins</th>\n",
       "    </tr>\n",
       "  </thead>\n",
       "  <tbody>\n",
       "    <tr>\n",
       "      <th>0</th>\n",
       "      <td>0</td>\n",
       "      <td>0</td>\n",
       "      <td>1</td>\n",
       "      <td>0</td>\n",
       "      <td>0</td>\n",
       "      <td>0</td>\n",
       "      <td>0</td>\n",
       "      <td>0</td>\n",
       "      <td>0</td>\n",
       "      <td>1</td>\n",
       "      <td>...</td>\n",
       "      <td>0</td>\n",
       "      <td>0</td>\n",
       "      <td>1</td>\n",
       "      <td>0</td>\n",
       "      <td>1</td>\n",
       "      <td>0</td>\n",
       "      <td>29.85</td>\n",
       "      <td>29.85</td>\n",
       "      <td>0</td>\n",
       "      <td>5</td>\n",
       "    </tr>\n",
       "    <tr>\n",
       "      <th>1</th>\n",
       "      <td>1</td>\n",
       "      <td>0</td>\n",
       "      <td>0</td>\n",
       "      <td>0</td>\n",
       "      <td>1</td>\n",
       "      <td>0</td>\n",
       "      <td>0</td>\n",
       "      <td>0</td>\n",
       "      <td>1</td>\n",
       "      <td>0</td>\n",
       "      <td>...</td>\n",
       "      <td>1</td>\n",
       "      <td>0</td>\n",
       "      <td>0</td>\n",
       "      <td>0</td>\n",
       "      <td>0</td>\n",
       "      <td>1</td>\n",
       "      <td>56.95</td>\n",
       "      <td>1889.50</td>\n",
       "      <td>0</td>\n",
       "      <td>35</td>\n",
       "    </tr>\n",
       "    <tr>\n",
       "      <th>2</th>\n",
       "      <td>1</td>\n",
       "      <td>0</td>\n",
       "      <td>0</td>\n",
       "      <td>0</td>\n",
       "      <td>1</td>\n",
       "      <td>0</td>\n",
       "      <td>0</td>\n",
       "      <td>0</td>\n",
       "      <td>1</td>\n",
       "      <td>1</td>\n",
       "      <td>...</td>\n",
       "      <td>0</td>\n",
       "      <td>0</td>\n",
       "      <td>1</td>\n",
       "      <td>0</td>\n",
       "      <td>0</td>\n",
       "      <td>1</td>\n",
       "      <td>53.85</td>\n",
       "      <td>108.15</td>\n",
       "      <td>1</td>\n",
       "      <td>5</td>\n",
       "    </tr>\n",
       "    <tr>\n",
       "      <th>3</th>\n",
       "      <td>1</td>\n",
       "      <td>0</td>\n",
       "      <td>0</td>\n",
       "      <td>0</td>\n",
       "      <td>0</td>\n",
       "      <td>0</td>\n",
       "      <td>0</td>\n",
       "      <td>0</td>\n",
       "      <td>1</td>\n",
       "      <td>0</td>\n",
       "      <td>...</td>\n",
       "      <td>1</td>\n",
       "      <td>0</td>\n",
       "      <td>0</td>\n",
       "      <td>0</td>\n",
       "      <td>0</td>\n",
       "      <td>0</td>\n",
       "      <td>42.30</td>\n",
       "      <td>1840.75</td>\n",
       "      <td>0</td>\n",
       "      <td>45</td>\n",
       "    </tr>\n",
       "    <tr>\n",
       "      <th>4</th>\n",
       "      <td>0</td>\n",
       "      <td>0</td>\n",
       "      <td>0</td>\n",
       "      <td>0</td>\n",
       "      <td>1</td>\n",
       "      <td>0</td>\n",
       "      <td>1</td>\n",
       "      <td>0</td>\n",
       "      <td>0</td>\n",
       "      <td>0</td>\n",
       "      <td>...</td>\n",
       "      <td>0</td>\n",
       "      <td>0</td>\n",
       "      <td>1</td>\n",
       "      <td>0</td>\n",
       "      <td>1</td>\n",
       "      <td>0</td>\n",
       "      <td>70.70</td>\n",
       "      <td>151.65</td>\n",
       "      <td>1</td>\n",
       "      <td>5</td>\n",
       "    </tr>\n",
       "  </tbody>\n",
       "</table>\n",
       "<p>5 rows × 24 columns</p>\n",
       "</div>"
      ],
      "text/plain": [
       "   gender_Male  senior_citizen_1  married_Yes  dependents_Yes  \\\n",
       "0            0                 0            1               0   \n",
       "1            1                 0            0               0   \n",
       "2            1                 0            0               0   \n",
       "3            1                 0            0               0   \n",
       "4            0                 0            0               0   \n",
       "\n",
       "   phone_service_Yes  multiple_lines_Yes  internet_Fiber optic  internet_No  \\\n",
       "0                  0                   0                     0            0   \n",
       "1                  1                   0                     0            0   \n",
       "2                  1                   0                     0            0   \n",
       "3                  0                   0                     0            0   \n",
       "4                  1                   0                     1            0   \n",
       "\n",
       "   online_security_Yes  online_backup_Yes  ...  contract_One year  \\\n",
       "0                    0                  1  ...                  0   \n",
       "1                    1                  0  ...                  1   \n",
       "2                    1                  1  ...                  0   \n",
       "3                    1                  0  ...                  1   \n",
       "4                    0                  0  ...                  0   \n",
       "\n",
       "   contract_Two year  paperless_billing_Yes  \\\n",
       "0                  0                      1   \n",
       "1                  0                      0   \n",
       "2                  0                      1   \n",
       "3                  0                      0   \n",
       "4                  0                      1   \n",
       "\n",
       "   payment_mode_Credit card (automatic)  payment_mode_Electronic check  \\\n",
       "0                                     0                              1   \n",
       "1                                     0                              0   \n",
       "2                                     0                              0   \n",
       "3                                     0                              0   \n",
       "4                                     0                              1   \n",
       "\n",
       "   payment_mode_Mailed check  monthly_charges  total_charges  churn  \\\n",
       "0                          0            29.85          29.85      0   \n",
       "1                          1            56.95        1889.50      0   \n",
       "2                          1            53.85         108.15      1   \n",
       "3                          0            42.30        1840.75      0   \n",
       "4                          0            70.70         151.65      1   \n",
       "\n",
       "   tenure_bins  \n",
       "0            5  \n",
       "1           35  \n",
       "2            5  \n",
       "3           45  \n",
       "4            5  \n",
       "\n",
       "[5 rows x 24 columns]"
      ]
     },
     "execution_count": 62,
     "metadata": {},
     "output_type": "execute_result"
    }
   ],
   "source": [
    "new_df.head()"
   ]
  },
  {
   "cell_type": "code",
   "execution_count": 63,
   "metadata": {},
   "outputs": [
    {
     "data": {
      "text/plain": [
       "Index(['gender_Male', 'senior_citizen_1', 'married_Yes', 'dependents_Yes',\n",
       "       'phone_service_Yes', 'multiple_lines_Yes', 'internet_Fiber optic',\n",
       "       'internet_No', 'online_security_Yes', 'online_backup_Yes',\n",
       "       'device_protection_Yes', 'tech_support_Yes', 'stream_TV_Yes',\n",
       "       'stream_movies_Yes', 'contract_One year', 'contract_Two year',\n",
       "       'paperless_billing_Yes', 'payment_mode_Credit card (automatic)',\n",
       "       'payment_mode_Electronic check', 'payment_mode_Mailed check',\n",
       "       'monthly_charges', 'total_charges', 'churn', 'tenure_bins'],\n",
       "      dtype='object')"
      ]
     },
     "execution_count": 63,
     "metadata": {},
     "output_type": "execute_result"
    }
   ],
   "source": [
    "new_df.columns"
   ]
  },
  {
   "cell_type": "markdown",
   "metadata": {
    "id": "IBDDszMYbqyx"
   },
   "source": [
    "# * SMOTE"
   ]
  },
  {
   "cell_type": "code",
   "execution_count": 64,
   "metadata": {
    "id": "o0gdFbVRf9L7"
   },
   "outputs": [],
   "source": [
    "def smote_sampling(d_f, tar_col):\n",
    "    x = d_f.drop(tar_col, axis = 1)\n",
    "    y = d_f[tar_col]\n",
    "    \n",
    "    X,Y = SMOTE().fit_resample(x,y)\n",
    "    new_d_f = pd.concat([X,Y],axis = 1) \n",
    "    return new_d_f"
   ]
  },
  {
   "cell_type": "code",
   "execution_count": 65,
   "metadata": {
    "id": "JCPJWCSqf-Vu"
   },
   "outputs": [],
   "source": [
    "resample_df = smote_sampling(new_df, 'churn')"
   ]
  },
  {
   "cell_type": "code",
   "execution_count": 66,
   "metadata": {
    "colab": {
     "base_uri": "https://localhost:8080/"
    },
    "executionInfo": {
     "elapsed": 24,
     "status": "ok",
     "timestamp": 1685291944210,
     "user": {
      "displayName": "Aman Singh",
      "userId": "12858320181691589185"
     },
     "user_tz": -330
    },
    "id": "0GrdllqYgSC_",
    "outputId": "81635aff-6923-4def-a445-1f678302e8c1"
   },
   "outputs": [
    {
     "data": {
      "text/plain": [
       "(10326, 24)"
      ]
     },
     "execution_count": 66,
     "metadata": {},
     "output_type": "execute_result"
    }
   ],
   "source": [
    "resample_df.shape"
   ]
  },
  {
   "cell_type": "markdown",
   "metadata": {
    "id": "Shi2JIDMgdaV"
   },
   "source": [
    "# * Scaling"
   ]
  },
  {
   "cell_type": "code",
   "execution_count": 67,
   "metadata": {
    "id": "_mi9J0F6i69T"
   },
   "outputs": [],
   "source": [
    "scale = resample_df.drop('churn', axis = 1)"
   ]
  },
  {
   "cell_type": "code",
   "execution_count": 68,
   "metadata": {
    "id": "KUZHTH-Sb3MB"
   },
   "outputs": [],
   "source": [
    "ss = StandardScaler()"
   ]
  },
  {
   "cell_type": "code",
   "execution_count": 69,
   "metadata": {
    "id": "iB1VTiUPdcgw"
   },
   "outputs": [],
   "source": [
    "scaled_data = ss.fit_transform(scale)"
   ]
  },
  {
   "cell_type": "code",
   "execution_count": 70,
   "metadata": {
    "id": "7OQRjSGCb646"
   },
   "outputs": [],
   "source": [
    "scaled_df = pd.DataFrame(scaled_data, columns = scale.columns)"
   ]
  },
  {
   "cell_type": "code",
   "execution_count": 71,
   "metadata": {
    "colab": {
     "base_uri": "https://localhost:8080/",
     "height": 505
    },
    "executionInfo": {
     "elapsed": 21,
     "status": "ok",
     "timestamp": 1685291944212,
     "user": {
      "displayName": "Aman Singh",
      "userId": "12858320181691589185"
     },
     "user_tz": -330
    },
    "id": "PVhedIJRctIV",
    "outputId": "8058b88a-f00f-4bd2-b2c1-39ae9d12d28f"
   },
   "outputs": [
    {
     "data": {
      "text/html": [
       "<div>\n",
       "<style scoped>\n",
       "    .dataframe tbody tr th:only-of-type {\n",
       "        vertical-align: middle;\n",
       "    }\n",
       "\n",
       "    .dataframe tbody tr th {\n",
       "        vertical-align: top;\n",
       "    }\n",
       "\n",
       "    .dataframe thead th {\n",
       "        text-align: right;\n",
       "    }\n",
       "</style>\n",
       "<table border=\"1\" class=\"dataframe\">\n",
       "  <thead>\n",
       "    <tr style=\"text-align: right;\">\n",
       "      <th></th>\n",
       "      <th>gender_Male</th>\n",
       "      <th>senior_citizen_1</th>\n",
       "      <th>married_Yes</th>\n",
       "      <th>dependents_Yes</th>\n",
       "      <th>phone_service_Yes</th>\n",
       "      <th>multiple_lines_Yes</th>\n",
       "      <th>internet_Fiber optic</th>\n",
       "      <th>internet_No</th>\n",
       "      <th>online_security_Yes</th>\n",
       "      <th>online_backup_Yes</th>\n",
       "      <th>...</th>\n",
       "      <th>stream_movies_Yes</th>\n",
       "      <th>contract_One year</th>\n",
       "      <th>contract_Two year</th>\n",
       "      <th>paperless_billing_Yes</th>\n",
       "      <th>payment_mode_Credit card (automatic)</th>\n",
       "      <th>payment_mode_Electronic check</th>\n",
       "      <th>payment_mode_Mailed check</th>\n",
       "      <th>monthly_charges</th>\n",
       "      <th>total_charges</th>\n",
       "      <th>tenure_bins</th>\n",
       "    </tr>\n",
       "  </thead>\n",
       "  <tbody>\n",
       "    <tr>\n",
       "      <th>0</th>\n",
       "      <td>-0.872132</td>\n",
       "      <td>-0.398161</td>\n",
       "      <td>1.290261</td>\n",
       "      <td>-0.523627</td>\n",
       "      <td>-2.919902</td>\n",
       "      <td>-0.792262</td>\n",
       "      <td>-1.023320</td>\n",
       "      <td>-0.44331</td>\n",
       "      <td>-0.507676</td>\n",
       "      <td>1.631472</td>\n",
       "      <td>...</td>\n",
       "      <td>-0.749470</td>\n",
       "      <td>-0.418184</td>\n",
       "      <td>-0.445654</td>\n",
       "      <td>0.828011</td>\n",
       "      <td>-0.424081</td>\n",
       "      <td>1.361640</td>\n",
       "      <td>-0.469492</td>\n",
       "      <td>-1.324065</td>\n",
       "      <td>-0.928063</td>\n",
       "      <td>-1.056437</td>\n",
       "    </tr>\n",
       "    <tr>\n",
       "      <th>1</th>\n",
       "      <td>1.146616</td>\n",
       "      <td>-0.398161</td>\n",
       "      <td>-0.775037</td>\n",
       "      <td>-0.523627</td>\n",
       "      <td>0.342477</td>\n",
       "      <td>-0.792262</td>\n",
       "      <td>-1.023320</td>\n",
       "      <td>-0.44331</td>\n",
       "      <td>1.969762</td>\n",
       "      <td>-0.612943</td>\n",
       "      <td>...</td>\n",
       "      <td>-0.749470</td>\n",
       "      <td>2.391293</td>\n",
       "      <td>-0.445654</td>\n",
       "      <td>-1.207713</td>\n",
       "      <td>-0.424081</td>\n",
       "      <td>-0.734409</td>\n",
       "      <td>2.129960</td>\n",
       "      <td>-0.382144</td>\n",
       "      <td>-0.076795</td>\n",
       "      <td>0.204615</td>\n",
       "    </tr>\n",
       "    <tr>\n",
       "      <th>2</th>\n",
       "      <td>1.146616</td>\n",
       "      <td>-0.398161</td>\n",
       "      <td>-0.775037</td>\n",
       "      <td>-0.523627</td>\n",
       "      <td>0.342477</td>\n",
       "      <td>-0.792262</td>\n",
       "      <td>-1.023320</td>\n",
       "      <td>-0.44331</td>\n",
       "      <td>1.969762</td>\n",
       "      <td>1.631472</td>\n",
       "      <td>...</td>\n",
       "      <td>-0.749470</td>\n",
       "      <td>-0.418184</td>\n",
       "      <td>-0.445654</td>\n",
       "      <td>0.828011</td>\n",
       "      <td>-0.424081</td>\n",
       "      <td>-0.734409</td>\n",
       "      <td>2.129960</td>\n",
       "      <td>-0.489891</td>\n",
       "      <td>-0.892221</td>\n",
       "      <td>-1.056437</td>\n",
       "    </tr>\n",
       "    <tr>\n",
       "      <th>3</th>\n",
       "      <td>1.146616</td>\n",
       "      <td>-0.398161</td>\n",
       "      <td>-0.775037</td>\n",
       "      <td>-0.523627</td>\n",
       "      <td>-2.919902</td>\n",
       "      <td>-0.792262</td>\n",
       "      <td>-1.023320</td>\n",
       "      <td>-0.44331</td>\n",
       "      <td>1.969762</td>\n",
       "      <td>-0.612943</td>\n",
       "      <td>...</td>\n",
       "      <td>-0.749470</td>\n",
       "      <td>2.391293</td>\n",
       "      <td>-0.445654</td>\n",
       "      <td>-1.207713</td>\n",
       "      <td>-0.424081</td>\n",
       "      <td>-0.734409</td>\n",
       "      <td>-0.469492</td>\n",
       "      <td>-0.891337</td>\n",
       "      <td>-0.099110</td>\n",
       "      <td>0.624965</td>\n",
       "    </tr>\n",
       "    <tr>\n",
       "      <th>4</th>\n",
       "      <td>-0.872132</td>\n",
       "      <td>-0.398161</td>\n",
       "      <td>-0.775037</td>\n",
       "      <td>-0.523627</td>\n",
       "      <td>0.342477</td>\n",
       "      <td>-0.792262</td>\n",
       "      <td>0.977211</td>\n",
       "      <td>-0.44331</td>\n",
       "      <td>-0.507676</td>\n",
       "      <td>-0.612943</td>\n",
       "      <td>...</td>\n",
       "      <td>-0.749470</td>\n",
       "      <td>-0.418184</td>\n",
       "      <td>-0.445654</td>\n",
       "      <td>0.828011</td>\n",
       "      <td>-0.424081</td>\n",
       "      <td>1.361640</td>\n",
       "      <td>-0.469492</td>\n",
       "      <td>0.095768</td>\n",
       "      <td>-0.872309</td>\n",
       "      <td>-1.056437</td>\n",
       "    </tr>\n",
       "    <tr>\n",
       "      <th>...</th>\n",
       "      <td>...</td>\n",
       "      <td>...</td>\n",
       "      <td>...</td>\n",
       "      <td>...</td>\n",
       "      <td>...</td>\n",
       "      <td>...</td>\n",
       "      <td>...</td>\n",
       "      <td>...</td>\n",
       "      <td>...</td>\n",
       "      <td>...</td>\n",
       "      <td>...</td>\n",
       "      <td>...</td>\n",
       "      <td>...</td>\n",
       "      <td>...</td>\n",
       "      <td>...</td>\n",
       "      <td>...</td>\n",
       "      <td>...</td>\n",
       "      <td>...</td>\n",
       "      <td>...</td>\n",
       "      <td>...</td>\n",
       "      <td>...</td>\n",
       "    </tr>\n",
       "    <tr>\n",
       "      <th>10321</th>\n",
       "      <td>-0.872132</td>\n",
       "      <td>-0.398161</td>\n",
       "      <td>-0.775037</td>\n",
       "      <td>-0.523627</td>\n",
       "      <td>0.342477</td>\n",
       "      <td>-0.792262</td>\n",
       "      <td>0.977211</td>\n",
       "      <td>-0.44331</td>\n",
       "      <td>-0.507676</td>\n",
       "      <td>-0.612943</td>\n",
       "      <td>...</td>\n",
       "      <td>-0.749470</td>\n",
       "      <td>-0.418184</td>\n",
       "      <td>-0.445654</td>\n",
       "      <td>0.828011</td>\n",
       "      <td>-0.424081</td>\n",
       "      <td>-0.734409</td>\n",
       "      <td>-0.469492</td>\n",
       "      <td>0.613169</td>\n",
       "      <td>-0.054277</td>\n",
       "      <td>-0.173701</td>\n",
       "    </tr>\n",
       "    <tr>\n",
       "      <th>10322</th>\n",
       "      <td>-0.872132</td>\n",
       "      <td>-0.398161</td>\n",
       "      <td>-0.775037</td>\n",
       "      <td>-0.523627</td>\n",
       "      <td>0.342477</td>\n",
       "      <td>-0.792262</td>\n",
       "      <td>0.977211</td>\n",
       "      <td>-0.44331</td>\n",
       "      <td>-0.507676</td>\n",
       "      <td>-0.612943</td>\n",
       "      <td>...</td>\n",
       "      <td>-0.749470</td>\n",
       "      <td>-0.418184</td>\n",
       "      <td>-0.445654</td>\n",
       "      <td>0.828011</td>\n",
       "      <td>-0.424081</td>\n",
       "      <td>1.361640</td>\n",
       "      <td>-0.469492</td>\n",
       "      <td>0.057657</td>\n",
       "      <td>-0.909866</td>\n",
       "      <td>-1.056437</td>\n",
       "    </tr>\n",
       "    <tr>\n",
       "      <th>10323</th>\n",
       "      <td>1.146616</td>\n",
       "      <td>-0.398161</td>\n",
       "      <td>-0.775037</td>\n",
       "      <td>-0.523627</td>\n",
       "      <td>0.342477</td>\n",
       "      <td>1.262208</td>\n",
       "      <td>0.977211</td>\n",
       "      <td>-0.44331</td>\n",
       "      <td>-0.507676</td>\n",
       "      <td>1.631472</td>\n",
       "      <td>...</td>\n",
       "      <td>1.334275</td>\n",
       "      <td>-0.418184</td>\n",
       "      <td>-0.445654</td>\n",
       "      <td>0.828011</td>\n",
       "      <td>-0.424081</td>\n",
       "      <td>1.361640</td>\n",
       "      <td>-0.469492</td>\n",
       "      <td>1.301892</td>\n",
       "      <td>1.019341</td>\n",
       "      <td>0.414790</td>\n",
       "    </tr>\n",
       "    <tr>\n",
       "      <th>10324</th>\n",
       "      <td>-0.872132</td>\n",
       "      <td>-0.398161</td>\n",
       "      <td>1.290261</td>\n",
       "      <td>-0.523627</td>\n",
       "      <td>0.342477</td>\n",
       "      <td>-0.792262</td>\n",
       "      <td>0.977211</td>\n",
       "      <td>-0.44331</td>\n",
       "      <td>-0.507676</td>\n",
       "      <td>-0.612943</td>\n",
       "      <td>...</td>\n",
       "      <td>-0.749470</td>\n",
       "      <td>-0.418184</td>\n",
       "      <td>-0.445654</td>\n",
       "      <td>0.828011</td>\n",
       "      <td>-0.424081</td>\n",
       "      <td>-0.734409</td>\n",
       "      <td>-0.469492</td>\n",
       "      <td>0.812791</td>\n",
       "      <td>0.954375</td>\n",
       "      <td>0.793106</td>\n",
       "    </tr>\n",
       "    <tr>\n",
       "      <th>10325</th>\n",
       "      <td>-0.872132</td>\n",
       "      <td>-0.398161</td>\n",
       "      <td>-0.775037</td>\n",
       "      <td>-0.523627</td>\n",
       "      <td>0.342477</td>\n",
       "      <td>-0.792262</td>\n",
       "      <td>-1.023320</td>\n",
       "      <td>-0.44331</td>\n",
       "      <td>-0.507676</td>\n",
       "      <td>-0.612943</td>\n",
       "      <td>...</td>\n",
       "      <td>-0.749470</td>\n",
       "      <td>-0.418184</td>\n",
       "      <td>-0.445654</td>\n",
       "      <td>-1.207713</td>\n",
       "      <td>-0.424081</td>\n",
       "      <td>-0.734409</td>\n",
       "      <td>-0.469492</td>\n",
       "      <td>-0.726397</td>\n",
       "      <td>-0.840961</td>\n",
       "      <td>-1.056437</td>\n",
       "    </tr>\n",
       "  </tbody>\n",
       "</table>\n",
       "<p>10326 rows × 23 columns</p>\n",
       "</div>"
      ],
      "text/plain": [
       "       gender_Male  senior_citizen_1  married_Yes  dependents_Yes  \\\n",
       "0        -0.872132         -0.398161     1.290261       -0.523627   \n",
       "1         1.146616         -0.398161    -0.775037       -0.523627   \n",
       "2         1.146616         -0.398161    -0.775037       -0.523627   \n",
       "3         1.146616         -0.398161    -0.775037       -0.523627   \n",
       "4        -0.872132         -0.398161    -0.775037       -0.523627   \n",
       "...            ...               ...          ...             ...   \n",
       "10321    -0.872132         -0.398161    -0.775037       -0.523627   \n",
       "10322    -0.872132         -0.398161    -0.775037       -0.523627   \n",
       "10323     1.146616         -0.398161    -0.775037       -0.523627   \n",
       "10324    -0.872132         -0.398161     1.290261       -0.523627   \n",
       "10325    -0.872132         -0.398161    -0.775037       -0.523627   \n",
       "\n",
       "       phone_service_Yes  multiple_lines_Yes  internet_Fiber optic  \\\n",
       "0              -2.919902           -0.792262             -1.023320   \n",
       "1               0.342477           -0.792262             -1.023320   \n",
       "2               0.342477           -0.792262             -1.023320   \n",
       "3              -2.919902           -0.792262             -1.023320   \n",
       "4               0.342477           -0.792262              0.977211   \n",
       "...                  ...                 ...                   ...   \n",
       "10321           0.342477           -0.792262              0.977211   \n",
       "10322           0.342477           -0.792262              0.977211   \n",
       "10323           0.342477            1.262208              0.977211   \n",
       "10324           0.342477           -0.792262              0.977211   \n",
       "10325           0.342477           -0.792262             -1.023320   \n",
       "\n",
       "       internet_No  online_security_Yes  online_backup_Yes  ...  \\\n",
       "0         -0.44331            -0.507676           1.631472  ...   \n",
       "1         -0.44331             1.969762          -0.612943  ...   \n",
       "2         -0.44331             1.969762           1.631472  ...   \n",
       "3         -0.44331             1.969762          -0.612943  ...   \n",
       "4         -0.44331            -0.507676          -0.612943  ...   \n",
       "...            ...                  ...                ...  ...   \n",
       "10321     -0.44331            -0.507676          -0.612943  ...   \n",
       "10322     -0.44331            -0.507676          -0.612943  ...   \n",
       "10323     -0.44331            -0.507676           1.631472  ...   \n",
       "10324     -0.44331            -0.507676          -0.612943  ...   \n",
       "10325     -0.44331            -0.507676          -0.612943  ...   \n",
       "\n",
       "       stream_movies_Yes  contract_One year  contract_Two year  \\\n",
       "0              -0.749470          -0.418184          -0.445654   \n",
       "1              -0.749470           2.391293          -0.445654   \n",
       "2              -0.749470          -0.418184          -0.445654   \n",
       "3              -0.749470           2.391293          -0.445654   \n",
       "4              -0.749470          -0.418184          -0.445654   \n",
       "...                  ...                ...                ...   \n",
       "10321          -0.749470          -0.418184          -0.445654   \n",
       "10322          -0.749470          -0.418184          -0.445654   \n",
       "10323           1.334275          -0.418184          -0.445654   \n",
       "10324          -0.749470          -0.418184          -0.445654   \n",
       "10325          -0.749470          -0.418184          -0.445654   \n",
       "\n",
       "       paperless_billing_Yes  payment_mode_Credit card (automatic)  \\\n",
       "0                   0.828011                             -0.424081   \n",
       "1                  -1.207713                             -0.424081   \n",
       "2                   0.828011                             -0.424081   \n",
       "3                  -1.207713                             -0.424081   \n",
       "4                   0.828011                             -0.424081   \n",
       "...                      ...                                   ...   \n",
       "10321               0.828011                             -0.424081   \n",
       "10322               0.828011                             -0.424081   \n",
       "10323               0.828011                             -0.424081   \n",
       "10324               0.828011                             -0.424081   \n",
       "10325              -1.207713                             -0.424081   \n",
       "\n",
       "       payment_mode_Electronic check  payment_mode_Mailed check  \\\n",
       "0                           1.361640                  -0.469492   \n",
       "1                          -0.734409                   2.129960   \n",
       "2                          -0.734409                   2.129960   \n",
       "3                          -0.734409                  -0.469492   \n",
       "4                           1.361640                  -0.469492   \n",
       "...                              ...                        ...   \n",
       "10321                      -0.734409                  -0.469492   \n",
       "10322                       1.361640                  -0.469492   \n",
       "10323                       1.361640                  -0.469492   \n",
       "10324                      -0.734409                  -0.469492   \n",
       "10325                      -0.734409                  -0.469492   \n",
       "\n",
       "       monthly_charges  total_charges  tenure_bins  \n",
       "0            -1.324065      -0.928063    -1.056437  \n",
       "1            -0.382144      -0.076795     0.204615  \n",
       "2            -0.489891      -0.892221    -1.056437  \n",
       "3            -0.891337      -0.099110     0.624965  \n",
       "4             0.095768      -0.872309    -1.056437  \n",
       "...                ...            ...          ...  \n",
       "10321         0.613169      -0.054277    -0.173701  \n",
       "10322         0.057657      -0.909866    -1.056437  \n",
       "10323         1.301892       1.019341     0.414790  \n",
       "10324         0.812791       0.954375     0.793106  \n",
       "10325        -0.726397      -0.840961    -1.056437  \n",
       "\n",
       "[10326 rows x 23 columns]"
      ]
     },
     "execution_count": 71,
     "metadata": {},
     "output_type": "execute_result"
    }
   ],
   "source": [
    "scaled_df"
   ]
  },
  {
   "cell_type": "code",
   "execution_count": 72,
   "metadata": {},
   "outputs": [
    {
     "data": {
      "text/plain": [
       "Index(['gender_Male', 'senior_citizen_1', 'married_Yes', 'dependents_Yes',\n",
       "       'phone_service_Yes', 'multiple_lines_Yes', 'internet_Fiber optic',\n",
       "       'internet_No', 'online_security_Yes', 'online_backup_Yes',\n",
       "       'device_protection_Yes', 'tech_support_Yes', 'stream_TV_Yes',\n",
       "       'stream_movies_Yes', 'contract_One year', 'contract_Two year',\n",
       "       'paperless_billing_Yes', 'payment_mode_Credit card (automatic)',\n",
       "       'payment_mode_Electronic check', 'payment_mode_Mailed check',\n",
       "       'monthly_charges', 'total_charges', 'tenure_bins'],\n",
       "      dtype='object')"
      ]
     },
     "execution_count": 72,
     "metadata": {},
     "output_type": "execute_result"
    }
   ],
   "source": [
    "scaled_df.columns"
   ]
  },
  {
   "cell_type": "markdown",
   "metadata": {
    "id": "bs-UplC6g8xy"
   },
   "source": [
    "# 4. Model Building"
   ]
  },
  {
   "cell_type": "code",
   "execution_count": 73,
   "metadata": {
    "id": "pxYQuMoUhTWD"
   },
   "outputs": [],
   "source": [
    "X = scaled_df\n",
    "y = resample_df['churn']"
   ]
  },
  {
   "cell_type": "code",
   "execution_count": 74,
   "metadata": {
    "id": "5K7c7yFneEfM"
   },
   "outputs": [],
   "source": [
    "X_train, X_test, y_train, y_test = train_test_split(X, y, test_size = 0.2, random_state = 104)"
   ]
  },
  {
   "cell_type": "markdown",
   "metadata": {
    "id": "HNK0um-8hwaq"
   },
   "source": [
    "# * Scorecard Function:"
   ]
  },
  {
   "cell_type": "code",
   "execution_count": 75,
   "metadata": {
    "id": "KPj1SKKUeMZW"
   },
   "outputs": [],
   "source": [
    "df_scorecard = pd.DataFrame(columns = ['Model_name', 'Accuracy_Score', 'Precision_Score', 'Recall_Score'])"
   ]
  },
  {
   "cell_type": "code",
   "execution_count": 76,
   "metadata": {
    "id": "IVq6YDQsh2dM"
   },
   "outputs": [],
   "source": [
    "def score_card(d_f, model_name, y_pred, k):\n",
    "    dfx = d_f.append(pd.Series({'Model_name': model_name, \n",
    "                     'Accuracy_Score': accuracy_score(y_test, y_pred), \n",
    "                     'Precision_Score': precision_score(y_test, y_pred, average = 'macro'), \n",
    "                     'Recall_Score': recall_score(y_test, y_pred, average = 'macro')}), ignore_index = True)\n",
    "    return dfx"
   ]
  },
  {
   "cell_type": "markdown",
   "metadata": {
    "id": "bHibk-51h8Sn"
   },
   "source": [
    "# 1. Logistic Regression"
   ]
  },
  {
   "cell_type": "code",
   "execution_count": 77,
   "metadata": {
    "colab": {
     "base_uri": "https://localhost:8080/",
     "height": 466
    },
    "executionInfo": {
     "elapsed": 1348,
     "status": "ok",
     "timestamp": 1685291946250,
     "user": {
      "displayName": "Aman Singh",
      "userId": "12858320181691589185"
     },
     "user_tz": -330
    },
    "id": "yoMfSk-biF_W",
    "outputId": "07577a3c-a380-4af0-a69e-20dae60d0a5d"
   },
   "outputs": [
    {
     "data": {
      "text/plain": [
       "<sklearn.metrics._plot.confusion_matrix.ConfusionMatrixDisplay at 0x2a1d63b35b0>"
      ]
     },
     "execution_count": 77,
     "metadata": {},
     "output_type": "execute_result"
    },
    {
     "data": {
      "image/png": "[encoded data removed]",
      "text/plain": [
       "<Figure size 432x288 with 2 Axes>"
      ]
     },
     "metadata": {
      "needs_background": "light"
     },
     "output_type": "display_data"
    }
   ],
   "source": [
    "lr = LogisticRegression(solver = 'liblinear', penalty = 'l1')\n",
    "model_lr = lr.fit(X_train, y_train)\n",
    "ypred_lr = model_lr.predict(X_test)\n",
    "cm_lr = confusion_matrix(y_test, ypred_lr)\n",
    "(ConfusionMatrixDisplay(confusion_matrix = cm_lr, display_labels = ['Not Churn', 'Churn'])).plot()"
   ]
  },
  {
   "cell_type": "code",
   "execution_count": 78,
   "metadata": {
    "colab": {
     "base_uri": "https://localhost:8080/",
     "height": 81
    },
    "executionInfo": {
     "elapsed": 24,
     "status": "ok",
     "timestamp": 1685291946251,
     "user": {
      "displayName": "Aman Singh",
      "userId": "12858320181691589185"
     },
     "user_tz": -330
    },
    "id": "CgW4M_BViZzq",
    "outputId": "9c6d4409-9255-4e34-8104-7537d3fc3e5a"
   },
   "outputs": [
    {
     "data": {
      "text/html": [
       "<div>\n",
       "<style scoped>\n",
       "    .dataframe tbody tr th:only-of-type {\n",
       "        vertical-align: middle;\n",
       "    }\n",
       "\n",
       "    .dataframe tbody tr th {\n",
       "        vertical-align: top;\n",
       "    }\n",
       "\n",
       "    .dataframe thead th {\n",
       "        text-align: right;\n",
       "    }\n",
       "</style>\n",
       "<table border=\"1\" class=\"dataframe\">\n",
       "  <thead>\n",
       "    <tr style=\"text-align: right;\">\n",
       "      <th></th>\n",
       "      <th>Model_name</th>\n",
       "      <th>Accuracy_Score</th>\n",
       "      <th>Precision_Score</th>\n",
       "      <th>Recall_Score</th>\n",
       "    </tr>\n",
       "  </thead>\n",
       "  <tbody>\n",
       "    <tr>\n",
       "      <th>0</th>\n",
       "      <td>Logistic Regression</td>\n",
       "      <td>0.838819</td>\n",
       "      <td>0.838946</td>\n",
       "      <td>0.838771</td>\n",
       "    </tr>\n",
       "  </tbody>\n",
       "</table>\n",
       "</div>"
      ],
      "text/plain": [
       "            Model_name Accuracy_Score Precision_Score Recall_Score\n",
       "0  Logistic Regression       0.838819        0.838946     0.838771"
      ]
     },
     "execution_count": 78,
     "metadata": {},
     "output_type": "execute_result"
    }
   ],
   "source": [
    "df101 = score_card(df_scorecard, 'Logistic Regression', ypred_lr, y_test) \n",
    "df101"
   ]
  },
  {
   "cell_type": "markdown",
   "metadata": {
    "id": "PoeswkhBk1Ra"
   },
   "source": [
    "# 2. Decision Tree: Entropy"
   ]
  },
  {
   "cell_type": "code",
   "execution_count": 79,
   "metadata": {
    "colab": {
     "base_uri": "https://localhost:8080/",
     "height": 466
    },
    "executionInfo": {
     "elapsed": 22,
     "status": "ok",
     "timestamp": 1685291946252,
     "user": {
      "displayName": "Aman Singh",
      "userId": "12858320181691589185"
     },
     "user_tz": -330
    },
    "id": "35LEMxqHk4mt",
    "outputId": "84eb1c8d-4c26-4681-84ff-9a0922daf5ba"
   },
   "outputs": [
    {
     "data": {
      "text/plain": [
       "<sklearn.metrics._plot.confusion_matrix.ConfusionMatrixDisplay at 0x2a1d66683a0>"
      ]
     },
     "execution_count": 79,
     "metadata": {},
     "output_type": "execute_result"
    },
    {
     "data": {
      "image/png": "[encoded data removed]",
      "text/plain": [
       "<Figure size 432x288 with 2 Axes>"
      ]
     },
     "metadata": {
      "needs_background": "light"
     },
     "output_type": "display_data"
    }
   ],
   "source": [
    "dtc_en = DecisionTreeClassifier(criterion = 'entropy')\n",
    "model_en = dtc_en.fit(X_train, y_train)\n",
    "ypred_en = model_en.predict(X_test)\n",
    "cm_en = confusion_matrix(y_test, ypred_en)\n",
    "(ConfusionMatrixDisplay(confusion_matrix = cm_en, display_labels = ['Not Churn', 'Churn'])).plot()"
   ]
  },
  {
   "cell_type": "code",
   "execution_count": 80,
   "metadata": {
    "colab": {
     "base_uri": "https://localhost:8080/",
     "height": 112
    },
    "executionInfo": {
     "elapsed": 14,
     "status": "ok",
     "timestamp": 1685291946252,
     "user": {
      "displayName": "Aman Singh",
      "userId": "12858320181691589185"
     },
     "user_tz": -330
    },
    "id": "e0lW5_qNk7ac",
    "outputId": "6ec75e20-9154-4481-b41d-d421f7669b4a"
   },
   "outputs": [
    {
     "data": {
      "text/html": [
       "<div>\n",
       "<style scoped>\n",
       "    .dataframe tbody tr th:only-of-type {\n",
       "        vertical-align: middle;\n",
       "    }\n",
       "\n",
       "    .dataframe tbody tr th {\n",
       "        vertical-align: top;\n",
       "    }\n",
       "\n",
       "    .dataframe thead th {\n",
       "        text-align: right;\n",
       "    }\n",
       "</style>\n",
       "<table border=\"1\" class=\"dataframe\">\n",
       "  <thead>\n",
       "    <tr style=\"text-align: right;\">\n",
       "      <th></th>\n",
       "      <th>Model_name</th>\n",
       "      <th>Accuracy_Score</th>\n",
       "      <th>Precision_Score</th>\n",
       "      <th>Recall_Score</th>\n",
       "    </tr>\n",
       "  </thead>\n",
       "  <tbody>\n",
       "    <tr>\n",
       "      <th>0</th>\n",
       "      <td>Logistic Regression</td>\n",
       "      <td>0.838819</td>\n",
       "      <td>0.838946</td>\n",
       "      <td>0.838771</td>\n",
       "    </tr>\n",
       "    <tr>\n",
       "      <th>1</th>\n",
       "      <td>Decision Tree: Entropy</td>\n",
       "      <td>0.798645</td>\n",
       "      <td>0.798719</td>\n",
       "      <td>0.798603</td>\n",
       "    </tr>\n",
       "  </tbody>\n",
       "</table>\n",
       "</div>"
      ],
      "text/plain": [
       "               Model_name Accuracy_Score Precision_Score Recall_Score\n",
       "0     Logistic Regression       0.838819        0.838946     0.838771\n",
       "1  Decision Tree: Entropy       0.798645        0.798719     0.798603"
      ]
     },
     "execution_count": 80,
     "metadata": {},
     "output_type": "execute_result"
    }
   ],
   "source": [
    "df102 = score_card(df101, 'Decision Tree: Entropy', ypred_en, y_test) \n",
    "df102"
   ]
  },
  {
   "cell_type": "markdown",
   "metadata": {
    "id": "8pNO86tclGXw"
   },
   "source": [
    "# 3. Decision Tree: Gini"
   ]
  },
  {
   "cell_type": "code",
   "execution_count": 81,
   "metadata": {
    "colab": {
     "base_uri": "https://localhost:8080/",
     "height": 466
    },
    "executionInfo": {
     "elapsed": 849,
     "status": "ok",
     "timestamp": 1685291947088,
     "user": {
      "displayName": "Aman Singh",
      "userId": "12858320181691589185"
     },
     "user_tz": -330
    },
    "id": "AHNe_KD2lF53",
    "outputId": "a0ccb05d-42a2-4903-8931-bb2e42270d23"
   },
   "outputs": [
    {
     "data": {
      "text/plain": [
       "<sklearn.metrics._plot.confusion_matrix.ConfusionMatrixDisplay at 0x2a1daaffca0>"
      ]
     },
     "execution_count": 81,
     "metadata": {},
     "output_type": "execute_result"
    },
    {
     "data": {
      "image/png": "[encoded data removed]",
      "text/plain": [
       "<Figure size 432x288 with 2 Axes>"
      ]
     },
     "metadata": {
      "needs_background": "light"
     },
     "output_type": "display_data"
    }
   ],
   "source": [
    "dtc_gn = DecisionTreeClassifier(criterion = 'gini')\n",
    "model_gn = dtc_gn.fit(X_train, y_train)\n",
    "ypred_gn = model_gn.predict(X_test)\n",
    "cm_gn = confusion_matrix(y_test, ypred_gn)\n",
    "(ConfusionMatrixDisplay(confusion_matrix = cm_gn, display_labels = ['Not Churn', 'Churn'])).plot()"
   ]
  },
  {
   "cell_type": "code",
   "execution_count": 82,
   "metadata": {
    "colab": {
     "base_uri": "https://localhost:8080/",
     "height": 143
    },
    "executionInfo": {
     "elapsed": 34,
     "status": "ok",
     "timestamp": 1685291947091,
     "user": {
      "displayName": "Aman Singh",
      "userId": "12858320181691589185"
     },
     "user_tz": -330
    },
    "id": "62rOwkx5lDOm",
    "outputId": "ab83ae65-e97c-431a-cfa5-c3e7032dd646"
   },
   "outputs": [
    {
     "data": {
      "text/html": [
       "<div>\n",
       "<style scoped>\n",
       "    .dataframe tbody tr th:only-of-type {\n",
       "        vertical-align: middle;\n",
       "    }\n",
       "\n",
       "    .dataframe tbody tr th {\n",
       "        vertical-align: top;\n",
       "    }\n",
       "\n",
       "    .dataframe thead th {\n",
       "        text-align: right;\n",
       "    }\n",
       "</style>\n",
       "<table border=\"1\" class=\"dataframe\">\n",
       "  <thead>\n",
       "    <tr style=\"text-align: right;\">\n",
       "      <th></th>\n",
       "      <th>Model_name</th>\n",
       "      <th>Accuracy_Score</th>\n",
       "      <th>Precision_Score</th>\n",
       "      <th>Recall_Score</th>\n",
       "    </tr>\n",
       "  </thead>\n",
       "  <tbody>\n",
       "    <tr>\n",
       "      <th>0</th>\n",
       "      <td>Logistic Regression</td>\n",
       "      <td>0.838819</td>\n",
       "      <td>0.838946</td>\n",
       "      <td>0.838771</td>\n",
       "    </tr>\n",
       "    <tr>\n",
       "      <th>1</th>\n",
       "      <td>Decision Tree: Entropy</td>\n",
       "      <td>0.798645</td>\n",
       "      <td>0.798719</td>\n",
       "      <td>0.798603</td>\n",
       "    </tr>\n",
       "    <tr>\n",
       "      <th>2</th>\n",
       "      <td>Decision Tree: Gini</td>\n",
       "      <td>0.802033</td>\n",
       "      <td>0.802056</td>\n",
       "      <td>0.802007</td>\n",
       "    </tr>\n",
       "  </tbody>\n",
       "</table>\n",
       "</div>"
      ],
      "text/plain": [
       "               Model_name Accuracy_Score Precision_Score Recall_Score\n",
       "0     Logistic Regression       0.838819        0.838946     0.838771\n",
       "1  Decision Tree: Entropy       0.798645        0.798719     0.798603\n",
       "2     Decision Tree: Gini       0.802033        0.802056     0.802007"
      ]
     },
     "execution_count": 82,
     "metadata": {},
     "output_type": "execute_result"
    }
   ],
   "source": [
    "df103 = score_card(df102, 'Decision Tree: Gini', ypred_gn, y_test) \n",
    "df103"
   ]
  },
  {
   "cell_type": "markdown",
   "metadata": {
    "id": "8ixDGx1koTsN"
   },
   "source": [
    "# 4. Decision Tree: GridSearchCV"
   ]
  },
  {
   "cell_type": "code",
   "execution_count": 83,
   "metadata": {
    "id": "jMu3xNCHoZeQ"
   },
   "outputs": [],
   "source": [
    "htmodel = gscv(DecisionTreeClassifier(criterion = 'gini'), param_grid = {'max_depth': [5,10,15,20,25,30],\n",
    "                                                       'min_samples_leaf': [1,2],\n",
    "                                                       'min_samples_split': [1,2,3,4]}, cv = 5)"
   ]
  },
  {
   "cell_type": "code",
   "execution_count": 84,
   "metadata": {
    "colab": {
     "base_uri": "https://localhost:8080/"
    },
    "executionInfo": {
     "elapsed": 9124,
     "status": "ok",
     "timestamp": 1685291956187,
     "user": {
      "displayName": "Aman Singh",
      "userId": "12858320181691589185"
     },
     "user_tz": -330
    },
    "id": "QQvt2mQ8ob26",
    "outputId": "4fa0739e-968a-40dd-e1d7-36a2fbd4c49e"
   },
   "outputs": [
    {
     "name": "stdout",
     "output_type": "stream",
     "text": [
      "{'max_depth': 10, 'min_samples_leaf': 2, 'min_samples_split': 3}\n"
     ]
    }
   ],
   "source": [
    "htmodel.fit(X,y)\n",
    "print(htmodel.best_params_)"
   ]
  },
  {
   "cell_type": "code",
   "execution_count": 85,
   "metadata": {
    "id": "DJuNWwTiokhA"
   },
   "outputs": [],
   "source": [
    "model_gscv = DecisionTreeClassifier(criterion = 'gini', max_depth = htmodel.best_params_.get('max_depth'),\n",
    "         min_samples_leaf = htmodel.best_params_.get('min_samples_leaf'),\n",
    "         min_samples_split = htmodel.best_params_.get('min_samples_split')).fit(X_train, y_train)"
   ]
  },
  {
   "cell_type": "code",
   "execution_count": 86,
   "metadata": {
    "colab": {
     "base_uri": "https://localhost:8080/",
     "height": 466
    },
    "executionInfo": {
     "elapsed": 51,
     "status": "ok",
     "timestamp": 1685291956187,
     "user": {
      "displayName": "Aman Singh",
      "userId": "12858320181691589185"
     },
     "user_tz": -330
    },
    "id": "HlhjvFbioqc_",
    "outputId": "676b7b53-8672-4c94-8418-2715207eec2f"
   },
   "outputs": [
    {
     "data": {
      "text/plain": [
       "<sklearn.metrics._plot.confusion_matrix.ConfusionMatrixDisplay at 0x2a1d57aa2e0>"
      ]
     },
     "execution_count": 86,
     "metadata": {},
     "output_type": "execute_result"
    },
    {
     "data": {
      "image/png": "[encoded data removed]",
      "text/plain": [
       "<Figure size 432x288 with 2 Axes>"
      ]
     },
     "metadata": {
      "needs_background": "light"
     },
     "output_type": "display_data"
    }
   ],
   "source": [
    "ypred_gscv = model_gscv.predict(X_test)\n",
    "cm_gscv = confusion_matrix(y_test, ypred_gscv)\n",
    "(ConfusionMatrixDisplay(confusion_matrix = cm_gscv, display_labels = ['Not Churn', 'Churn'])).plot()"
   ]
  },
  {
   "cell_type": "code",
   "execution_count": 87,
   "metadata": {
    "colab": {
     "base_uri": "https://localhost:8080/",
     "height": 175
    },
    "executionInfo": {
     "elapsed": 29,
     "status": "ok",
     "timestamp": 1685291956188,
     "user": {
      "displayName": "Aman Singh",
      "userId": "12858320181691589185"
     },
     "user_tz": -330
    },
    "id": "aBqqFQvGpzSV",
    "outputId": "40430d63-12d5-4d1e-9a40-953ed6f8d407"
   },
   "outputs": [
    {
     "data": {
      "text/html": [
       "<div>\n",
       "<style scoped>\n",
       "    .dataframe tbody tr th:only-of-type {\n",
       "        vertical-align: middle;\n",
       "    }\n",
       "\n",
       "    .dataframe tbody tr th {\n",
       "        vertical-align: top;\n",
       "    }\n",
       "\n",
       "    .dataframe thead th {\n",
       "        text-align: right;\n",
       "    }\n",
       "</style>\n",
       "<table border=\"1\" class=\"dataframe\">\n",
       "  <thead>\n",
       "    <tr style=\"text-align: right;\">\n",
       "      <th></th>\n",
       "      <th>Model_name</th>\n",
       "      <th>Accuracy_Score</th>\n",
       "      <th>Precision_Score</th>\n",
       "      <th>Recall_Score</th>\n",
       "    </tr>\n",
       "  </thead>\n",
       "  <tbody>\n",
       "    <tr>\n",
       "      <th>0</th>\n",
       "      <td>Logistic Regression</td>\n",
       "      <td>0.838819</td>\n",
       "      <td>0.838946</td>\n",
       "      <td>0.838771</td>\n",
       "    </tr>\n",
       "    <tr>\n",
       "      <th>1</th>\n",
       "      <td>Decision Tree: Entropy</td>\n",
       "      <td>0.798645</td>\n",
       "      <td>0.798719</td>\n",
       "      <td>0.798603</td>\n",
       "    </tr>\n",
       "    <tr>\n",
       "      <th>2</th>\n",
       "      <td>Decision Tree: Gini</td>\n",
       "      <td>0.802033</td>\n",
       "      <td>0.802056</td>\n",
       "      <td>0.802007</td>\n",
       "    </tr>\n",
       "    <tr>\n",
       "      <th>3</th>\n",
       "      <td>Decision Tree: GridSearchCV</td>\n",
       "      <td>0.82575</td>\n",
       "      <td>0.828083</td>\n",
       "      <td>0.825545</td>\n",
       "    </tr>\n",
       "  </tbody>\n",
       "</table>\n",
       "</div>"
      ],
      "text/plain": [
       "                    Model_name Accuracy_Score Precision_Score Recall_Score\n",
       "0          Logistic Regression       0.838819        0.838946     0.838771\n",
       "1       Decision Tree: Entropy       0.798645        0.798719     0.798603\n",
       "2          Decision Tree: Gini       0.802033        0.802056     0.802007\n",
       "3  Decision Tree: GridSearchCV        0.82575        0.828083     0.825545"
      ]
     },
     "execution_count": 87,
     "metadata": {},
     "output_type": "execute_result"
    }
   ],
   "source": [
    "df104 = score_card(df103, 'Decision Tree: GridSearchCV', ypred_gscv, y_test) \n",
    "df104"
   ]
  },
  {
   "cell_type": "markdown",
   "metadata": {
    "id": "VpZn6WEpqc_o"
   },
   "source": [
    "# 5. Random Forest"
   ]
  },
  {
   "cell_type": "code",
   "execution_count": 104,
   "metadata": {
    "colab": {
     "base_uri": "https://localhost:8080/",
     "height": 466
    },
    "executionInfo": {
     "elapsed": 1842,
     "status": "ok",
     "timestamp": 1685291958007,
     "user": {
      "displayName": "Aman Singh",
      "userId": "12858320181691589185"
     },
     "user_tz": -330
    },
    "id": "4GshHXuFqgpi",
    "outputId": "3f345e82-bf8d-4e63-f75c-78c1983b27e7"
   },
   "outputs": [
    {
     "data": {
      "text/plain": [
       "<sklearn.metrics._plot.confusion_matrix.ConfusionMatrixDisplay at 0x2a1d0eed910>"
      ]
     },
     "execution_count": 104,
     "metadata": {},
     "output_type": "execute_result"
    },
    {
     "data": {
      "image/png": "[encoded data removed]",
      "text/plain": [
       "<Figure size 432x288 with 2 Axes>"
      ]
     },
     "metadata": {
      "needs_background": "light"
     },
     "output_type": "display_data"
    }
   ],
   "source": [
    "rf = RandomForestClassifier(n_estimators = 50, random_state = 104)\n",
    "model_rf = rf.fit(X_train, y_train)\n",
    "ypred_rf = model_rf.predict(X_test)\n",
    "cm_rf = confusion_matrix(y_test, ypred_rf)\n",
    "(ConfusionMatrixDisplay(confusion_matrix = cm_rf, display_labels = ['Not Churn', 'Churn'])).plot()"
   ]
  },
  {
   "cell_type": "code",
   "execution_count": 105,
   "metadata": {
    "colab": {
     "base_uri": "https://localhost:8080/",
     "height": 847
    },
    "executionInfo": {
     "elapsed": 1256,
     "status": "ok",
     "timestamp": 1685291959248,
     "user": {
      "displayName": "Aman Singh",
      "userId": "12858320181691589185"
     },
     "user_tz": -330
    },
    "id": "KrOqNh_9t3iH",
    "outputId": "776a8804-05db-4408-e83b-5a8486fdf32b"
   },
   "outputs": [
    {
     "data": {
      "text/plain": [
       "<BarContainer object of 23 artists>"
      ]
     },
     "execution_count": 105,
     "metadata": {},
     "output_type": "execute_result"
    },
    {
     "data": {
      "image/png": "[encoded data removed]",
      "text/plain": [
       "<Figure size 720x720 with 1 Axes>"
      ]
     },
     "metadata": {
      "needs_background": "light"
     },
     "output_type": "display_data"
    }
   ],
   "source": [
    "plt.figure(figsize = (10,10))\n",
    "fi_rf = model_rf.feature_importances_\n",
    "\n",
    "plt.barh(X.columns, model_rf.feature_importances_)"
   ]
  },
  {
   "cell_type": "markdown",
   "metadata": {
    "id": "k89PTkSRuou-"
   },
   "source": [
    "* According to Random Forest, most important features are Total Charges and Monthly Charges. "
   ]
  },
  {
   "cell_type": "code",
   "execution_count": 106,
   "metadata": {
    "colab": {
     "base_uri": "https://localhost:8080/",
     "height": 206
    },
    "executionInfo": {
     "elapsed": 28,
     "status": "ok",
     "timestamp": 1685291959249,
     "user": {
      "displayName": "Aman Singh",
      "userId": "12858320181691589185"
     },
     "user_tz": -330
    },
    "id": "-bVxGFg7qs4e",
    "outputId": "8e02101c-1ae4-4a42-a8a5-69c14b9580c3"
   },
   "outputs": [
    {
     "data": {
      "text/html": [
       "<div>\n",
       "<style scoped>\n",
       "    .dataframe tbody tr th:only-of-type {\n",
       "        vertical-align: middle;\n",
       "    }\n",
       "\n",
       "    .dataframe tbody tr th {\n",
       "        vertical-align: top;\n",
       "    }\n",
       "\n",
       "    .dataframe thead th {\n",
       "        text-align: right;\n",
       "    }\n",
       "</style>\n",
       "<table border=\"1\" class=\"dataframe\">\n",
       "  <thead>\n",
       "    <tr style=\"text-align: right;\">\n",
       "      <th></th>\n",
       "      <th>Model_name</th>\n",
       "      <th>Accuracy_Score</th>\n",
       "      <th>Precision_Score</th>\n",
       "      <th>Recall_Score</th>\n",
       "    </tr>\n",
       "  </thead>\n",
       "  <tbody>\n",
       "    <tr>\n",
       "      <th>0</th>\n",
       "      <td>Logistic Regression</td>\n",
       "      <td>0.838819</td>\n",
       "      <td>0.838946</td>\n",
       "      <td>0.838771</td>\n",
       "    </tr>\n",
       "    <tr>\n",
       "      <th>1</th>\n",
       "      <td>Decision Tree: Entropy</td>\n",
       "      <td>0.798645</td>\n",
       "      <td>0.798719</td>\n",
       "      <td>0.798603</td>\n",
       "    </tr>\n",
       "    <tr>\n",
       "      <th>2</th>\n",
       "      <td>Decision Tree: Gini</td>\n",
       "      <td>0.802033</td>\n",
       "      <td>0.802056</td>\n",
       "      <td>0.802007</td>\n",
       "    </tr>\n",
       "    <tr>\n",
       "      <th>3</th>\n",
       "      <td>Decision Tree: GridSearchCV</td>\n",
       "      <td>0.82575</td>\n",
       "      <td>0.828083</td>\n",
       "      <td>0.825545</td>\n",
       "    </tr>\n",
       "    <tr>\n",
       "      <th>4</th>\n",
       "      <td>Random Forest</td>\n",
       "      <td>0.846079</td>\n",
       "      <td>0.846077</td>\n",
       "      <td>0.846085</td>\n",
       "    </tr>\n",
       "  </tbody>\n",
       "</table>\n",
       "</div>"
      ],
      "text/plain": [
       "                    Model_name Accuracy_Score Precision_Score Recall_Score\n",
       "0          Logistic Regression       0.838819        0.838946     0.838771\n",
       "1       Decision Tree: Entropy       0.798645        0.798719     0.798603\n",
       "2          Decision Tree: Gini       0.802033        0.802056     0.802007\n",
       "3  Decision Tree: GridSearchCV        0.82575        0.828083     0.825545\n",
       "4                Random Forest       0.846079        0.846077     0.846085"
      ]
     },
     "execution_count": 106,
     "metadata": {},
     "output_type": "execute_result"
    }
   ],
   "source": [
    "df105 = score_card(df104, 'Random Forest', ypred_rf, y_test) \n",
    "df105"
   ]
  },
  {
   "cell_type": "markdown",
   "metadata": {
    "id": "xE8mXD883PvI"
   },
   "source": [
    "# 7. Bagging"
   ]
  },
  {
   "cell_type": "code",
   "execution_count": 107,
   "metadata": {
    "colab": {
     "base_uri": "https://localhost:8080/",
     "height": 466
    },
    "executionInfo": {
     "elapsed": 2706,
     "status": "ok",
     "timestamp": 1685292575750,
     "user": {
      "displayName": "Aman Singh",
      "userId": "12858320181691589185"
     },
     "user_tz": -330
    },
    "id": "H4_ERABy3kFe",
    "outputId": "9b6f9130-a613-40a9-896b-0e044dbf3a80"
   },
   "outputs": [
    {
     "data": {
      "text/plain": [
       "<sklearn.metrics._plot.confusion_matrix.ConfusionMatrixDisplay at 0x2a1dc0ef7c0>"
      ]
     },
     "execution_count": 107,
     "metadata": {},
     "output_type": "execute_result"
    },
    {
     "data": {
      "image/png": "[encoded data removed]",
      "text/plain": [
       "<Figure size 432x288 with 2 Axes>"
      ]
     },
     "metadata": {
      "needs_background": "light"
     },
     "output_type": "display_data"
    }
   ],
   "source": [
    "bg = BaggingClassifier(n_estimators = 80, random_state = 104)\n",
    "model_bg = bg.fit(X_train, y_train)\n",
    "ypred_bg = model_bg.predict(X_test)\n",
    "cm_bg = confusion_matrix(y_test, ypred_bg)\n",
    "(ConfusionMatrixDisplay(confusion_matrix = cm_bg, display_labels = ['Not Churn', 'Churn'])).plot()"
   ]
  },
  {
   "cell_type": "code",
   "execution_count": 118,
   "metadata": {
    "colab": {
     "base_uri": "https://localhost:8080/",
     "height": 269
    },
    "executionInfo": {
     "elapsed": 40,
     "status": "ok",
     "timestamp": 1685292575751,
     "user": {
      "displayName": "Aman Singh",
      "userId": "12858320181691589185"
     },
     "user_tz": -330
    },
    "id": "epVRh5jh3r45",
    "outputId": "399db6bb-9083-44ab-ecaa-bd0454239bb5"
   },
   "outputs": [
    {
     "data": {
      "text/html": [
       "<div>\n",
       "<style scoped>\n",
       "    .dataframe tbody tr th:only-of-type {\n",
       "        vertical-align: middle;\n",
       "    }\n",
       "\n",
       "    .dataframe tbody tr th {\n",
       "        vertical-align: top;\n",
       "    }\n",
       "\n",
       "    .dataframe thead th {\n",
       "        text-align: right;\n",
       "    }\n",
       "</style>\n",
       "<table border=\"1\" class=\"dataframe\">\n",
       "  <thead>\n",
       "    <tr style=\"text-align: right;\">\n",
       "      <th></th>\n",
       "      <th>Model_name</th>\n",
       "      <th>Accuracy_Score</th>\n",
       "      <th>Precision_Score</th>\n",
       "      <th>Recall_Score</th>\n",
       "    </tr>\n",
       "  </thead>\n",
       "  <tbody>\n",
       "    <tr>\n",
       "      <th>0</th>\n",
       "      <td>Logistic Regression</td>\n",
       "      <td>0.838819</td>\n",
       "      <td>0.838946</td>\n",
       "      <td>0.838771</td>\n",
       "    </tr>\n",
       "    <tr>\n",
       "      <th>1</th>\n",
       "      <td>Decision Tree: Entropy</td>\n",
       "      <td>0.798645</td>\n",
       "      <td>0.798719</td>\n",
       "      <td>0.798603</td>\n",
       "    </tr>\n",
       "    <tr>\n",
       "      <th>2</th>\n",
       "      <td>Decision Tree: Gini</td>\n",
       "      <td>0.802033</td>\n",
       "      <td>0.802056</td>\n",
       "      <td>0.802007</td>\n",
       "    </tr>\n",
       "    <tr>\n",
       "      <th>3</th>\n",
       "      <td>Decision Tree: GridSearchCV</td>\n",
       "      <td>0.82575</td>\n",
       "      <td>0.828083</td>\n",
       "      <td>0.825545</td>\n",
       "    </tr>\n",
       "    <tr>\n",
       "      <th>4</th>\n",
       "      <td>Random Forest</td>\n",
       "      <td>0.846079</td>\n",
       "      <td>0.846077</td>\n",
       "      <td>0.846085</td>\n",
       "    </tr>\n",
       "    <tr>\n",
       "      <th>5</th>\n",
       "      <td>Bagging Classifier</td>\n",
       "      <td>0.842691</td>\n",
       "      <td>0.842717</td>\n",
       "      <td>0.842713</td>\n",
       "    </tr>\n",
       "  </tbody>\n",
       "</table>\n",
       "</div>"
      ],
      "text/plain": [
       "                    Model_name Accuracy_Score Precision_Score Recall_Score\n",
       "0          Logistic Regression       0.838819        0.838946     0.838771\n",
       "1       Decision Tree: Entropy       0.798645        0.798719     0.798603\n",
       "2          Decision Tree: Gini       0.802033        0.802056     0.802007\n",
       "3  Decision Tree: GridSearchCV        0.82575        0.828083     0.825545\n",
       "4                Random Forest       0.846079        0.846077     0.846085\n",
       "5           Bagging Classifier       0.842691        0.842717     0.842713"
      ]
     },
     "execution_count": 118,
     "metadata": {},
     "output_type": "execute_result"
    }
   ],
   "source": [
    "df107 = score_card(df105, 'Bagging Classifier', ypred_bg, y_test) \n",
    "df107"
   ]
  },
  {
   "cell_type": "markdown",
   "metadata": {
    "id": "6JZ_zR6x5FmL"
   },
   "source": [
    "# 8. Bagging: Random Forest"
   ]
  },
  {
   "cell_type": "code",
   "execution_count": 119,
   "metadata": {
    "colab": {
     "base_uri": "https://localhost:8080/",
     "height": 466
    },
    "executionInfo": {
     "elapsed": 7637,
     "status": "ok",
     "timestamp": 1685292583352,
     "user": {
      "displayName": "Aman Singh",
      "userId": "12858320181691589185"
     },
     "user_tz": -330
    },
    "id": "0BR5_xn_3xWm",
    "outputId": "5ddda03e-5b62-481b-af0c-a327b1d00e2d"
   },
   "outputs": [
    {
     "data": {
      "text/plain": [
       "<sklearn.metrics._plot.confusion_matrix.ConfusionMatrixDisplay at 0x2a1dc530dc0>"
      ]
     },
     "execution_count": 119,
     "metadata": {},
     "output_type": "execute_result"
    },
    {
     "data": {
      "image/png": "[encoded data removed]",
      "text/plain": [
       "<Figure size 432x288 with 2 Axes>"
      ]
     },
     "metadata": {
      "needs_background": "light"
     },
     "output_type": "display_data"
    }
   ],
   "source": [
    "bg_rf = BaggingClassifier(RandomForestClassifier(n_estimators = 80, random_state = 104))\n",
    "model_bg_rf = bg_rf.fit(X_train, y_train)\n",
    "ypred_bg_rf = model_bg_rf.predict(X_test)\n",
    "cm_bg_rf = confusion_matrix(y_test, ypred_bg_rf)\n",
    "(ConfusionMatrixDisplay(confusion_matrix = cm_bg_rf, display_labels = ['Not Churn', 'Churn'])).plot()"
   ]
  },
  {
   "cell_type": "code",
   "execution_count": 120,
   "metadata": {
    "colab": {
     "base_uri": "https://localhost:8080/",
     "height": 300
    },
    "executionInfo": {
     "elapsed": 16,
     "status": "ok",
     "timestamp": 1685292583352,
     "user": {
      "displayName": "Aman Singh",
      "userId": "12858320181691589185"
     },
     "user_tz": -330
    },
    "id": "Osyvgr1c32mj",
    "outputId": "fb0f553f-a126-49ac-c79e-b10bdbd2c5a4"
   },
   "outputs": [
    {
     "data": {
      "text/html": [
       "<div>\n",
       "<style scoped>\n",
       "    .dataframe tbody tr th:only-of-type {\n",
       "        vertical-align: middle;\n",
       "    }\n",
       "\n",
       "    .dataframe tbody tr th {\n",
       "        vertical-align: top;\n",
       "    }\n",
       "\n",
       "    .dataframe thead th {\n",
       "        text-align: right;\n",
       "    }\n",
       "</style>\n",
       "<table border=\"1\" class=\"dataframe\">\n",
       "  <thead>\n",
       "    <tr style=\"text-align: right;\">\n",
       "      <th></th>\n",
       "      <th>Model_name</th>\n",
       "      <th>Accuracy_Score</th>\n",
       "      <th>Precision_Score</th>\n",
       "      <th>Recall_Score</th>\n",
       "    </tr>\n",
       "  </thead>\n",
       "  <tbody>\n",
       "    <tr>\n",
       "      <th>0</th>\n",
       "      <td>Logistic Regression</td>\n",
       "      <td>0.838819</td>\n",
       "      <td>0.838946</td>\n",
       "      <td>0.838771</td>\n",
       "    </tr>\n",
       "    <tr>\n",
       "      <th>1</th>\n",
       "      <td>Decision Tree: Entropy</td>\n",
       "      <td>0.798645</td>\n",
       "      <td>0.798719</td>\n",
       "      <td>0.798603</td>\n",
       "    </tr>\n",
       "    <tr>\n",
       "      <th>2</th>\n",
       "      <td>Decision Tree: Gini</td>\n",
       "      <td>0.802033</td>\n",
       "      <td>0.802056</td>\n",
       "      <td>0.802007</td>\n",
       "    </tr>\n",
       "    <tr>\n",
       "      <th>3</th>\n",
       "      <td>Decision Tree: GridSearchCV</td>\n",
       "      <td>0.82575</td>\n",
       "      <td>0.828083</td>\n",
       "      <td>0.825545</td>\n",
       "    </tr>\n",
       "    <tr>\n",
       "      <th>4</th>\n",
       "      <td>Random Forest</td>\n",
       "      <td>0.846079</td>\n",
       "      <td>0.846077</td>\n",
       "      <td>0.846085</td>\n",
       "    </tr>\n",
       "    <tr>\n",
       "      <th>5</th>\n",
       "      <td>Bagging Classifier</td>\n",
       "      <td>0.842691</td>\n",
       "      <td>0.842717</td>\n",
       "      <td>0.842713</td>\n",
       "    </tr>\n",
       "    <tr>\n",
       "      <th>6</th>\n",
       "      <td>Bagging Classifier: Random Forest</td>\n",
       "      <td>0.853824</td>\n",
       "      <td>0.853849</td>\n",
       "      <td>0.853802</td>\n",
       "    </tr>\n",
       "  </tbody>\n",
       "</table>\n",
       "</div>"
      ],
      "text/plain": [
       "                          Model_name Accuracy_Score Precision_Score  \\\n",
       "0                Logistic Regression       0.838819        0.838946   \n",
       "1             Decision Tree: Entropy       0.798645        0.798719   \n",
       "2                Decision Tree: Gini       0.802033        0.802056   \n",
       "3        Decision Tree: GridSearchCV        0.82575        0.828083   \n",
       "4                      Random Forest       0.846079        0.846077   \n",
       "5                 Bagging Classifier       0.842691        0.842717   \n",
       "6  Bagging Classifier: Random Forest       0.853824        0.853849   \n",
       "\n",
       "  Recall_Score  \n",
       "0     0.838771  \n",
       "1     0.798603  \n",
       "2     0.802007  \n",
       "3     0.825545  \n",
       "4     0.846085  \n",
       "5     0.842713  \n",
       "6     0.853802  "
      ]
     },
     "execution_count": 120,
     "metadata": {},
     "output_type": "execute_result"
    }
   ],
   "source": [
    "df108 = score_card(df107, 'Bagging Classifier: Random Forest', ypred_bg_rf, y_test) \n",
    "df108"
   ]
  },
  {
   "cell_type": "code",
   "execution_count": 121,
   "metadata": {},
   "outputs": [
    {
     "data": {
      "image/png": "[encoded data removed]",
      "text/plain": [
       "<Figure size 432x288 with 1 Axes>"
      ]
     },
     "metadata": {
      "needs_background": "light"
     },
     "output_type": "display_data"
    }
   ],
   "source": [
    "\n",
    "from sklearn.metrics import roc_curve, auc\n",
    "fpr, tpr, thresholds = roc_curve(y_test, ypred_bg_rf)\n",
    "roc_auc = auc(fpr, tpr)\n",
    "\n",
    "# Plot the ROC curve\n",
    "plt.figure()\n",
    "plt.plot(fpr, tpr, color='darkorange', lw=2, label='ROC curve (AUC = %0.2f)' % roc_auc)\n",
    "plt.plot([0, 1], [0, 1], color='navy', lw=2, linestyle='--')\n",
    "plt.xlim([0.0, 1.0])\n",
    "plt.ylim([0.0, 1.05])\n",
    "plt.xlabel('False Positive Rate')\n",
    "plt.ylabel('True Positive Rate')\n",
    "plt.title('Bagging: Random Forest')\n",
    "plt.legend(loc=\"lower right\")\n",
    "plt.show()"
   ]
  },
  {
   "cell_type": "markdown",
   "metadata": {
    "id": "e3T183g69kMJ"
   },
   "source": [
    "# 10. AdaBoost Classifier"
   ]
  },
  {
   "cell_type": "code",
   "execution_count": 122,
   "metadata": {
    "colab": {
     "base_uri": "https://localhost:8080/",
     "height": 466
    },
    "executionInfo": {
     "elapsed": 737,
     "status": "ok",
     "timestamp": 1685292584998,
     "user": {
      "displayName": "Aman Singh",
      "userId": "12858320181691589185"
     },
     "user_tz": -330
    },
    "id": "9gXK5JBP9nHZ",
    "outputId": "144383f7-4147-4954-c9fd-fa2af9eb4e69"
   },
   "outputs": [
    {
     "data": {
      "text/plain": [
       "<sklearn.metrics._plot.confusion_matrix.ConfusionMatrixDisplay at 0x2a1dc1c42e0>"
      ]
     },
     "execution_count": 122,
     "metadata": {},
     "output_type": "execute_result"
    },
    {
     "data": {
      "image/png": "[encoded data removed]",
      "text/plain": [
       "<Figure size 432x288 with 2 Axes>"
      ]
     },
     "metadata": {
      "needs_background": "light"
     },
     "output_type": "display_data"
    }
   ],
   "source": [
    "ab = AdaBoostClassifier(n_estimators = 30, random_state = 104)\n",
    "model_ab = ab.fit(X_train, y_train)\n",
    "ypred_ab = model_ab.predict(X_test)\n",
    "cm_ab = confusion_matrix(y_test, ypred_ab)\n",
    "(ConfusionMatrixDisplay(confusion_matrix = cm_ab, display_labels = ['Not Churn', 'Churn'])).plot()"
   ]
  },
  {
   "cell_type": "code",
   "execution_count": 123,
   "metadata": {
    "colab": {
     "base_uri": "https://localhost:8080/",
     "height": 363
    },
    "executionInfo": {
     "elapsed": 12,
     "status": "ok",
     "timestamp": 1685292584999,
     "user": {
      "displayName": "Aman Singh",
      "userId": "12858320181691589185"
     },
     "user_tz": -330
    },
    "id": "f6fYYm6W-JnZ",
    "outputId": "b6c48403-96c1-4b6d-c908-2d2f3f0432d4"
   },
   "outputs": [
    {
     "data": {
      "text/html": [
       "<div>\n",
       "<style scoped>\n",
       "    .dataframe tbody tr th:only-of-type {\n",
       "        vertical-align: middle;\n",
       "    }\n",
       "\n",
       "    .dataframe tbody tr th {\n",
       "        vertical-align: top;\n",
       "    }\n",
       "\n",
       "    .dataframe thead th {\n",
       "        text-align: right;\n",
       "    }\n",
       "</style>\n",
       "<table border=\"1\" class=\"dataframe\">\n",
       "  <thead>\n",
       "    <tr style=\"text-align: right;\">\n",
       "      <th></th>\n",
       "      <th>Model_name</th>\n",
       "      <th>Accuracy_Score</th>\n",
       "      <th>Precision_Score</th>\n",
       "      <th>Recall_Score</th>\n",
       "    </tr>\n",
       "  </thead>\n",
       "  <tbody>\n",
       "    <tr>\n",
       "      <th>0</th>\n",
       "      <td>Logistic Regression</td>\n",
       "      <td>0.838819</td>\n",
       "      <td>0.838946</td>\n",
       "      <td>0.838771</td>\n",
       "    </tr>\n",
       "    <tr>\n",
       "      <th>1</th>\n",
       "      <td>Decision Tree: Entropy</td>\n",
       "      <td>0.798645</td>\n",
       "      <td>0.798719</td>\n",
       "      <td>0.798603</td>\n",
       "    </tr>\n",
       "    <tr>\n",
       "      <th>2</th>\n",
       "      <td>Decision Tree: Gini</td>\n",
       "      <td>0.802033</td>\n",
       "      <td>0.802056</td>\n",
       "      <td>0.802007</td>\n",
       "    </tr>\n",
       "    <tr>\n",
       "      <th>3</th>\n",
       "      <td>Decision Tree: GridSearchCV</td>\n",
       "      <td>0.82575</td>\n",
       "      <td>0.828083</td>\n",
       "      <td>0.825545</td>\n",
       "    </tr>\n",
       "    <tr>\n",
       "      <th>4</th>\n",
       "      <td>Random Forest</td>\n",
       "      <td>0.846079</td>\n",
       "      <td>0.846077</td>\n",
       "      <td>0.846085</td>\n",
       "    </tr>\n",
       "    <tr>\n",
       "      <th>5</th>\n",
       "      <td>Bagging Classifier</td>\n",
       "      <td>0.842691</td>\n",
       "      <td>0.842717</td>\n",
       "      <td>0.842713</td>\n",
       "    </tr>\n",
       "    <tr>\n",
       "      <th>6</th>\n",
       "      <td>Bagging Classifier: Random Forest</td>\n",
       "      <td>0.853824</td>\n",
       "      <td>0.853849</td>\n",
       "      <td>0.853802</td>\n",
       "    </tr>\n",
       "    <tr>\n",
       "      <th>7</th>\n",
       "      <td>AdaBoost</td>\n",
       "      <td>0.826234</td>\n",
       "      <td>0.831175</td>\n",
       "      <td>0.825937</td>\n",
       "    </tr>\n",
       "  </tbody>\n",
       "</table>\n",
       "</div>"
      ],
      "text/plain": [
       "                          Model_name Accuracy_Score Precision_Score  \\\n",
       "0                Logistic Regression       0.838819        0.838946   \n",
       "1             Decision Tree: Entropy       0.798645        0.798719   \n",
       "2                Decision Tree: Gini       0.802033        0.802056   \n",
       "3        Decision Tree: GridSearchCV        0.82575        0.828083   \n",
       "4                      Random Forest       0.846079        0.846077   \n",
       "5                 Bagging Classifier       0.842691        0.842717   \n",
       "6  Bagging Classifier: Random Forest       0.853824        0.853849   \n",
       "7                           AdaBoost       0.826234        0.831175   \n",
       "\n",
       "  Recall_Score  \n",
       "0     0.838771  \n",
       "1     0.798603  \n",
       "2     0.802007  \n",
       "3     0.825545  \n",
       "4     0.846085  \n",
       "5     0.842713  \n",
       "6     0.853802  \n",
       "7     0.825937  "
      ]
     },
     "execution_count": 123,
     "metadata": {},
     "output_type": "execute_result"
    }
   ],
   "source": [
    "df110 = score_card(df108, 'AdaBoost', ypred_ab, y_test) \n",
    "df110"
   ]
  },
  {
   "cell_type": "markdown",
   "metadata": {
    "id": "H3O025pDAd-o"
   },
   "source": [
    "# 12. SVM"
   ]
  },
  {
   "cell_type": "code",
   "execution_count": 124,
   "metadata": {
    "colab": {
     "base_uri": "https://localhost:8080/",
     "height": 466
    },
    "executionInfo": {
     "elapsed": 3618,
     "status": "ok",
     "timestamp": 1685292589984,
     "user": {
      "displayName": "Aman Singh",
      "userId": "12858320181691589185"
     },
     "user_tz": -330
    },
    "id": "49JRnXuMAhwy",
    "outputId": "78cdc318-b1b1-4b32-a8d3-1991de02cfc4"
   },
   "outputs": [
    {
     "data": {
      "text/plain": [
       "<sklearn.metrics._plot.confusion_matrix.ConfusionMatrixDisplay at 0x2a1ee444280>"
      ]
     },
     "execution_count": 124,
     "metadata": {},
     "output_type": "execute_result"
    },
    {
     "data": {
      "image/png": "[encoded data removed]",
      "text/plain": [
       "<Figure size 432x288 with 2 Axes>"
      ]
     },
     "metadata": {
      "needs_background": "light"
     },
     "output_type": "display_data"
    }
   ],
   "source": [
    "svm = SVC(kernel = 'rbf')\n",
    "model_svm = svm.fit(X_train, y_train)\n",
    "ypred_svm = model_svm.predict(X_test)\n",
    "cm_svm = confusion_matrix(y_test, ypred_svm)\n",
    "(ConfusionMatrixDisplay(confusion_matrix = cm_svm, display_labels = ['Not Churn', 'Churn'])).plot()"
   ]
  },
  {
   "cell_type": "code",
   "execution_count": 125,
   "metadata": {
    "colab": {
     "base_uri": "https://localhost:8080/",
     "height": 425
    },
    "executionInfo": {
     "elapsed": 26,
     "status": "ok",
     "timestamp": 1685292589984,
     "user": {
      "displayName": "Aman Singh",
      "userId": "12858320181691589185"
     },
     "user_tz": -330
    },
    "id": "ek31M9kyBnK5",
    "outputId": "db60c6a6-2a44-444a-e4c9-404dc5092421"
   },
   "outputs": [
    {
     "data": {
      "text/html": [
       "<div>\n",
       "<style scoped>\n",
       "    .dataframe tbody tr th:only-of-type {\n",
       "        vertical-align: middle;\n",
       "    }\n",
       "\n",
       "    .dataframe tbody tr th {\n",
       "        vertical-align: top;\n",
       "    }\n",
       "\n",
       "    .dataframe thead th {\n",
       "        text-align: right;\n",
       "    }\n",
       "</style>\n",
       "<table border=\"1\" class=\"dataframe\">\n",
       "  <thead>\n",
       "    <tr style=\"text-align: right;\">\n",
       "      <th></th>\n",
       "      <th>Model_name</th>\n",
       "      <th>Accuracy_Score</th>\n",
       "      <th>Precision_Score</th>\n",
       "      <th>Recall_Score</th>\n",
       "    </tr>\n",
       "  </thead>\n",
       "  <tbody>\n",
       "    <tr>\n",
       "      <th>0</th>\n",
       "      <td>Logistic Regression</td>\n",
       "      <td>0.838819</td>\n",
       "      <td>0.838946</td>\n",
       "      <td>0.838771</td>\n",
       "    </tr>\n",
       "    <tr>\n",
       "      <th>1</th>\n",
       "      <td>Decision Tree: Entropy</td>\n",
       "      <td>0.798645</td>\n",
       "      <td>0.798719</td>\n",
       "      <td>0.798603</td>\n",
       "    </tr>\n",
       "    <tr>\n",
       "      <th>2</th>\n",
       "      <td>Decision Tree: Gini</td>\n",
       "      <td>0.802033</td>\n",
       "      <td>0.802056</td>\n",
       "      <td>0.802007</td>\n",
       "    </tr>\n",
       "    <tr>\n",
       "      <th>3</th>\n",
       "      <td>Decision Tree: GridSearchCV</td>\n",
       "      <td>0.82575</td>\n",
       "      <td>0.828083</td>\n",
       "      <td>0.825545</td>\n",
       "    </tr>\n",
       "    <tr>\n",
       "      <th>4</th>\n",
       "      <td>Random Forest</td>\n",
       "      <td>0.846079</td>\n",
       "      <td>0.846077</td>\n",
       "      <td>0.846085</td>\n",
       "    </tr>\n",
       "    <tr>\n",
       "      <th>5</th>\n",
       "      <td>Bagging Classifier</td>\n",
       "      <td>0.842691</td>\n",
       "      <td>0.842717</td>\n",
       "      <td>0.842713</td>\n",
       "    </tr>\n",
       "    <tr>\n",
       "      <th>6</th>\n",
       "      <td>Bagging Classifier: Random Forest</td>\n",
       "      <td>0.853824</td>\n",
       "      <td>0.853849</td>\n",
       "      <td>0.853802</td>\n",
       "    </tr>\n",
       "    <tr>\n",
       "      <th>7</th>\n",
       "      <td>AdaBoost</td>\n",
       "      <td>0.826234</td>\n",
       "      <td>0.831175</td>\n",
       "      <td>0.825937</td>\n",
       "    </tr>\n",
       "    <tr>\n",
       "      <th>8</th>\n",
       "      <td>SVM</td>\n",
       "      <td>0.835915</td>\n",
       "      <td>0.836016</td>\n",
       "      <td>0.835871</td>\n",
       "    </tr>\n",
       "  </tbody>\n",
       "</table>\n",
       "</div>"
      ],
      "text/plain": [
       "                          Model_name Accuracy_Score Precision_Score  \\\n",
       "0                Logistic Regression       0.838819        0.838946   \n",
       "1             Decision Tree: Entropy       0.798645        0.798719   \n",
       "2                Decision Tree: Gini       0.802033        0.802056   \n",
       "3        Decision Tree: GridSearchCV        0.82575        0.828083   \n",
       "4                      Random Forest       0.846079        0.846077   \n",
       "5                 Bagging Classifier       0.842691        0.842717   \n",
       "6  Bagging Classifier: Random Forest       0.853824        0.853849   \n",
       "7                           AdaBoost       0.826234        0.831175   \n",
       "8                                SVM       0.835915        0.836016   \n",
       "\n",
       "  Recall_Score  \n",
       "0     0.838771  \n",
       "1     0.798603  \n",
       "2     0.802007  \n",
       "3     0.825545  \n",
       "4     0.846085  \n",
       "5     0.842713  \n",
       "6     0.853802  \n",
       "7     0.825937  \n",
       "8     0.835871  "
      ]
     },
     "execution_count": 125,
     "metadata": {},
     "output_type": "execute_result"
    }
   ],
   "source": [
    "df112 = score_card(df110, 'SVM', ypred_svm, y_test) \n",
    "df112"
   ]
  },
  {
   "cell_type": "markdown",
   "metadata": {
    "id": "LwjERlzhBySv"
   },
   "source": [
    "# 13. Naive Bayes"
   ]
  },
  {
   "cell_type": "code",
   "execution_count": 126,
   "metadata": {
    "colab": {
     "base_uri": "https://localhost:8080/",
     "height": 466
    },
    "executionInfo": {
     "elapsed": 1340,
     "status": "ok",
     "timestamp": 1685292591302,
     "user": {
      "displayName": "Aman Singh",
      "userId": "12858320181691589185"
     },
     "user_tz": -330
    },
    "id": "dqYpgoKIB2fT",
    "outputId": "bddfa565-c8c7-4827-9e77-13a9e4fbb522"
   },
   "outputs": [
    {
     "data": {
      "text/plain": [
       "<sklearn.metrics._plot.confusion_matrix.ConfusionMatrixDisplay at 0x2a1ef504d00>"
      ]
     },
     "execution_count": 126,
     "metadata": {},
     "output_type": "execute_result"
    },
    {
     "data": {
      "image/png": "[encoded data removed]",
      "text/plain": [
       "<Figure size 432x288 with 2 Axes>"
      ]
     },
     "metadata": {
      "needs_background": "light"
     },
     "output_type": "display_data"
    }
   ],
   "source": [
    "bnb = BernoulliNB()\n",
    "model_bnb = bnb.fit(X_train, y_train)\n",
    "ypred_bnb = model_bnb.predict(X_test)\n",
    "cm_bnb = confusion_matrix(y_test, ypred_bnb)\n",
    "(ConfusionMatrixDisplay(confusion_matrix = cm_bnb, display_labels = ['Not Churn', 'Churn'])).plot()"
   ]
  },
  {
   "cell_type": "code",
   "execution_count": 127,
   "metadata": {
    "colab": {
     "base_uri": "https://localhost:8080/",
     "height": 457
    },
    "executionInfo": {
     "elapsed": 45,
     "status": "ok",
     "timestamp": 1685292591302,
     "user": {
      "displayName": "Aman Singh",
      "userId": "12858320181691589185"
     },
     "user_tz": -330
    },
    "id": "VeQr_yq3CXT6",
    "outputId": "57caef2a-bb26-4cb3-d3aa-4f483e23279e"
   },
   "outputs": [
    {
     "data": {
      "text/html": [
       "<div>\n",
       "<style scoped>\n",
       "    .dataframe tbody tr th:only-of-type {\n",
       "        vertical-align: middle;\n",
       "    }\n",
       "\n",
       "    .dataframe tbody tr th {\n",
       "        vertical-align: top;\n",
       "    }\n",
       "\n",
       "    .dataframe thead th {\n",
       "        text-align: right;\n",
       "    }\n",
       "</style>\n",
       "<table border=\"1\" class=\"dataframe\">\n",
       "  <thead>\n",
       "    <tr style=\"text-align: right;\">\n",
       "      <th></th>\n",
       "      <th>Model_name</th>\n",
       "      <th>Accuracy_Score</th>\n",
       "      <th>Precision_Score</th>\n",
       "      <th>Recall_Score</th>\n",
       "    </tr>\n",
       "  </thead>\n",
       "  <tbody>\n",
       "    <tr>\n",
       "      <th>0</th>\n",
       "      <td>Logistic Regression</td>\n",
       "      <td>0.838819</td>\n",
       "      <td>0.838946</td>\n",
       "      <td>0.838771</td>\n",
       "    </tr>\n",
       "    <tr>\n",
       "      <th>1</th>\n",
       "      <td>Decision Tree: Entropy</td>\n",
       "      <td>0.798645</td>\n",
       "      <td>0.798719</td>\n",
       "      <td>0.798603</td>\n",
       "    </tr>\n",
       "    <tr>\n",
       "      <th>2</th>\n",
       "      <td>Decision Tree: Gini</td>\n",
       "      <td>0.802033</td>\n",
       "      <td>0.802056</td>\n",
       "      <td>0.802007</td>\n",
       "    </tr>\n",
       "    <tr>\n",
       "      <th>3</th>\n",
       "      <td>Decision Tree: GridSearchCV</td>\n",
       "      <td>0.82575</td>\n",
       "      <td>0.828083</td>\n",
       "      <td>0.825545</td>\n",
       "    </tr>\n",
       "    <tr>\n",
       "      <th>4</th>\n",
       "      <td>Random Forest</td>\n",
       "      <td>0.846079</td>\n",
       "      <td>0.846077</td>\n",
       "      <td>0.846085</td>\n",
       "    </tr>\n",
       "    <tr>\n",
       "      <th>5</th>\n",
       "      <td>Bagging Classifier</td>\n",
       "      <td>0.842691</td>\n",
       "      <td>0.842717</td>\n",
       "      <td>0.842713</td>\n",
       "    </tr>\n",
       "    <tr>\n",
       "      <th>6</th>\n",
       "      <td>Bagging Classifier: Random Forest</td>\n",
       "      <td>0.853824</td>\n",
       "      <td>0.853849</td>\n",
       "      <td>0.853802</td>\n",
       "    </tr>\n",
       "    <tr>\n",
       "      <th>7</th>\n",
       "      <td>AdaBoost</td>\n",
       "      <td>0.826234</td>\n",
       "      <td>0.831175</td>\n",
       "      <td>0.825937</td>\n",
       "    </tr>\n",
       "    <tr>\n",
       "      <th>8</th>\n",
       "      <td>SVM</td>\n",
       "      <td>0.835915</td>\n",
       "      <td>0.836016</td>\n",
       "      <td>0.835871</td>\n",
       "    </tr>\n",
       "    <tr>\n",
       "      <th>9</th>\n",
       "      <td>Naive Bayes</td>\n",
       "      <td>0.800097</td>\n",
       "      <td>0.80091</td>\n",
       "      <td>0.799968</td>\n",
       "    </tr>\n",
       "  </tbody>\n",
       "</table>\n",
       "</div>"
      ],
      "text/plain": [
       "                          Model_name Accuracy_Score Precision_Score  \\\n",
       "0                Logistic Regression       0.838819        0.838946   \n",
       "1             Decision Tree: Entropy       0.798645        0.798719   \n",
       "2                Decision Tree: Gini       0.802033        0.802056   \n",
       "3        Decision Tree: GridSearchCV        0.82575        0.828083   \n",
       "4                      Random Forest       0.846079        0.846077   \n",
       "5                 Bagging Classifier       0.842691        0.842717   \n",
       "6  Bagging Classifier: Random Forest       0.853824        0.853849   \n",
       "7                           AdaBoost       0.826234        0.831175   \n",
       "8                                SVM       0.835915        0.836016   \n",
       "9                        Naive Bayes       0.800097         0.80091   \n",
       "\n",
       "  Recall_Score  \n",
       "0     0.838771  \n",
       "1     0.798603  \n",
       "2     0.802007  \n",
       "3     0.825545  \n",
       "4     0.846085  \n",
       "5     0.842713  \n",
       "6     0.853802  \n",
       "7     0.825937  \n",
       "8     0.835871  \n",
       "9     0.799968  "
      ]
     },
     "execution_count": 127,
     "metadata": {},
     "output_type": "execute_result"
    }
   ],
   "source": [
    "df113 = score_card(df112, 'Naive Bayes', ypred_bnb, y_test) \n",
    "df113"
   ]
  },
  {
   "cell_type": "markdown",
   "metadata": {
    "id": "YXxNQ-BiCqb1"
   },
   "source": [
    "# 14. KNeighbors Classifier"
   ]
  },
  {
   "cell_type": "code",
   "execution_count": 128,
   "metadata": {
    "colab": {
     "base_uri": "https://localhost:8080/",
     "height": 466
    },
    "executionInfo": {
     "elapsed": 42,
     "status": "ok",
     "timestamp": 1685292591303,
     "user": {
      "displayName": "Aman Singh",
      "userId": "12858320181691589185"
     },
     "user_tz": -330
    },
    "id": "Ty73kSQ_9uM0",
    "outputId": "bf4294a8-7f06-4372-d2c9-263807842ee6"
   },
   "outputs": [
    {
     "data": {
      "text/plain": [
       "<sklearn.metrics._plot.confusion_matrix.ConfusionMatrixDisplay at 0x2a1ef6429a0>"
      ]
     },
     "execution_count": 128,
     "metadata": {},
     "output_type": "execute_result"
    },
    {
     "data": {
      "image/png": "[encoded data removed]",
      "text/plain": [
       "<Figure size 432x288 with 2 Axes>"
      ]
     },
     "metadata": {
      "needs_background": "light"
     },
     "output_type": "display_data"
    }
   ],
   "source": [
    "knc = KNeighborsClassifier()\n",
    "model_knc = knc.fit(X_train, y_train)\n",
    "ypred_knc = model_knc.predict(X_test)\n",
    "cm_knc = confusion_matrix(y_test, ypred_knc)\n",
    "(ConfusionMatrixDisplay(confusion_matrix = cm_knc, display_labels = ['Not Churn', 'Churn'])).plot()"
   ]
  },
  {
   "cell_type": "code",
   "execution_count": 129,
   "metadata": {
    "colab": {
     "base_uri": "https://localhost:8080/",
     "height": 488
    },
    "executionInfo": {
     "elapsed": 21,
     "status": "ok",
     "timestamp": 1685292591303,
     "user": {
      "displayName": "Aman Singh",
      "userId": "12858320181691589185"
     },
     "user_tz": -330
    },
    "id": "kH3EO1Eu93xE",
    "outputId": "b41d365c-bd0f-40c9-b1d5-6141b2ab0c78"
   },
   "outputs": [
    {
     "data": {
      "text/html": [
       "<div>\n",
       "<style scoped>\n",
       "    .dataframe tbody tr th:only-of-type {\n",
       "        vertical-align: middle;\n",
       "    }\n",
       "\n",
       "    .dataframe tbody tr th {\n",
       "        vertical-align: top;\n",
       "    }\n",
       "\n",
       "    .dataframe thead th {\n",
       "        text-align: right;\n",
       "    }\n",
       "</style>\n",
       "<table border=\"1\" class=\"dataframe\">\n",
       "  <thead>\n",
       "    <tr style=\"text-align: right;\">\n",
       "      <th></th>\n",
       "      <th>Model_name</th>\n",
       "      <th>Accuracy_Score</th>\n",
       "      <th>Precision_Score</th>\n",
       "      <th>Recall_Score</th>\n",
       "    </tr>\n",
       "  </thead>\n",
       "  <tbody>\n",
       "    <tr>\n",
       "      <th>0</th>\n",
       "      <td>Logistic Regression</td>\n",
       "      <td>0.838819</td>\n",
       "      <td>0.838946</td>\n",
       "      <td>0.838771</td>\n",
       "    </tr>\n",
       "    <tr>\n",
       "      <th>1</th>\n",
       "      <td>Decision Tree: Entropy</td>\n",
       "      <td>0.798645</td>\n",
       "      <td>0.798719</td>\n",
       "      <td>0.798603</td>\n",
       "    </tr>\n",
       "    <tr>\n",
       "      <th>2</th>\n",
       "      <td>Decision Tree: Gini</td>\n",
       "      <td>0.802033</td>\n",
       "      <td>0.802056</td>\n",
       "      <td>0.802007</td>\n",
       "    </tr>\n",
       "    <tr>\n",
       "      <th>3</th>\n",
       "      <td>Decision Tree: GridSearchCV</td>\n",
       "      <td>0.82575</td>\n",
       "      <td>0.828083</td>\n",
       "      <td>0.825545</td>\n",
       "    </tr>\n",
       "    <tr>\n",
       "      <th>4</th>\n",
       "      <td>Random Forest</td>\n",
       "      <td>0.846079</td>\n",
       "      <td>0.846077</td>\n",
       "      <td>0.846085</td>\n",
       "    </tr>\n",
       "    <tr>\n",
       "      <th>5</th>\n",
       "      <td>Bagging Classifier</td>\n",
       "      <td>0.842691</td>\n",
       "      <td>0.842717</td>\n",
       "      <td>0.842713</td>\n",
       "    </tr>\n",
       "    <tr>\n",
       "      <th>6</th>\n",
       "      <td>Bagging Classifier: Random Forest</td>\n",
       "      <td>0.853824</td>\n",
       "      <td>0.853849</td>\n",
       "      <td>0.853802</td>\n",
       "    </tr>\n",
       "    <tr>\n",
       "      <th>7</th>\n",
       "      <td>AdaBoost</td>\n",
       "      <td>0.826234</td>\n",
       "      <td>0.831175</td>\n",
       "      <td>0.825937</td>\n",
       "    </tr>\n",
       "    <tr>\n",
       "      <th>8</th>\n",
       "      <td>SVM</td>\n",
       "      <td>0.835915</td>\n",
       "      <td>0.836016</td>\n",
       "      <td>0.835871</td>\n",
       "    </tr>\n",
       "    <tr>\n",
       "      <th>9</th>\n",
       "      <td>Naive Bayes</td>\n",
       "      <td>0.800097</td>\n",
       "      <td>0.80091</td>\n",
       "      <td>0.799968</td>\n",
       "    </tr>\n",
       "    <tr>\n",
       "      <th>10</th>\n",
       "      <td>KNeighbors Classifier</td>\n",
       "      <td>0.809293</td>\n",
       "      <td>0.811298</td>\n",
       "      <td>0.809097</td>\n",
       "    </tr>\n",
       "  </tbody>\n",
       "</table>\n",
       "</div>"
      ],
      "text/plain": [
       "                           Model_name Accuracy_Score Precision_Score  \\\n",
       "0                 Logistic Regression       0.838819        0.838946   \n",
       "1              Decision Tree: Entropy       0.798645        0.798719   \n",
       "2                 Decision Tree: Gini       0.802033        0.802056   \n",
       "3         Decision Tree: GridSearchCV        0.82575        0.828083   \n",
       "4                       Random Forest       0.846079        0.846077   \n",
       "5                  Bagging Classifier       0.842691        0.842717   \n",
       "6   Bagging Classifier: Random Forest       0.853824        0.853849   \n",
       "7                            AdaBoost       0.826234        0.831175   \n",
       "8                                 SVM       0.835915        0.836016   \n",
       "9                         Naive Bayes       0.800097         0.80091   \n",
       "10              KNeighbors Classifier       0.809293        0.811298   \n",
       "\n",
       "   Recall_Score  \n",
       "0      0.838771  \n",
       "1      0.798603  \n",
       "2      0.802007  \n",
       "3      0.825545  \n",
       "4      0.846085  \n",
       "5      0.842713  \n",
       "6      0.853802  \n",
       "7      0.825937  \n",
       "8      0.835871  \n",
       "9      0.799968  \n",
       "10     0.809097  "
      ]
     },
     "execution_count": 129,
     "metadata": {},
     "output_type": "execute_result"
    }
   ],
   "source": [
    "df114 = score_card(df113, 'KNeighbors Classifier', ypred_knc, y_test) \n",
    "df114"
   ]
  },
  {
   "cell_type": "markdown",
   "metadata": {
    "id": "ZJFv5WWZDJ-M"
   },
   "source": [
    "# 14. XGBoost"
   ]
  },
  {
   "cell_type": "code",
   "execution_count": 130,
   "metadata": {
    "colab": {
     "base_uri": "https://localhost:8080/",
     "height": 466
    },
    "executionInfo": {
     "elapsed": 3081,
     "status": "ok",
     "timestamp": 1685292594368,
     "user": {
      "displayName": "Aman Singh",
      "userId": "12858320181691589185"
     },
     "user_tz": -330
    },
    "id": "slekhBfoDM5R",
    "outputId": "20ecfe5d-2469-461a-e162-5ceee4259c36"
   },
   "outputs": [
    {
     "data": {
      "text/plain": [
       "<sklearn.metrics._plot.confusion_matrix.ConfusionMatrixDisplay at 0x2a1ef5ad820>"
      ]
     },
     "execution_count": 130,
     "metadata": {},
     "output_type": "execute_result"
    },
    {
     "data": {
      "image/png": "[encoded data removed]",
      "text/plain": [
       "<Figure size 432x288 with 2 Axes>"
      ]
     },
     "metadata": {
      "needs_background": "light"
     },
     "output_type": "display_data"
    }
   ],
   "source": [
    "xgb = XGBClassifier(n_estimators = 80, random_state = 102)\n",
    "model_xgb = xgb.fit(X_train, y_train)\n",
    "ypred_xgb = model_xgb.predict(X_test)\n",
    "cm_xgb = confusion_matrix(y_test, ypred_xgb)\n",
    "(ConfusionMatrixDisplay(confusion_matrix = cm_xgb, display_labels = ['Not Churn', 'Churn'])).plot()"
   ]
  },
  {
   "cell_type": "code",
   "execution_count": 131,
   "metadata": {
    "colab": {
     "base_uri": "https://localhost:8080/",
     "height": 519
    },
    "executionInfo": {
     "elapsed": 45,
     "status": "ok",
     "timestamp": 1685292594368,
     "user": {
      "displayName": "Aman Singh",
      "userId": "12858320181691589185"
     },
     "user_tz": -330
    },
    "id": "57LmcBKKDQP-",
    "outputId": "91165360-5470-4d3b-f7e6-2938766d9863"
   },
   "outputs": [
    {
     "data": {
      "text/html": [
       "<div>\n",
       "<style scoped>\n",
       "    .dataframe tbody tr th:only-of-type {\n",
       "        vertical-align: middle;\n",
       "    }\n",
       "\n",
       "    .dataframe tbody tr th {\n",
       "        vertical-align: top;\n",
       "    }\n",
       "\n",
       "    .dataframe thead th {\n",
       "        text-align: right;\n",
       "    }\n",
       "</style>\n",
       "<table border=\"1\" class=\"dataframe\">\n",
       "  <thead>\n",
       "    <tr style=\"text-align: right;\">\n",
       "      <th></th>\n",
       "      <th>Model_name</th>\n",
       "      <th>Accuracy_Score</th>\n",
       "      <th>Precision_Score</th>\n",
       "      <th>Recall_Score</th>\n",
       "    </tr>\n",
       "  </thead>\n",
       "  <tbody>\n",
       "    <tr>\n",
       "      <th>0</th>\n",
       "      <td>Logistic Regression</td>\n",
       "      <td>0.838819</td>\n",
       "      <td>0.838946</td>\n",
       "      <td>0.838771</td>\n",
       "    </tr>\n",
       "    <tr>\n",
       "      <th>1</th>\n",
       "      <td>Decision Tree: Entropy</td>\n",
       "      <td>0.798645</td>\n",
       "      <td>0.798719</td>\n",
       "      <td>0.798603</td>\n",
       "    </tr>\n",
       "    <tr>\n",
       "      <th>2</th>\n",
       "      <td>Decision Tree: Gini</td>\n",
       "      <td>0.802033</td>\n",
       "      <td>0.802056</td>\n",
       "      <td>0.802007</td>\n",
       "    </tr>\n",
       "    <tr>\n",
       "      <th>3</th>\n",
       "      <td>Decision Tree: GridSearchCV</td>\n",
       "      <td>0.82575</td>\n",
       "      <td>0.828083</td>\n",
       "      <td>0.825545</td>\n",
       "    </tr>\n",
       "    <tr>\n",
       "      <th>4</th>\n",
       "      <td>Random Forest</td>\n",
       "      <td>0.846079</td>\n",
       "      <td>0.846077</td>\n",
       "      <td>0.846085</td>\n",
       "    </tr>\n",
       "    <tr>\n",
       "      <th>5</th>\n",
       "      <td>Bagging Classifier</td>\n",
       "      <td>0.842691</td>\n",
       "      <td>0.842717</td>\n",
       "      <td>0.842713</td>\n",
       "    </tr>\n",
       "    <tr>\n",
       "      <th>6</th>\n",
       "      <td>Bagging Classifier: Random Forest</td>\n",
       "      <td>0.853824</td>\n",
       "      <td>0.853849</td>\n",
       "      <td>0.853802</td>\n",
       "    </tr>\n",
       "    <tr>\n",
       "      <th>7</th>\n",
       "      <td>AdaBoost</td>\n",
       "      <td>0.826234</td>\n",
       "      <td>0.831175</td>\n",
       "      <td>0.825937</td>\n",
       "    </tr>\n",
       "    <tr>\n",
       "      <th>8</th>\n",
       "      <td>SVM</td>\n",
       "      <td>0.835915</td>\n",
       "      <td>0.836016</td>\n",
       "      <td>0.835871</td>\n",
       "    </tr>\n",
       "    <tr>\n",
       "      <th>9</th>\n",
       "      <td>Naive Bayes</td>\n",
       "      <td>0.800097</td>\n",
       "      <td>0.80091</td>\n",
       "      <td>0.799968</td>\n",
       "    </tr>\n",
       "    <tr>\n",
       "      <th>10</th>\n",
       "      <td>KNeighbors Classifier</td>\n",
       "      <td>0.809293</td>\n",
       "      <td>0.811298</td>\n",
       "      <td>0.809097</td>\n",
       "    </tr>\n",
       "    <tr>\n",
       "      <th>11</th>\n",
       "      <td>XGBoost Classifier</td>\n",
       "      <td>0.85092</td>\n",
       "      <td>0.850925</td>\n",
       "      <td>0.850907</td>\n",
       "    </tr>\n",
       "  </tbody>\n",
       "</table>\n",
       "</div>"
      ],
      "text/plain": [
       "                           Model_name Accuracy_Score Precision_Score  \\\n",
       "0                 Logistic Regression       0.838819        0.838946   \n",
       "1              Decision Tree: Entropy       0.798645        0.798719   \n",
       "2                 Decision Tree: Gini       0.802033        0.802056   \n",
       "3         Decision Tree: GridSearchCV        0.82575        0.828083   \n",
       "4                       Random Forest       0.846079        0.846077   \n",
       "5                  Bagging Classifier       0.842691        0.842717   \n",
       "6   Bagging Classifier: Random Forest       0.853824        0.853849   \n",
       "7                            AdaBoost       0.826234        0.831175   \n",
       "8                                 SVM       0.835915        0.836016   \n",
       "9                         Naive Bayes       0.800097         0.80091   \n",
       "10              KNeighbors Classifier       0.809293        0.811298   \n",
       "11                 XGBoost Classifier        0.85092        0.850925   \n",
       "\n",
       "   Recall_Score  \n",
       "0      0.838771  \n",
       "1      0.798603  \n",
       "2      0.802007  \n",
       "3      0.825545  \n",
       "4      0.846085  \n",
       "5      0.842713  \n",
       "6      0.853802  \n",
       "7      0.825937  \n",
       "8      0.835871  \n",
       "9      0.799968  \n",
       "10     0.809097  \n",
       "11     0.850907  "
      ]
     },
     "execution_count": 131,
     "metadata": {},
     "output_type": "execute_result"
    }
   ],
   "source": [
    "df115 = score_card(df114, 'XGBoost Classifier', ypred_xgb, y_test) \n",
    "df115"
   ]
  },
  {
   "cell_type": "markdown",
   "metadata": {
    "id": "HCWZVu25Er7l"
   },
   "source": [
    "* Since, we are getting best results from Bagging with RandomForest and XGBoost "
   ]
  },
  {
   "cell_type": "markdown",
   "metadata": {
    "id": "Lwh2FCyLKpHb"
   },
   "source": [
    "# * Exporting the model"
   ]
  },
  {
   "cell_type": "code",
   "execution_count": null,
   "metadata": {
    "id": "ETnvQQWAKub-"
   },
   "outputs": [],
   "source": [
    "pickle.dump(model_bg_rf, open('model.pkl', 'wb'))"
   ]
  }
 ],
 "metadata": {
  "colab": {
   "authorship_tag": "ABX9TyPjmlp1qzudVDiWDZ85VepL",
   "provenance": []
  },
  "kernelspec": {
   "display_name": "Python 3 (ipykernel)",
   "language": "python",
   "name": "python3"
  },
  "language_info": {
   "codemirror_mode": {
    "name": "ipython",
    "version": 3
   },
   "file_extension": ".py",
   "mimetype": "text/x-python",
   "name": "python",
   "nbconvert_exporter": "python",
   "pygments_lexer": "ipython3",
   "version": "3.9.12"
  }
 },
 "nbformat": 4,
 "nbformat_minor": 1
}
